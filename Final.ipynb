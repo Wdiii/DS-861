{
 "cells": [
  {
   "cell_type": "markdown",
   "metadata": {},
   "source": [
    "# DS 861 | Final Exam | Di Wang"
   ]
  },
  {
   "cell_type": "markdown",
   "metadata": {},
   "source": [
    "## Overview"
   ]
  },
  {
   "cell_type": "markdown",
   "metadata": {},
   "source": [
    "The data set consists of 20640 observations and 9 features, plus 1 dependent variable. The goal of this dataset is to use the predictors to predict the median house value (median house value). Each observation corresponds to a particular house."
   ]
  },
  {
   "cell_type": "markdown",
   "metadata": {},
   "source": [
    "### 1. Preprocess data:"
   ]
  },
  {
   "cell_type": "code",
   "execution_count": 1,
   "metadata": {},
   "outputs": [
    {
     "data": {
      "text/html": [
       "<div>\n",
       "<style scoped>\n",
       "    .dataframe tbody tr th:only-of-type {\n",
       "        vertical-align: middle;\n",
       "    }\n",
       "\n",
       "    .dataframe tbody tr th {\n",
       "        vertical-align: top;\n",
       "    }\n",
       "\n",
       "    .dataframe thead th {\n",
       "        text-align: right;\n",
       "    }\n",
       "</style>\n",
       "<table border=\"1\" class=\"dataframe\">\n",
       "  <thead>\n",
       "    <tr style=\"text-align: right;\">\n",
       "      <th></th>\n",
       "      <th>longitude</th>\n",
       "      <th>latitude</th>\n",
       "      <th>housing_median_age</th>\n",
       "      <th>total_rooms</th>\n",
       "      <th>total_bedrooms</th>\n",
       "      <th>population</th>\n",
       "      <th>households</th>\n",
       "      <th>median_income</th>\n",
       "      <th>median_house_value</th>\n",
       "      <th>ocean_proximity</th>\n",
       "    </tr>\n",
       "  </thead>\n",
       "  <tbody>\n",
       "    <tr>\n",
       "      <th>0</th>\n",
       "      <td>-122.23</td>\n",
       "      <td>37.88</td>\n",
       "      <td>41.0</td>\n",
       "      <td>880.0</td>\n",
       "      <td>129.0</td>\n",
       "      <td>322.0</td>\n",
       "      <td>126.0</td>\n",
       "      <td>8.3252</td>\n",
       "      <td>452600.0</td>\n",
       "      <td>NEAR BAY</td>\n",
       "    </tr>\n",
       "    <tr>\n",
       "      <th>1</th>\n",
       "      <td>-122.22</td>\n",
       "      <td>37.86</td>\n",
       "      <td>21.0</td>\n",
       "      <td>7099.0</td>\n",
       "      <td>1106.0</td>\n",
       "      <td>2401.0</td>\n",
       "      <td>1138.0</td>\n",
       "      <td>8.3014</td>\n",
       "      <td>358500.0</td>\n",
       "      <td>NEAR BAY</td>\n",
       "    </tr>\n",
       "    <tr>\n",
       "      <th>2</th>\n",
       "      <td>-122.24</td>\n",
       "      <td>37.85</td>\n",
       "      <td>52.0</td>\n",
       "      <td>1467.0</td>\n",
       "      <td>190.0</td>\n",
       "      <td>496.0</td>\n",
       "      <td>177.0</td>\n",
       "      <td>7.2574</td>\n",
       "      <td>352100.0</td>\n",
       "      <td>NEAR BAY</td>\n",
       "    </tr>\n",
       "    <tr>\n",
       "      <th>3</th>\n",
       "      <td>-122.25</td>\n",
       "      <td>37.85</td>\n",
       "      <td>52.0</td>\n",
       "      <td>1274.0</td>\n",
       "      <td>235.0</td>\n",
       "      <td>558.0</td>\n",
       "      <td>219.0</td>\n",
       "      <td>5.6431</td>\n",
       "      <td>341300.0</td>\n",
       "      <td>NEAR BAY</td>\n",
       "    </tr>\n",
       "    <tr>\n",
       "      <th>4</th>\n",
       "      <td>-122.25</td>\n",
       "      <td>37.85</td>\n",
       "      <td>52.0</td>\n",
       "      <td>1627.0</td>\n",
       "      <td>280.0</td>\n",
       "      <td>565.0</td>\n",
       "      <td>259.0</td>\n",
       "      <td>3.8462</td>\n",
       "      <td>342200.0</td>\n",
       "      <td>NEAR BAY</td>\n",
       "    </tr>\n",
       "  </tbody>\n",
       "</table>\n",
       "</div>"
      ],
      "text/plain": [
       "   longitude  latitude  housing_median_age  total_rooms  total_bedrooms  \\\n",
       "0    -122.23     37.88                41.0        880.0           129.0   \n",
       "1    -122.22     37.86                21.0       7099.0          1106.0   \n",
       "2    -122.24     37.85                52.0       1467.0           190.0   \n",
       "3    -122.25     37.85                52.0       1274.0           235.0   \n",
       "4    -122.25     37.85                52.0       1627.0           280.0   \n",
       "\n",
       "   population  households  median_income  median_house_value ocean_proximity  \n",
       "0       322.0       126.0         8.3252            452600.0        NEAR BAY  \n",
       "1      2401.0      1138.0         8.3014            358500.0        NEAR BAY  \n",
       "2       496.0       177.0         7.2574            352100.0        NEAR BAY  \n",
       "3       558.0       219.0         5.6431            341300.0        NEAR BAY  \n",
       "4       565.0       259.0         3.8462            342200.0        NEAR BAY  "
      ]
     },
     "execution_count": 1,
     "metadata": {},
     "output_type": "execute_result"
    }
   ],
   "source": [
    "#imput the dataset\n",
    "import pandas as pd\n",
    "House = pd.read_csv('housing.csv')\n",
    "House.head()"
   ]
  },
  {
   "cell_type": "code",
   "execution_count": 2,
   "metadata": {},
   "outputs": [
    {
     "data": {
      "text/plain": [
       "(20433, 10)"
      ]
     },
     "execution_count": 2,
     "metadata": {},
     "output_type": "execute_result"
    }
   ],
   "source": [
    "#delete the missing value\n",
    "House.dropna(inplace = True)\n",
    "House.shape \n",
    "#20433 observations and 9 features, 1 dependent variable"
   ]
  },
  {
   "cell_type": "markdown",
   "metadata": {},
   "source": [
    "### 2. Inferences:"
   ]
  },
  {
   "cell_type": "markdown",
   "metadata": {},
   "source": [
    "(a) Build a linear regression model using all features and all observations. Perform\n",
    "model diagnostics. Also, suggest potential transformation(s) to the variable(s)\n",
    "(provide evidence, and specify which variable(s) to transform). You do not need\n",
    "to refit the model."
   ]
  },
  {
   "cell_type": "code",
   "execution_count": 3,
   "metadata": {},
   "outputs": [],
   "source": [
    "#General import for question 2\n",
    "import matplotlib.pyplot as plt\n",
    "%matplotlib inline\n",
    "import numpy as np\n",
    "import statsmodels.api as sm\n",
    "import warnings # Suppress warnings because they are annoying\n",
    "warnings.filterwarnings('ignore') "
   ]
  },
  {
   "cell_type": "code",
   "execution_count": 4,
   "metadata": {},
   "outputs": [
    {
     "data": {
      "text/html": [
       "<div>\n",
       "<style scoped>\n",
       "    .dataframe tbody tr th:only-of-type {\n",
       "        vertical-align: middle;\n",
       "    }\n",
       "\n",
       "    .dataframe tbody tr th {\n",
       "        vertical-align: top;\n",
       "    }\n",
       "\n",
       "    .dataframe thead th {\n",
       "        text-align: right;\n",
       "    }\n",
       "</style>\n",
       "<table border=\"1\" class=\"dataframe\">\n",
       "  <thead>\n",
       "    <tr style=\"text-align: right;\">\n",
       "      <th></th>\n",
       "      <th>longitude</th>\n",
       "      <th>latitude</th>\n",
       "      <th>housing_median_age</th>\n",
       "      <th>total_rooms</th>\n",
       "      <th>total_bedrooms</th>\n",
       "      <th>population</th>\n",
       "      <th>households</th>\n",
       "      <th>median_income</th>\n",
       "      <th>median_house_value</th>\n",
       "      <th>oce_pro_INLAND</th>\n",
       "      <th>oce_pro_ISLAND</th>\n",
       "      <th>oce_pro_NEAR BAY</th>\n",
       "      <th>oce_pro_NEAR OCEAN</th>\n",
       "    </tr>\n",
       "  </thead>\n",
       "  <tbody>\n",
       "    <tr>\n",
       "      <th>0</th>\n",
       "      <td>-122.23</td>\n",
       "      <td>37.88</td>\n",
       "      <td>41.0</td>\n",
       "      <td>880.0</td>\n",
       "      <td>129.0</td>\n",
       "      <td>322.0</td>\n",
       "      <td>126.0</td>\n",
       "      <td>8.3252</td>\n",
       "      <td>452600.0</td>\n",
       "      <td>0</td>\n",
       "      <td>0</td>\n",
       "      <td>1</td>\n",
       "      <td>0</td>\n",
       "    </tr>\n",
       "    <tr>\n",
       "      <th>1</th>\n",
       "      <td>-122.22</td>\n",
       "      <td>37.86</td>\n",
       "      <td>21.0</td>\n",
       "      <td>7099.0</td>\n",
       "      <td>1106.0</td>\n",
       "      <td>2401.0</td>\n",
       "      <td>1138.0</td>\n",
       "      <td>8.3014</td>\n",
       "      <td>358500.0</td>\n",
       "      <td>0</td>\n",
       "      <td>0</td>\n",
       "      <td>1</td>\n",
       "      <td>0</td>\n",
       "    </tr>\n",
       "    <tr>\n",
       "      <th>2</th>\n",
       "      <td>-122.24</td>\n",
       "      <td>37.85</td>\n",
       "      <td>52.0</td>\n",
       "      <td>1467.0</td>\n",
       "      <td>190.0</td>\n",
       "      <td>496.0</td>\n",
       "      <td>177.0</td>\n",
       "      <td>7.2574</td>\n",
       "      <td>352100.0</td>\n",
       "      <td>0</td>\n",
       "      <td>0</td>\n",
       "      <td>1</td>\n",
       "      <td>0</td>\n",
       "    </tr>\n",
       "    <tr>\n",
       "      <th>3</th>\n",
       "      <td>-122.25</td>\n",
       "      <td>37.85</td>\n",
       "      <td>52.0</td>\n",
       "      <td>1274.0</td>\n",
       "      <td>235.0</td>\n",
       "      <td>558.0</td>\n",
       "      <td>219.0</td>\n",
       "      <td>5.6431</td>\n",
       "      <td>341300.0</td>\n",
       "      <td>0</td>\n",
       "      <td>0</td>\n",
       "      <td>1</td>\n",
       "      <td>0</td>\n",
       "    </tr>\n",
       "    <tr>\n",
       "      <th>4</th>\n",
       "      <td>-122.25</td>\n",
       "      <td>37.85</td>\n",
       "      <td>52.0</td>\n",
       "      <td>1627.0</td>\n",
       "      <td>280.0</td>\n",
       "      <td>565.0</td>\n",
       "      <td>259.0</td>\n",
       "      <td>3.8462</td>\n",
       "      <td>342200.0</td>\n",
       "      <td>0</td>\n",
       "      <td>0</td>\n",
       "      <td>1</td>\n",
       "      <td>0</td>\n",
       "    </tr>\n",
       "  </tbody>\n",
       "</table>\n",
       "</div>"
      ],
      "text/plain": [
       "   longitude  latitude  housing_median_age  total_rooms  total_bedrooms  \\\n",
       "0    -122.23     37.88                41.0        880.0           129.0   \n",
       "1    -122.22     37.86                21.0       7099.0          1106.0   \n",
       "2    -122.24     37.85                52.0       1467.0           190.0   \n",
       "3    -122.25     37.85                52.0       1274.0           235.0   \n",
       "4    -122.25     37.85                52.0       1627.0           280.0   \n",
       "\n",
       "   population  households  median_income  median_house_value  oce_pro_INLAND  \\\n",
       "0       322.0       126.0         8.3252            452600.0               0   \n",
       "1      2401.0      1138.0         8.3014            358500.0               0   \n",
       "2       496.0       177.0         7.2574            352100.0               0   \n",
       "3       558.0       219.0         5.6431            341300.0               0   \n",
       "4       565.0       259.0         3.8462            342200.0               0   \n",
       "\n",
       "   oce_pro_ISLAND  oce_pro_NEAR BAY  oce_pro_NEAR OCEAN  \n",
       "0               0                 1                   0  \n",
       "1               0                 1                   0  \n",
       "2               0                 1                   0  \n",
       "3               0                 1                   0  \n",
       "4               0                 1                   0  "
      ]
     },
     "execution_count": 4,
     "metadata": {},
     "output_type": "execute_result"
    }
   ],
   "source": [
    "#create dummy variables for ocean_proximity \n",
    "ocean_pro_dummy  = pd.get_dummies(House['ocean_proximity'], prefix = 'oce_pro',drop_first=True)\n",
    "del House['ocean_proximity']\n",
    "House = pd.concat([House, ocean_pro_dummy], axis=1)\n",
    "House.head()"
   ]
  },
  {
   "cell_type": "code",
   "execution_count": 5,
   "metadata": {},
   "outputs": [],
   "source": [
    "#define X and y\n",
    "X1 = House.copy()\n",
    "X1.drop(\"median_house_value\", inplace = True, axis = 1)\n",
    "y1 = House[\"median_house_value\"]"
   ]
  },
  {
   "cell_type": "code",
   "execution_count": 6,
   "metadata": {
    "scrolled": true
   },
   "outputs": [
    {
     "data": {
      "text/html": [
       "<table class=\"simpletable\">\n",
       "<caption>OLS Regression Results</caption>\n",
       "<tr>\n",
       "  <th>Dep. Variable:</th>    <td>median_house_value</td> <th>  R-squared:         </th>  <td>   0.646</td>  \n",
       "</tr>\n",
       "<tr>\n",
       "  <th>Model:</th>                    <td>OLS</td>        <th>  Adj. R-squared:    </th>  <td>   0.646</td>  \n",
       "</tr>\n",
       "<tr>\n",
       "  <th>Method:</th>              <td>Least Squares</td>   <th>  F-statistic:       </th>  <td>   3112.</td>  \n",
       "</tr>\n",
       "<tr>\n",
       "  <th>Date:</th>              <td>Tue, 19 May 2020</td>  <th>  Prob (F-statistic):</th>   <td>  0.00</td>   \n",
       "</tr>\n",
       "<tr>\n",
       "  <th>Time:</th>                  <td>16:29:36</td>      <th>  Log-Likelihood:    </th> <td>-2.5655e+05</td>\n",
       "</tr>\n",
       "<tr>\n",
       "  <th>No. Observations:</th>       <td> 20433</td>       <th>  AIC:               </th>  <td>5.131e+05</td> \n",
       "</tr>\n",
       "<tr>\n",
       "  <th>Df Residuals:</th>           <td> 20420</td>       <th>  BIC:               </th>  <td>5.132e+05</td> \n",
       "</tr>\n",
       "<tr>\n",
       "  <th>Df Model:</th>               <td>    12</td>       <th>                     </th>      <td> </td>     \n",
       "</tr>\n",
       "<tr>\n",
       "  <th>Covariance Type:</th>       <td>nonrobust</td>     <th>                     </th>      <td> </td>     \n",
       "</tr>\n",
       "</table>\n",
       "<table class=\"simpletable\">\n",
       "<tr>\n",
       "           <td></td>             <th>coef</th>     <th>std err</th>      <th>t</th>      <th>P>|t|</th>  <th>[0.025</th>    <th>0.975]</th>  \n",
       "</tr>\n",
       "<tr>\n",
       "  <th>const</th>              <td> -2.27e+06</td> <td>  8.8e+04</td> <td>  -25.791</td> <td> 0.000</td> <td>-2.44e+06</td> <td> -2.1e+06</td>\n",
       "</tr>\n",
       "<tr>\n",
       "  <th>longitude</th>          <td>-2.681e+04</td> <td> 1019.651</td> <td>  -26.296</td> <td> 0.000</td> <td>-2.88e+04</td> <td>-2.48e+04</td>\n",
       "</tr>\n",
       "<tr>\n",
       "  <th>latitude</th>           <td>-2.548e+04</td> <td> 1004.702</td> <td>  -25.363</td> <td> 0.000</td> <td>-2.75e+04</td> <td>-2.35e+04</td>\n",
       "</tr>\n",
       "<tr>\n",
       "  <th>housing_median_age</th> <td> 1072.5200</td> <td>   43.886</td> <td>   24.439</td> <td> 0.000</td> <td>  986.501</td> <td> 1158.540</td>\n",
       "</tr>\n",
       "<tr>\n",
       "  <th>total_rooms</th>        <td>   -6.1933</td> <td>    0.791</td> <td>   -7.825</td> <td> 0.000</td> <td>   -7.745</td> <td>   -4.642</td>\n",
       "</tr>\n",
       "<tr>\n",
       "  <th>total_bedrooms</th>     <td>  100.5563</td> <td>    6.869</td> <td>   14.640</td> <td> 0.000</td> <td>   87.093</td> <td>  114.019</td>\n",
       "</tr>\n",
       "<tr>\n",
       "  <th>population</th>         <td>  -37.9691</td> <td>    1.076</td> <td>  -35.282</td> <td> 0.000</td> <td>  -40.078</td> <td>  -35.860</td>\n",
       "</tr>\n",
       "<tr>\n",
       "  <th>households</th>         <td>   49.6173</td> <td>    7.451</td> <td>    6.659</td> <td> 0.000</td> <td>   35.012</td> <td>   64.222</td>\n",
       "</tr>\n",
       "<tr>\n",
       "  <th>median_income</th>      <td> 3.926e+04</td> <td>  338.005</td> <td>  116.151</td> <td> 0.000</td> <td> 3.86e+04</td> <td> 3.99e+04</td>\n",
       "</tr>\n",
       "<tr>\n",
       "  <th>oce_pro_INLAND</th>     <td>-3.928e+04</td> <td> 1744.258</td> <td>  -22.522</td> <td> 0.000</td> <td>-4.27e+04</td> <td>-3.59e+04</td>\n",
       "</tr>\n",
       "<tr>\n",
       "  <th>oce_pro_ISLAND</th>     <td> 1.529e+05</td> <td> 3.07e+04</td> <td>    4.974</td> <td> 0.000</td> <td> 9.26e+04</td> <td> 2.13e+05</td>\n",
       "</tr>\n",
       "<tr>\n",
       "  <th>oce_pro_NEAR BAY</th>   <td>-3954.0516</td> <td> 1913.339</td> <td>   -2.067</td> <td> 0.039</td> <td>-7704.350</td> <td> -203.753</td>\n",
       "</tr>\n",
       "<tr>\n",
       "  <th>oce_pro_NEAR OCEAN</th> <td> 4278.1343</td> <td> 1569.525</td> <td>    2.726</td> <td> 0.006</td> <td> 1201.739</td> <td> 7354.530</td>\n",
       "</tr>\n",
       "</table>\n",
       "<table class=\"simpletable\">\n",
       "<tr>\n",
       "  <th>Omnibus:</th>       <td>5049.292</td> <th>  Durbin-Watson:     </th> <td>   0.977</td> \n",
       "</tr>\n",
       "<tr>\n",
       "  <th>Prob(Omnibus):</th>  <td> 0.000</td>  <th>  Jarque-Bera (JB):  </th> <td>19123.138</td>\n",
       "</tr>\n",
       "<tr>\n",
       "  <th>Skew:</th>           <td> 1.197</td>  <th>  Prob(JB):          </th> <td>    0.00</td> \n",
       "</tr>\n",
       "<tr>\n",
       "  <th>Kurtosis:</th>       <td> 7.090</td>  <th>  Cond. No.          </th> <td>7.24e+05</td> \n",
       "</tr>\n",
       "</table><br/><br/>Warnings:<br/>[1] Standard Errors assume that the covariance matrix of the errors is correctly specified.<br/>[2] The condition number is large, 7.24e+05. This might indicate that there are<br/>strong multicollinearity or other numerical problems."
      ],
      "text/plain": [
       "<class 'statsmodels.iolib.summary.Summary'>\n",
       "\"\"\"\n",
       "                            OLS Regression Results                            \n",
       "==============================================================================\n",
       "Dep. Variable:     median_house_value   R-squared:                       0.646\n",
       "Model:                            OLS   Adj. R-squared:                  0.646\n",
       "Method:                 Least Squares   F-statistic:                     3112.\n",
       "Date:                Tue, 19 May 2020   Prob (F-statistic):               0.00\n",
       "Time:                        16:29:36   Log-Likelihood:            -2.5655e+05\n",
       "No. Observations:               20433   AIC:                         5.131e+05\n",
       "Df Residuals:                   20420   BIC:                         5.132e+05\n",
       "Df Model:                          12                                         \n",
       "Covariance Type:            nonrobust                                         \n",
       "======================================================================================\n",
       "                         coef    std err          t      P>|t|      [0.025      0.975]\n",
       "--------------------------------------------------------------------------------------\n",
       "const               -2.27e+06    8.8e+04    -25.791      0.000   -2.44e+06    -2.1e+06\n",
       "longitude          -2.681e+04   1019.651    -26.296      0.000   -2.88e+04   -2.48e+04\n",
       "latitude           -2.548e+04   1004.702    -25.363      0.000   -2.75e+04   -2.35e+04\n",
       "housing_median_age  1072.5200     43.886     24.439      0.000     986.501    1158.540\n",
       "total_rooms           -6.1933      0.791     -7.825      0.000      -7.745      -4.642\n",
       "total_bedrooms       100.5563      6.869     14.640      0.000      87.093     114.019\n",
       "population           -37.9691      1.076    -35.282      0.000     -40.078     -35.860\n",
       "households            49.6173      7.451      6.659      0.000      35.012      64.222\n",
       "median_income       3.926e+04    338.005    116.151      0.000    3.86e+04    3.99e+04\n",
       "oce_pro_INLAND     -3.928e+04   1744.258    -22.522      0.000   -4.27e+04   -3.59e+04\n",
       "oce_pro_ISLAND      1.529e+05   3.07e+04      4.974      0.000    9.26e+04    2.13e+05\n",
       "oce_pro_NEAR BAY   -3954.0516   1913.339     -2.067      0.039   -7704.350    -203.753\n",
       "oce_pro_NEAR OCEAN  4278.1343   1569.525      2.726      0.006    1201.739    7354.530\n",
       "==============================================================================\n",
       "Omnibus:                     5049.292   Durbin-Watson:                   0.977\n",
       "Prob(Omnibus):                  0.000   Jarque-Bera (JB):            19123.138\n",
       "Skew:                           1.197   Prob(JB):                         0.00\n",
       "Kurtosis:                       7.090   Cond. No.                     7.24e+05\n",
       "==============================================================================\n",
       "\n",
       "Warnings:\n",
       "[1] Standard Errors assume that the covariance matrix of the errors is correctly specified.\n",
       "[2] The condition number is large, 7.24e+05. This might indicate that there are\n",
       "strong multicollinearity or other numerical problems.\n",
       "\"\"\""
      ]
     },
     "execution_count": 6,
     "metadata": {},
     "output_type": "execute_result"
    }
   ],
   "source": [
    "X1_con = sm.add_constant(X1)\n",
    "lr = sm.OLS(y1, X1_con).fit()\n",
    "lr.summary()"
   ]
  },
  {
   "cell_type": "code",
   "execution_count": 7,
   "metadata": {},
   "outputs": [
    {
     "data": {
      "image/png": "[encoded data removed]",
      "text/plain": [
       "<Figure size 432x288 with 1 Axes>"
      ]
     },
     "metadata": {
      "needs_background": "light"
     },
     "output_type": "display_data"
    }
   ],
   "source": [
    "# Model Assessment\n",
    "plt.scatter(lr.fittedvalues, lr.resid) #Residual vs fitted value plot\n",
    "plt.xlabel('Fitted Values')\n",
    "plt.ylabel('Residuals')\n",
    "plt.title('Residuals vs Fitted Values')\n",
    "plt.show() \n",
    "#We can see some outliers, and pattern in residual plot."
   ]
  },
  {
   "cell_type": "code",
   "execution_count": 8,
   "metadata": {},
   "outputs": [
    {
     "data": {
      "image/png": "[encoded data removed]",
      "text/plain": [
       "<Figure size 432x288 with 1 Axes>"
      ]
     },
     "metadata": {
      "needs_background": "light"
     },
     "output_type": "display_data"
    }
   ],
   "source": [
    "fig = sm.qqplot(lr.resid) #QQ Plot\n",
    "#it shows a very slight curvature"
   ]
  },
  {
   "cell_type": "code",
   "execution_count": 9,
   "metadata": {},
   "outputs": [
    {
     "data": {
      "text/plain": [
       "(array([8., 2., 0., 0., 0., 1., 0., 0., 0., 1.]),\n",
       " array([1.56414287e-02, 2.18541034e+02, 4.37066427e+02, 6.55591819e+02,\n",
       "        8.74117212e+02, 1.09264260e+03, 1.31116800e+03, 1.52969339e+03,\n",
       "        1.74821878e+03, 1.96674417e+03, 2.18526957e+03]),\n",
       " <a list of 10 Patch objects>)"
      ]
     },
     "execution_count": 9,
     "metadata": {},
     "output_type": "execute_result"
    },
    {
     "data": {
      "image/png": "[encoded data removed]",
      "text/plain": [
       "<Figure size 432x288 with 1 Axes>"
      ]
     },
     "metadata": {
      "needs_background": "light"
     },
     "output_type": "display_data"
    }
   ],
   "source": [
    "#check the veriable standard deviation\n",
    "plt.hist(X1.std())"
   ]
  },
  {
   "cell_type": "markdown",
   "metadata": {},
   "source": [
    "Currently, the coefficients of the variables are quite different, from -6.19 to 1.5e+05. Therefore, we may need to standardize the variables. The potential transformations includes: longitude, latitude, median_income, and dummy variable ocean_proximity. "
   ]
  },
  {
   "cell_type": "markdown",
   "metadata": {},
   "source": [
    "(b) Create a new variable called median house category. This variable consists of 0\n",
    "and 1, where 0 if median house value is less than or equal to it's median value,\n",
    "and 1 otherwise."
   ]
  },
  {
   "cell_type": "code",
   "execution_count": 10,
   "metadata": {},
   "outputs": [
    {
     "data": {
      "text/html": [
       "<div>\n",
       "<style scoped>\n",
       "    .dataframe tbody tr th:only-of-type {\n",
       "        vertical-align: middle;\n",
       "    }\n",
       "\n",
       "    .dataframe tbody tr th {\n",
       "        vertical-align: top;\n",
       "    }\n",
       "\n",
       "    .dataframe thead th {\n",
       "        text-align: right;\n",
       "    }\n",
       "</style>\n",
       "<table border=\"1\" class=\"dataframe\">\n",
       "  <thead>\n",
       "    <tr style=\"text-align: right;\">\n",
       "      <th></th>\n",
       "      <th>longitude</th>\n",
       "      <th>latitude</th>\n",
       "      <th>housing_median_age</th>\n",
       "      <th>total_rooms</th>\n",
       "      <th>total_bedrooms</th>\n",
       "      <th>population</th>\n",
       "      <th>households</th>\n",
       "      <th>median_income</th>\n",
       "      <th>median_house_value</th>\n",
       "      <th>oce_pro_INLAND</th>\n",
       "      <th>oce_pro_ISLAND</th>\n",
       "      <th>oce_pro_NEAR BAY</th>\n",
       "      <th>oce_pro_NEAR OCEAN</th>\n",
       "      <th>MedianHouseCategory</th>\n",
       "    </tr>\n",
       "  </thead>\n",
       "  <tbody>\n",
       "    <tr>\n",
       "      <th>0</th>\n",
       "      <td>-122.23</td>\n",
       "      <td>37.88</td>\n",
       "      <td>41.0</td>\n",
       "      <td>880.0</td>\n",
       "      <td>129.0</td>\n",
       "      <td>322.0</td>\n",
       "      <td>126.0</td>\n",
       "      <td>8.3252</td>\n",
       "      <td>452600.0</td>\n",
       "      <td>0</td>\n",
       "      <td>0</td>\n",
       "      <td>1</td>\n",
       "      <td>0</td>\n",
       "      <td>1</td>\n",
       "    </tr>\n",
       "    <tr>\n",
       "      <th>1</th>\n",
       "      <td>-122.22</td>\n",
       "      <td>37.86</td>\n",
       "      <td>21.0</td>\n",
       "      <td>7099.0</td>\n",
       "      <td>1106.0</td>\n",
       "      <td>2401.0</td>\n",
       "      <td>1138.0</td>\n",
       "      <td>8.3014</td>\n",
       "      <td>358500.0</td>\n",
       "      <td>0</td>\n",
       "      <td>0</td>\n",
       "      <td>1</td>\n",
       "      <td>0</td>\n",
       "      <td>1</td>\n",
       "    </tr>\n",
       "    <tr>\n",
       "      <th>2</th>\n",
       "      <td>-122.24</td>\n",
       "      <td>37.85</td>\n",
       "      <td>52.0</td>\n",
       "      <td>1467.0</td>\n",
       "      <td>190.0</td>\n",
       "      <td>496.0</td>\n",
       "      <td>177.0</td>\n",
       "      <td>7.2574</td>\n",
       "      <td>352100.0</td>\n",
       "      <td>0</td>\n",
       "      <td>0</td>\n",
       "      <td>1</td>\n",
       "      <td>0</td>\n",
       "      <td>1</td>\n",
       "    </tr>\n",
       "    <tr>\n",
       "      <th>3</th>\n",
       "      <td>-122.25</td>\n",
       "      <td>37.85</td>\n",
       "      <td>52.0</td>\n",
       "      <td>1274.0</td>\n",
       "      <td>235.0</td>\n",
       "      <td>558.0</td>\n",
       "      <td>219.0</td>\n",
       "      <td>5.6431</td>\n",
       "      <td>341300.0</td>\n",
       "      <td>0</td>\n",
       "      <td>0</td>\n",
       "      <td>1</td>\n",
       "      <td>0</td>\n",
       "      <td>1</td>\n",
       "    </tr>\n",
       "    <tr>\n",
       "      <th>4</th>\n",
       "      <td>-122.25</td>\n",
       "      <td>37.85</td>\n",
       "      <td>52.0</td>\n",
       "      <td>1627.0</td>\n",
       "      <td>280.0</td>\n",
       "      <td>565.0</td>\n",
       "      <td>259.0</td>\n",
       "      <td>3.8462</td>\n",
       "      <td>342200.0</td>\n",
       "      <td>0</td>\n",
       "      <td>0</td>\n",
       "      <td>1</td>\n",
       "      <td>0</td>\n",
       "      <td>1</td>\n",
       "    </tr>\n",
       "    <tr>\n",
       "      <th>5</th>\n",
       "      <td>-122.25</td>\n",
       "      <td>37.85</td>\n",
       "      <td>52.0</td>\n",
       "      <td>919.0</td>\n",
       "      <td>213.0</td>\n",
       "      <td>413.0</td>\n",
       "      <td>193.0</td>\n",
       "      <td>4.0368</td>\n",
       "      <td>269700.0</td>\n",
       "      <td>0</td>\n",
       "      <td>0</td>\n",
       "      <td>1</td>\n",
       "      <td>0</td>\n",
       "      <td>1</td>\n",
       "    </tr>\n",
       "    <tr>\n",
       "      <th>6</th>\n",
       "      <td>-122.25</td>\n",
       "      <td>37.84</td>\n",
       "      <td>52.0</td>\n",
       "      <td>2535.0</td>\n",
       "      <td>489.0</td>\n",
       "      <td>1094.0</td>\n",
       "      <td>514.0</td>\n",
       "      <td>3.6591</td>\n",
       "      <td>299200.0</td>\n",
       "      <td>0</td>\n",
       "      <td>0</td>\n",
       "      <td>1</td>\n",
       "      <td>0</td>\n",
       "      <td>1</td>\n",
       "    </tr>\n",
       "    <tr>\n",
       "      <th>7</th>\n",
       "      <td>-122.25</td>\n",
       "      <td>37.84</td>\n",
       "      <td>52.0</td>\n",
       "      <td>3104.0</td>\n",
       "      <td>687.0</td>\n",
       "      <td>1157.0</td>\n",
       "      <td>647.0</td>\n",
       "      <td>3.1200</td>\n",
       "      <td>241400.0</td>\n",
       "      <td>0</td>\n",
       "      <td>0</td>\n",
       "      <td>1</td>\n",
       "      <td>0</td>\n",
       "      <td>1</td>\n",
       "    </tr>\n",
       "    <tr>\n",
       "      <th>8</th>\n",
       "      <td>-122.26</td>\n",
       "      <td>37.84</td>\n",
       "      <td>42.0</td>\n",
       "      <td>2555.0</td>\n",
       "      <td>665.0</td>\n",
       "      <td>1206.0</td>\n",
       "      <td>595.0</td>\n",
       "      <td>2.0804</td>\n",
       "      <td>226700.0</td>\n",
       "      <td>0</td>\n",
       "      <td>0</td>\n",
       "      <td>1</td>\n",
       "      <td>0</td>\n",
       "      <td>1</td>\n",
       "    </tr>\n",
       "    <tr>\n",
       "      <th>9</th>\n",
       "      <td>-122.25</td>\n",
       "      <td>37.84</td>\n",
       "      <td>52.0</td>\n",
       "      <td>3549.0</td>\n",
       "      <td>707.0</td>\n",
       "      <td>1551.0</td>\n",
       "      <td>714.0</td>\n",
       "      <td>3.6912</td>\n",
       "      <td>261100.0</td>\n",
       "      <td>0</td>\n",
       "      <td>0</td>\n",
       "      <td>1</td>\n",
       "      <td>0</td>\n",
       "      <td>1</td>\n",
       "    </tr>\n",
       "    <tr>\n",
       "      <th>10</th>\n",
       "      <td>-122.26</td>\n",
       "      <td>37.85</td>\n",
       "      <td>52.0</td>\n",
       "      <td>2202.0</td>\n",
       "      <td>434.0</td>\n",
       "      <td>910.0</td>\n",
       "      <td>402.0</td>\n",
       "      <td>3.2031</td>\n",
       "      <td>281500.0</td>\n",
       "      <td>0</td>\n",
       "      <td>0</td>\n",
       "      <td>1</td>\n",
       "      <td>0</td>\n",
       "      <td>1</td>\n",
       "    </tr>\n",
       "    <tr>\n",
       "      <th>11</th>\n",
       "      <td>-122.26</td>\n",
       "      <td>37.85</td>\n",
       "      <td>52.0</td>\n",
       "      <td>3503.0</td>\n",
       "      <td>752.0</td>\n",
       "      <td>1504.0</td>\n",
       "      <td>734.0</td>\n",
       "      <td>3.2705</td>\n",
       "      <td>241800.0</td>\n",
       "      <td>0</td>\n",
       "      <td>0</td>\n",
       "      <td>1</td>\n",
       "      <td>0</td>\n",
       "      <td>1</td>\n",
       "    </tr>\n",
       "    <tr>\n",
       "      <th>12</th>\n",
       "      <td>-122.26</td>\n",
       "      <td>37.85</td>\n",
       "      <td>52.0</td>\n",
       "      <td>2491.0</td>\n",
       "      <td>474.0</td>\n",
       "      <td>1098.0</td>\n",
       "      <td>468.0</td>\n",
       "      <td>3.0750</td>\n",
       "      <td>213500.0</td>\n",
       "      <td>0</td>\n",
       "      <td>0</td>\n",
       "      <td>1</td>\n",
       "      <td>0</td>\n",
       "      <td>1</td>\n",
       "    </tr>\n",
       "    <tr>\n",
       "      <th>13</th>\n",
       "      <td>-122.26</td>\n",
       "      <td>37.84</td>\n",
       "      <td>52.0</td>\n",
       "      <td>696.0</td>\n",
       "      <td>191.0</td>\n",
       "      <td>345.0</td>\n",
       "      <td>174.0</td>\n",
       "      <td>2.6736</td>\n",
       "      <td>191300.0</td>\n",
       "      <td>0</td>\n",
       "      <td>0</td>\n",
       "      <td>1</td>\n",
       "      <td>0</td>\n",
       "      <td>1</td>\n",
       "    </tr>\n",
       "    <tr>\n",
       "      <th>14</th>\n",
       "      <td>-122.26</td>\n",
       "      <td>37.85</td>\n",
       "      <td>52.0</td>\n",
       "      <td>2643.0</td>\n",
       "      <td>626.0</td>\n",
       "      <td>1212.0</td>\n",
       "      <td>620.0</td>\n",
       "      <td>1.9167</td>\n",
       "      <td>159200.0</td>\n",
       "      <td>0</td>\n",
       "      <td>0</td>\n",
       "      <td>1</td>\n",
       "      <td>0</td>\n",
       "      <td>0</td>\n",
       "    </tr>\n",
       "  </tbody>\n",
       "</table>\n",
       "</div>"
      ],
      "text/plain": [
       "    longitude  latitude  housing_median_age  total_rooms  total_bedrooms  \\\n",
       "0     -122.23     37.88                41.0        880.0           129.0   \n",
       "1     -122.22     37.86                21.0       7099.0          1106.0   \n",
       "2     -122.24     37.85                52.0       1467.0           190.0   \n",
       "3     -122.25     37.85                52.0       1274.0           235.0   \n",
       "4     -122.25     37.85                52.0       1627.0           280.0   \n",
       "5     -122.25     37.85                52.0        919.0           213.0   \n",
       "6     -122.25     37.84                52.0       2535.0           489.0   \n",
       "7     -122.25     37.84                52.0       3104.0           687.0   \n",
       "8     -122.26     37.84                42.0       2555.0           665.0   \n",
       "9     -122.25     37.84                52.0       3549.0           707.0   \n",
       "10    -122.26     37.85                52.0       2202.0           434.0   \n",
       "11    -122.26     37.85                52.0       3503.0           752.0   \n",
       "12    -122.26     37.85                52.0       2491.0           474.0   \n",
       "13    -122.26     37.84                52.0        696.0           191.0   \n",
       "14    -122.26     37.85                52.0       2643.0           626.0   \n",
       "\n",
       "    population  households  median_income  median_house_value  oce_pro_INLAND  \\\n",
       "0        322.0       126.0         8.3252            452600.0               0   \n",
       "1       2401.0      1138.0         8.3014            358500.0               0   \n",
       "2        496.0       177.0         7.2574            352100.0               0   \n",
       "3        558.0       219.0         5.6431            341300.0               0   \n",
       "4        565.0       259.0         3.8462            342200.0               0   \n",
       "5        413.0       193.0         4.0368            269700.0               0   \n",
       "6       1094.0       514.0         3.6591            299200.0               0   \n",
       "7       1157.0       647.0         3.1200            241400.0               0   \n",
       "8       1206.0       595.0         2.0804            226700.0               0   \n",
       "9       1551.0       714.0         3.6912            261100.0               0   \n",
       "10       910.0       402.0         3.2031            281500.0               0   \n",
       "11      1504.0       734.0         3.2705            241800.0               0   \n",
       "12      1098.0       468.0         3.0750            213500.0               0   \n",
       "13       345.0       174.0         2.6736            191300.0               0   \n",
       "14      1212.0       620.0         1.9167            159200.0               0   \n",
       "\n",
       "    oce_pro_ISLAND  oce_pro_NEAR BAY  oce_pro_NEAR OCEAN MedianHouseCategory  \n",
       "0                0                 1                   0                   1  \n",
       "1                0                 1                   0                   1  \n",
       "2                0                 1                   0                   1  \n",
       "3                0                 1                   0                   1  \n",
       "4                0                 1                   0                   1  \n",
       "5                0                 1                   0                   1  \n",
       "6                0                 1                   0                   1  \n",
       "7                0                 1                   0                   1  \n",
       "8                0                 1                   0                   1  \n",
       "9                0                 1                   0                   1  \n",
       "10               0                 1                   0                   1  \n",
       "11               0                 1                   0                   1  \n",
       "12               0                 1                   0                   1  \n",
       "13               0                 1                   0                   1  \n",
       "14               0                 1                   0                   0  "
      ]
     },
     "execution_count": 10,
     "metadata": {},
     "output_type": "execute_result"
    }
   ],
   "source": [
    "House['MedianHouseCategory'] = pd.qcut(House['median_house_value'], \n",
    "                                      q = [0,0.5,1], labels = [0,1])\n",
    "House.head(15)"
   ]
  },
  {
   "cell_type": "markdown",
   "metadata": {},
   "source": [
    "(c) Build a logistic regression model using all features and all observations. Provide\n",
    "interpretations to the following predictors: longitude, housing median age, and\n",
    "population."
   ]
  },
  {
   "cell_type": "code",
   "execution_count": 11,
   "metadata": {},
   "outputs": [],
   "source": [
    "#define X and y\n",
    "X2 = House.copy()\n",
    "X2.drop([\"median_house_value\",\"MedianHouseCategory\"], inplace = True, axis = 1)\n",
    "X2_con = sm.add_constant(X1)\n",
    "y2 = House.MedianHouseCategory"
   ]
  },
  {
   "cell_type": "code",
   "execution_count": 12,
   "metadata": {},
   "outputs": [
    {
     "name": "stdout",
     "output_type": "stream",
     "text": [
      "Warning: Maximum number of iterations has been exceeded.\n",
      "         Current function value: 0.362636\n",
      "         Iterations: 35\n"
     ]
    },
    {
     "data": {
      "text/html": [
       "<table class=\"simpletable\">\n",
       "<caption>Logit Regression Results</caption>\n",
       "<tr>\n",
       "  <th>Dep. Variable:</th>   <td>MedianHouseCategory</td> <th>  No. Observations:  </th>  <td> 20433</td> \n",
       "</tr>\n",
       "<tr>\n",
       "  <th>Model:</th>                  <td>Logit</td>        <th>  Df Residuals:      </th>  <td> 20420</td> \n",
       "</tr>\n",
       "<tr>\n",
       "  <th>Method:</th>                  <td>MLE</td>         <th>  Df Model:          </th>  <td>    12</td> \n",
       "</tr>\n",
       "<tr>\n",
       "  <th>Date:</th>             <td>Tue, 19 May 2020</td>   <th>  Pseudo R-squ.:     </th>  <td>0.4768</td> \n",
       "</tr>\n",
       "<tr>\n",
       "  <th>Time:</th>                 <td>16:29:37</td>       <th>  Log-Likelihood:    </th> <td> -7409.7</td>\n",
       "</tr>\n",
       "<tr>\n",
       "  <th>converged:</th>              <td>False</td>        <th>  LL-Null:           </th> <td> -14163.</td>\n",
       "</tr>\n",
       "<tr>\n",
       "  <th>Covariance Type:</th>      <td>nonrobust</td>      <th>  LLR p-value:       </th>  <td> 0.000</td> \n",
       "</tr>\n",
       "</table>\n",
       "<table class=\"simpletable\">\n",
       "<tr>\n",
       "           <td></td>             <th>coef</th>     <th>std err</th>      <th>z</th>      <th>P>|z|</th>  <th>[0.025</th>    <th>0.975]</th>  \n",
       "</tr>\n",
       "<tr>\n",
       "  <th>const</th>              <td> -115.0910</td> <td>    4.829</td> <td>  -23.831</td> <td> 0.000</td> <td> -124.556</td> <td> -105.626</td>\n",
       "</tr>\n",
       "<tr>\n",
       "  <th>longitude</th>          <td>   -1.2786</td> <td>    0.057</td> <td>  -22.429</td> <td> 0.000</td> <td>   -1.390</td> <td>   -1.167</td>\n",
       "</tr>\n",
       "<tr>\n",
       "  <th>latitude</th>           <td>   -1.2057</td> <td>    0.058</td> <td>  -20.686</td> <td> 0.000</td> <td>   -1.320</td> <td>   -1.091</td>\n",
       "</tr>\n",
       "<tr>\n",
       "  <th>housing_median_age</th> <td>    0.0245</td> <td>    0.002</td> <td>   12.573</td> <td> 0.000</td> <td>    0.021</td> <td>    0.028</td>\n",
       "</tr>\n",
       "<tr>\n",
       "  <th>total_rooms</th>        <td>   -0.0002</td> <td> 3.77e-05</td> <td>   -5.895</td> <td> 0.000</td> <td>   -0.000</td> <td>   -0.000</td>\n",
       "</tr>\n",
       "<tr>\n",
       "  <th>total_bedrooms</th>     <td>    0.0028</td> <td>    0.000</td> <td>    8.669</td> <td> 0.000</td> <td>    0.002</td> <td>    0.003</td>\n",
       "</tr>\n",
       "<tr>\n",
       "  <th>population</th>         <td>   -0.0014</td> <td> 5.75e-05</td> <td>  -24.146</td> <td> 0.000</td> <td>   -0.002</td> <td>   -0.001</td>\n",
       "</tr>\n",
       "<tr>\n",
       "  <th>households</th>         <td>    0.0027</td> <td>    0.000</td> <td>    7.691</td> <td> 0.000</td> <td>    0.002</td> <td>    0.003</td>\n",
       "</tr>\n",
       "<tr>\n",
       "  <th>median_income</th>      <td>    1.2411</td> <td>    0.024</td> <td>   50.744</td> <td> 0.000</td> <td>    1.193</td> <td>    1.289</td>\n",
       "</tr>\n",
       "<tr>\n",
       "  <th>oce_pro_INLAND</th>     <td>   -1.2714</td> <td>    0.080</td> <td>  -15.887</td> <td> 0.000</td> <td>   -1.428</td> <td>   -1.115</td>\n",
       "</tr>\n",
       "<tr>\n",
       "  <th>oce_pro_ISLAND</th>     <td>   22.7913</td> <td>  6.1e+04</td> <td>    0.000</td> <td> 1.000</td> <td> -1.2e+05</td> <td>  1.2e+05</td>\n",
       "</tr>\n",
       "<tr>\n",
       "  <th>oce_pro_NEAR BAY</th>   <td>   -0.7287</td> <td>    0.080</td> <td>   -9.112</td> <td> 0.000</td> <td>   -0.885</td> <td>   -0.572</td>\n",
       "</tr>\n",
       "<tr>\n",
       "  <th>oce_pro_NEAR OCEAN</th> <td>   -0.4246</td> <td>    0.065</td> <td>   -6.533</td> <td> 0.000</td> <td>   -0.552</td> <td>   -0.297</td>\n",
       "</tr>\n",
       "</table>"
      ],
      "text/plain": [
       "<class 'statsmodels.iolib.summary.Summary'>\n",
       "\"\"\"\n",
       "                            Logit Regression Results                           \n",
       "===============================================================================\n",
       "Dep. Variable:     MedianHouseCategory   No. Observations:                20433\n",
       "Model:                           Logit   Df Residuals:                    20420\n",
       "Method:                            MLE   Df Model:                           12\n",
       "Date:                 Tue, 19 May 2020   Pseudo R-squ.:                  0.4768\n",
       "Time:                         16:29:37   Log-Likelihood:                -7409.7\n",
       "converged:                       False   LL-Null:                       -14163.\n",
       "Covariance Type:             nonrobust   LLR p-value:                     0.000\n",
       "======================================================================================\n",
       "                         coef    std err          z      P>|z|      [0.025      0.975]\n",
       "--------------------------------------------------------------------------------------\n",
       "const               -115.0910      4.829    -23.831      0.000    -124.556    -105.626\n",
       "longitude             -1.2786      0.057    -22.429      0.000      -1.390      -1.167\n",
       "latitude              -1.2057      0.058    -20.686      0.000      -1.320      -1.091\n",
       "housing_median_age     0.0245      0.002     12.573      0.000       0.021       0.028\n",
       "total_rooms           -0.0002   3.77e-05     -5.895      0.000      -0.000      -0.000\n",
       "total_bedrooms         0.0028      0.000      8.669      0.000       0.002       0.003\n",
       "population            -0.0014   5.75e-05    -24.146      0.000      -0.002      -0.001\n",
       "households             0.0027      0.000      7.691      0.000       0.002       0.003\n",
       "median_income          1.2411      0.024     50.744      0.000       1.193       1.289\n",
       "oce_pro_INLAND        -1.2714      0.080    -15.887      0.000      -1.428      -1.115\n",
       "oce_pro_ISLAND        22.7913    6.1e+04      0.000      1.000    -1.2e+05     1.2e+05\n",
       "oce_pro_NEAR BAY      -0.7287      0.080     -9.112      0.000      -0.885      -0.572\n",
       "oce_pro_NEAR OCEAN    -0.4246      0.065     -6.533      0.000      -0.552      -0.297\n",
       "======================================================================================\n",
       "\"\"\""
      ]
     },
     "execution_count": 12,
     "metadata": {},
     "output_type": "execute_result"
    }
   ],
   "source": [
    "from sklearn.linear_model import LogisticRegression\n",
    "logit=sm.Logit(y2,X2_con).fit()\n",
    "logit.summary()"
   ]
  },
  {
   "cell_type": "markdown",
   "metadata": {},
   "source": [
    "### 3. Predictions:"
   ]
  },
  {
   "cell_type": "markdown",
   "metadata": {},
   "source": [
    "(a) Split your data into training and holdout set. Use a split of 75-25 ratio. Use the\n",
    "last 3 digits of your ID as random seed (if it starts with a 0, use the last 4 digits)."
   ]
  },
  {
   "cell_type": "code",
   "execution_count": 13,
   "metadata": {},
   "outputs": [],
   "source": [
    "from sklearn import linear_model # For LASSO and Ridge\n",
    "from sklearn import metrics # For evaluation\n",
    "from sklearn.model_selection import train_test_split\n",
    "from sklearn.preprocessing import StandardScaler"
   ]
  },
  {
   "cell_type": "code",
   "execution_count": 14,
   "metadata": {},
   "outputs": [],
   "source": [
    "# Dividing training/validation and testing set\n",
    "X_train_valid, X_test, y_train_valid, y_test = train_test_split(X1, y1, test_size=0.25, random_state = 999)\n",
    "X_train, X_valid, y_train, y_valid = train_test_split(X_train_valid, y_train_valid, test_size = 0.25, random_state = 999)"
   ]
  },
  {
   "cell_type": "code",
   "execution_count": 15,
   "metadata": {},
   "outputs": [],
   "source": [
    "# Scale data (only fit with the training data, and transform both the training and validation data)\n",
    "scaler = StandardScaler() # Instantiate\n",
    "scaler.fit(X_train) # Fit the data\n",
    "X_train = pd.DataFrame(scaler.transform(X_train)) # Transform the data\n",
    "X_valid = pd.DataFrame(scaler.transform(X_valid)) # Transform the validation set\n",
    "X_train.columns = X1.columns.values\n",
    "X_valid.columns = X1.columns.values\n",
    "X_test.columns = X1.columns.values"
   ]
  },
  {
   "cell_type": "markdown",
   "metadata": {},
   "source": [
    "(b) Build a Lasso regression model and Random Forest Regression model using the\n",
    "training set to predict the house median value variable. Perform prediction on\n",
    "the testing set. Report the MSE."
   ]
  },
  {
   "cell_type": "code",
   "execution_count": 16,
   "metadata": {},
   "outputs": [
    {
     "name": "stdout",
     "output_type": "stream",
     "text": [
      "Minimum MSE on validation set is:  4717045752.118653\n",
      "Best_pairs: (1e-10, 50)\n"
     ]
    }
   ],
   "source": [
    "# Lasso Regression Model\n",
    "import itertools \n",
    "from sklearn.linear_model import Lasso # For LASSO\n",
    "# Predefine the hyperparameters\n",
    "lambdas = np.logspace(-10,10,21)   # We will use lambda on powers of 10 scale\n",
    "max_iter = [50,70,90]   #We select three numbers\n",
    "hyperparameter_pairs = list(itertools.product(lambdas, max_iter))\n",
    "\n",
    "Validation_Scores = []     \n",
    "for pairs in hyperparameter_pairs:\n",
    "    lasso = Lasso(alpha = pairs[0], max_iter = pairs[1])\n",
    "    lasso.fit(X_train, y_train) # Fit model on training set\n",
    "    Validation_Scores.append(metrics.mean_squared_error(lasso.predict(X_valid), y_valid)) \n",
    "    # Evaluate model on test set\n",
    "\n",
    "# Find the minimum validation error, and it's minimizer\n",
    "min_mse = min(Validation_Scores)\n",
    "best_pairs1 = hyperparameter_pairs[np.argmin(Validation_Scores)]\n",
    "\n",
    "print(\"Minimum MSE on validation set is: \", min_mse)    \n",
    "print(\"Best_pairs:\", best_pairs1)"
   ]
  },
  {
   "cell_type": "code",
   "execution_count": 17,
   "metadata": {},
   "outputs": [
    {
     "name": "stdout",
     "output_type": "stream",
     "text": [
      "Minimum MSE on validation set:  3295067870.6380987\n",
      "Best_pairs: (6, 5)\n"
     ]
    }
   ],
   "source": [
    "# Random Forest Regression model\n",
    "from sklearn.ensemble import RandomForestRegressor\n",
    "# Predefine the hyperparameters\n",
    "features = range(2,13)\n",
    "min_samples_leaf = range(5,10)\n",
    "hyperparameter_pairs = list(itertools.product(features, min_samples_leaf))\n",
    "\n",
    "from sklearn.model_selection import cross_val_score\n",
    "\n",
    "score = []\n",
    "for pairs in hyperparameter_pairs:\n",
    "    RF = RandomForestRegressor(n_estimators = 100, #Number of trees\n",
    "                           max_features = pairs[0],    #How many features to randomly choose in each node \n",
    "                           min_samples_leaf = pairs[1]) #Minimum number of observations at each terminal node\n",
    "    RF.fit(X_train, y_train)\n",
    "    score.append(-cross_val_score(RF, X_valid, y_valid, scoring = 'neg_mean_squared_error').mean())\n",
    "\n",
    "min_mse = min(score)\n",
    "best_pairs2 = hyperparameter_pairs[np.argmin(score)]\n",
    "print(\"Minimum MSE on validation set: \", min_mse) \n",
    "print(\"Best_pairs:\", best_pairs2)"
   ]
  },
  {
   "cell_type": "markdown",
   "metadata": {},
   "source": [
    "We will choose Random Forest Regression Model, since its MSE is less than the MSE of Lasso Regression."
   ]
  },
  {
   "cell_type": "markdown",
   "metadata": {},
   "source": [
    "(c) Compare the predictors selected by the two final models. Briefly describe your\n",
    "observations."
   ]
  },
  {
   "cell_type": "code",
   "execution_count": 18,
   "metadata": {},
   "outputs": [],
   "source": [
    "# Scale data (use the train_valid set to fit, then transform both the train_valid set and test set)\n",
    "scaler = StandardScaler() # Instantiate\n",
    "scaler.fit(X_train_valid) # First fit the data, \n",
    "\n",
    "X_train_valid = pd.DataFrame(scaler.transform(X_train_valid)) # Then transform the data.\n",
    "X_test = pd.DataFrame(scaler.transform(X_test))\n",
    "# Remember, the steps are fit, then transform"
   ]
  },
  {
   "cell_type": "code",
   "execution_count": 19,
   "metadata": {},
   "outputs": [
    {
     "data": {
      "text/plain": [
       "[(-46786.44324462292, 'longitude'),\n",
       " (-46761.51393730974, 'latitude'),\n",
       " (-35119.94740387458, 'population'),\n",
       " (-20870.758285926135, 'total_rooms'),\n",
       " (-17785.11935710026, 'median_house_value'),\n",
       " (-675.6943108776712, 'oce_pro_ISLAND'),\n",
       " (1015.8510658947773, 'oce_pro_NEAR BAY'),\n",
       " (1751.2431173835598, 'oce_pro_INLAND'),\n",
       " (12383.442022533764, 'households'),\n",
       " (16610.7250719054, 'housing_median_age'),\n",
       " (53476.30761191396, 'total_bedrooms'),\n",
       " (76285.82401251333, 'median_income')]"
      ]
     },
     "execution_count": 19,
     "metadata": {},
     "output_type": "execute_result"
    }
   ],
   "source": [
    "# Refit Lasso model with selected best pair\n",
    "lasso = Lasso(alpha = best_pairs1[0], max_iter = best_pairs1[1])\n",
    "lasso.fit(X_test, y_test)\n",
    "#print(pd.DataFrame(zip(lasso.coef_,X.columns)))\n",
    "#sort the variables\n",
    "NameOfVariables = House.columns.values\n",
    "Var_coef = zip(lasso.coef_ , NameOfVariables)\n",
    "sorted(Var_coef)"
   ]
  },
  {
   "cell_type": "code",
   "execution_count": 20,
   "metadata": {},
   "outputs": [
    {
     "data": {
      "text/plain": [
       "[(0.0, 'oce_pro_INLAND'),\n",
       " (0.0024388809282087313, 'oce_pro_ISLAND'),\n",
       " (0.005518172473928648, 'oce_pro_NEAR BAY'),\n",
       " (0.021558763051983097, 'households'),\n",
       " (0.02643834300930421, 'total_bedrooms'),\n",
       " (0.03397412060036893, 'total_rooms'),\n",
       " (0.03955008361549271, 'population'),\n",
       " (0.050451218978912346, 'housing_median_age'),\n",
       " (0.09377477668894403, 'latitude'),\n",
       " (0.09448337135197757, 'longitude'),\n",
       " (0.1615294103974068, 'median_house_value'),\n",
       " (0.47028285890347277, 'median_income')]"
      ]
     },
     "execution_count": 20,
     "metadata": {},
     "output_type": "execute_result"
    }
   ],
   "source": [
    "# Refit Random Forest Regression model with selected best pair\n",
    "RF = RandomForestRegressor(n_estimators = 100, \n",
    "                           max_features = best_pairs2[0],     \n",
    "                           min_samples_leaf = best_pairs2[1])     \n",
    "RF.fit(X_test,y_test)\n",
    "sorted(zip(RF.feature_importances_,NameOfVariables))"
   ]
  },
  {
   "cell_type": "markdown",
   "metadata": {},
   "source": [
    "When we compare the 2 models, the Lasso model shows that \"median_income\", \"total_bedrooms\", \"longitude\", \"latitude\", \"population\" and \"total_rooms\" are the 6 most significant variables. While the Random Forest model shows that \"median_income\", \"median_house_value\", \"longitude\", \"latitude\", \"housing_median_age\" and \"population\" are the 6 most important features. Two models have 4 same variables among the 6 important variables. \"oce_pro_ISLAND\", \"oce_pro_INLAND\" and \"oce_pro_NEAR BAY\" are the least important variables for both models."
   ]
  },
  {
   "cell_type": "markdown",
   "metadata": {},
   "source": [
    "(d) Build a KNN classifier, decision tree, and boosted tree, to predict the house median\n",
    "category variable. Perform prediction on the testing set. Report the precision score."
   ]
  },
  {
   "cell_type": "code",
   "execution_count": 21,
   "metadata": {},
   "outputs": [],
   "source": [
    "# Dividing training/validation and testing set\n",
    "X_train, X_test, y_train, y_test = train_test_split(X2, y2, test_size = 0.25, random_state = 999)\n",
    "# Scale data (first fit, then transform)\n",
    "scaler = StandardScaler() # Instantiate\n",
    "scaler.fit(X_train) # First fit the data\n",
    "X_train = pd.DataFrame(scaler.transform(X_train)) # Then transform the data\n",
    "X_test = pd.DataFrame(scaler.transform(X_test)) # Transform the testing set\n",
    "X_train.columns = X2.columns.values\n",
    "X_test.columns = X2.columns.values"
   ]
  },
  {
   "cell_type": "code",
   "execution_count": 22,
   "metadata": {},
   "outputs": [
    {
     "name": "stdout",
     "output_type": "stream",
     "text": [
      "{'knn__n_neighbors': 14, 'knn__p': 1}\n"
     ]
    }
   ],
   "source": [
    "#KNN Classifier\n",
    "from sklearn.neighbors import KNeighborsClassifier\n",
    "# Set up pipeline and grid search\n",
    "from sklearn.model_selection import GridSearchCV\n",
    "from sklearn.pipeline import Pipeline\n",
    "\n",
    "# Pipeline setup\n",
    "estimator = Pipeline(steps = [('scale', StandardScaler()), # Scale data\n",
    "                     ('knn', KNeighborsClassifier()) ]) # Fit the scaled data using KNN\n",
    "\n",
    "# Set up the parameters for each item in the pipeline\n",
    "parameters = {'knn__n_neighbors': range(1,21),\n",
    "             'knn__p': [1,2,3,4]}\n",
    "\n",
    "clf = GridSearchCV(estimator = estimator, param_grid = parameters, cv = 5, \n",
    "                   scoring = 'accuracy', n_jobs = -1) # Instantiate the gridsearch\n",
    "clf.fit(X_train, y_train) # Fit the grid search, i.e. perform CV and grid search. \n",
    "print(clf.best_params_) "
   ]
  },
  {
   "cell_type": "code",
   "execution_count": 23,
   "metadata": {},
   "outputs": [
    {
     "data": {
      "text/plain": [
       "0.8561362301820317"
      ]
     },
     "execution_count": 23,
     "metadata": {},
     "output_type": "execute_result"
    }
   ],
   "source": [
    "# Perform evaluation on the test set. Report the final accuracy score.\n",
    "np.mean(clf.predict(X_test) == y_test)"
   ]
  },
  {
   "cell_type": "code",
   "execution_count": 24,
   "metadata": {},
   "outputs": [
    {
     "data": {
      "text/plain": [
       "RandomizedSearchCV(cv=5, error_score=nan,\n",
       "                   estimator=DecisionTreeClassifier(ccp_alpha=0.0,\n",
       "                                                    class_weight=None,\n",
       "                                                    criterion='gini',\n",
       "                                                    max_depth=None,\n",
       "                                                    max_features=None,\n",
       "                                                    max_leaf_nodes=None,\n",
       "                                                    min_impurity_decrease=0.0,\n",
       "                                                    min_impurity_split=None,\n",
       "                                                    min_samples_leaf=1,\n",
       "                                                    min_samples_split=2,\n",
       "                                                    min_weight_fraction_leaf=0.0,\n",
       "                                                    presort='deprecated',\n",
       "                                                    random_state=None,\n",
       "                                                    splitter='best'),\n",
       "                   iid='deprecated', n_iter=100, n_jobs=-1,\n",
       "                   param_distributions={'max_depth': <scipy.stats._distn_infrastructure.rv_frozen object at 0x00000254ED887400>,\n",
       "                                        'max_leaf_nodes': <scipy.stats._distn_infrastructure.rv_frozen object at 0x00000254ED887390>},\n",
       "                   pre_dispatch='2*n_jobs', random_state=999, refit=True,\n",
       "                   return_train_score=False, scoring=None, verbose=0)"
      ]
     },
     "execution_count": 24,
     "metadata": {},
     "output_type": "execute_result"
    }
   ],
   "source": [
    "#Decision Tree\n",
    "from sklearn.tree import DecisionTreeClassifier\n",
    "# Set up randomized search\n",
    "from sklearn.model_selection import RandomizedSearchCV\n",
    "from scipy.stats import randint\n",
    "\n",
    "decision_tree =  DecisionTreeClassifier() # There is no preprocessing, so we just have one input\n",
    "paras = {'max_depth': randint(1,10),\n",
    "        'max_leaf_nodes': randint(1,10)} # Discrete uniform distribution between 1 and 10\n",
    "\n",
    "clf_random = RandomizedSearchCV(decision_tree, paras, n_jobs = -1, cv = 5, n_iter = 100, random_state = 999) \n",
    "clf_random.fit(X_train, y_train)"
   ]
  },
  {
   "cell_type": "code",
   "execution_count": 25,
   "metadata": {},
   "outputs": [
    {
     "name": "stdout",
     "output_type": "stream",
     "text": [
      "Best_paras:  {'max_depth': 9, 'max_leaf_nodes': 9}\n",
      "The precision score is:  0.8027011156782149\n"
     ]
    }
   ],
   "source": [
    "# The best parameters\n",
    "print(\"Best_paras: \", clf_random.best_params_) \n",
    "# Accuracy on the test set\n",
    "print(\"The precision score is: \", np.mean(clf_random.predict(X_test) == y_test)) "
   ]
  },
  {
   "cell_type": "code",
   "execution_count": 26,
   "metadata": {},
   "outputs": [
    {
     "data": {
      "text/plain": [
       "[Text(195.3, 199.32, 'median_income <= 0.12\\ngini = 0.5\\nsamples = 5109\\nvalue = [2522, 2587]'),\n",
       " Text(139.5, 163.07999999999998, 'oce_pro_INLAND <= 0.386\\ngini = 0.429\\nsamples = 3179\\nvalue = [2189, 990]'),\n",
       " Text(111.60000000000001, 126.83999999999999, 'median_income <= -0.494\\ngini = 0.498\\nsamples = 1960\\nvalue = [1047, 913]'),\n",
       " Text(55.800000000000004, 90.6, 'latitude <= -0.737\\ngini = 0.428\\nsamples = 959\\nvalue = [661, 298]'),\n",
       " Text(27.900000000000002, 54.359999999999985, 'gini = 0.321\\nsamples = 487\\nvalue = [389, 98]'),\n",
       " Text(83.7, 54.359999999999985, 'gini = 0.488\\nsamples = 472\\nvalue = [272, 200]'),\n",
       " Text(167.4, 90.6, 'longitude <= 0.64\\ngini = 0.474\\nsamples = 1001\\nvalue = [386, 615]'),\n",
       " Text(139.5, 54.359999999999985, 'latitude <= 1.078\\ngini = 0.396\\nsamples = 545\\nvalue = [148, 397]'),\n",
       " Text(111.60000000000001, 18.119999999999976, 'gini = 0.329\\nsamples = 473\\nvalue = [98, 375]'),\n",
       " Text(167.4, 18.119999999999976, 'gini = 0.424\\nsamples = 72\\nvalue = [50, 22]'),\n",
       " Text(195.3, 54.359999999999985, 'gini = 0.499\\nsamples = 456\\nvalue = [238, 218]'),\n",
       " Text(167.4, 126.83999999999999, 'gini = 0.118\\nsamples = 1219\\nvalue = [1142, 77]'),\n",
       " Text(251.10000000000002, 163.07999999999998, 'oce_pro_INLAND <= 0.386\\ngini = 0.286\\nsamples = 1930\\nvalue = [333, 1597]'),\n",
       " Text(223.20000000000002, 126.83999999999999, 'gini = 0.168\\nsamples = 1558\\nvalue = [144, 1414]'),\n",
       " Text(279.0, 126.83999999999999, 'median_income <= 0.679\\ngini = 0.5\\nsamples = 372\\nvalue = [189, 183]'),\n",
       " Text(251.10000000000002, 90.6, 'gini = 0.437\\nsamples = 220\\nvalue = [149, 71]'),\n",
       " Text(306.90000000000003, 90.6, 'gini = 0.388\\nsamples = 152\\nvalue = [40, 112]')]"
      ]
     },
     "execution_count": 26,
     "metadata": {},
     "output_type": "execute_result"
    },
    {
     "data": {
      "image/png": "[encoded data removed]",
      "text/plain": [
       "<Figure size 432x288 with 1 Axes>"
      ]
     },
     "metadata": {
      "needs_background": "light"
     },
     "output_type": "display_data"
    }
   ],
   "source": [
    "from sklearn import tree\n",
    "DecisionTree = DecisionTreeClassifier(max_depth = 9, max_leaf_nodes = 9, random_state = 999)\n",
    "DecisionTree.fit(X_test, y_test)\n",
    "tree.plot_tree(DecisionTree, feature_names = X_test.columns.values)"
   ]
  },
  {
   "cell_type": "code",
   "execution_count": 27,
   "metadata": {},
   "outputs": [
    {
     "name": "stdout",
     "output_type": "stream",
     "text": [
      "Minimum MSE on training set:  0.1721482543157608\n",
      "Best_pairs: (4, 5)\n"
     ]
    }
   ],
   "source": [
    "#Boosted Tree\n",
    "from sklearn.ensemble import GradientBoostingClassifier\n",
    "# Predefine the hyperparameters\n",
    "depth = range(1,5)\n",
    "min_samples_leaf = range(5,10)\n",
    "hyperparameter_pairs = list(itertools.product(depth, min_samples_leaf))\n",
    "\n",
    "score = []\n",
    "for pairs in hyperparameter_pairs:\n",
    "    GBC_Tree = GradientBoostingClassifier(learning_rate = 0.01, # tuning parameter, usually between 0.01 and 0.1\n",
    "                                             n_estimators = 100, #This is B, a tuning parameter, using large B can cause overfitting, default=100\n",
    "                                             max_depth = pairs[0], #This is d, another tuning parameter, usually max_depth < 5\n",
    "                                             min_samples_leaf = pairs[1],\n",
    "                                             random_state = 999)\n",
    "    score.append(-cross_val_score(GBC_Tree, X_train, y_train, cv=5, scoring='neg_mean_squared_error', n_jobs = -1).mean())\n",
    "\n",
    "min_mse = min(score)\n",
    "best_pairs3 = hyperparameter_pairs[np.argmin(score)]\n",
    "print(\"Minimum MSE on training set: \", min_mse) \n",
    "print(\"Best_pairs:\", best_pairs3)"
   ]
  },
  {
   "cell_type": "code",
   "execution_count": 28,
   "metadata": {},
   "outputs": [
    {
     "name": "stdout",
     "output_type": "stream",
     "text": [
      "The precision score is:  0.8273870291306041\n"
     ]
    }
   ],
   "source": [
    "#Put our best training model into practice\n",
    "from sklearn.model_selection import KFold \n",
    "kf = KFold(n_splits = 5, shuffle = True) #5 fold CV\n",
    "\n",
    "GBC_Tree = GradientBoostingClassifier(learning_rate = 0.01,\n",
    "                                      n_estimators = 100,\n",
    "                                      max_depth = best_pairs3[0],\n",
    "                                      min_samples_leaf = best_pairs3[1],\n",
    "                                      random_state = 999)\n",
    "scores = []\n",
    "for train_index, test_index in kf.split(X2):        \n",
    "        GBC_Tree.fit(X2.iloc[train_index], y2.iloc[train_index])\n",
    "        y_hat_test = GBC_Tree.predict(X2.iloc[test_index]) \n",
    "        scores.append(float(sum(y_hat_test == y2.iloc[test_index]))/len(y_hat_test))\n",
    "CorrectClass = np.mean(scores)    \n",
    "\n",
    "print(\"The precision score is: \",CorrectClass) "
   ]
  },
  {
   "cell_type": "markdown",
   "metadata": {},
   "source": [
    "Using the precision score, the best model is KNN Classifier."
   ]
  },
  {
   "cell_type": "markdown",
   "metadata": {},
   "source": [
    "### 4. PCA:"
   ]
  },
  {
   "cell_type": "markdown",
   "metadata": {},
   "source": [
    "(a) Reload the original data set, drop the missing observations and convert the categorical\n",
    "variable(s) into dummy variables (do not drop anything)."
   ]
  },
  {
   "cell_type": "code",
   "execution_count": 29,
   "metadata": {},
   "outputs": [
    {
     "data": {
      "text/plain": [
       "(20433, 14)"
      ]
     },
     "execution_count": 29,
     "metadata": {},
     "output_type": "execute_result"
    }
   ],
   "source": [
    "#reload the original data set\n",
    "House = pd.read_csv('housing.csv')\n",
    "#drop the missing value\n",
    "House.dropna(inplace = True)\n",
    "#convert the categoical variables\n",
    "ocean_pro_dummy  = pd.get_dummies(House['ocean_proximity'], prefix = 'oce_pro')\n",
    "del House['ocean_proximity']\n",
    "House = pd.concat([House, ocean_pro_dummy], axis=1)\n",
    "House.shape \n",
    "#20433 observations and 13 features, 1 dependent variable"
   ]
  },
  {
   "cell_type": "code",
   "execution_count": 30,
   "metadata": {},
   "outputs": [
    {
     "data": {
      "text/html": [
       "<div>\n",
       "<style scoped>\n",
       "    .dataframe tbody tr th:only-of-type {\n",
       "        vertical-align: middle;\n",
       "    }\n",
       "\n",
       "    .dataframe tbody tr th {\n",
       "        vertical-align: top;\n",
       "    }\n",
       "\n",
       "    .dataframe thead th {\n",
       "        text-align: right;\n",
       "    }\n",
       "</style>\n",
       "<table border=\"1\" class=\"dataframe\">\n",
       "  <thead>\n",
       "    <tr style=\"text-align: right;\">\n",
       "      <th></th>\n",
       "      <th>longitude</th>\n",
       "      <th>latitude</th>\n",
       "      <th>housing_median_age</th>\n",
       "      <th>total_rooms</th>\n",
       "      <th>total_bedrooms</th>\n",
       "      <th>population</th>\n",
       "      <th>households</th>\n",
       "      <th>median_income</th>\n",
       "      <th>median_house_value</th>\n",
       "      <th>oce_pro_&lt;1H OCEAN</th>\n",
       "      <th>oce_pro_INLAND</th>\n",
       "      <th>oce_pro_ISLAND</th>\n",
       "      <th>oce_pro_NEAR BAY</th>\n",
       "      <th>oce_pro_NEAR OCEAN</th>\n",
       "    </tr>\n",
       "  </thead>\n",
       "  <tbody>\n",
       "    <tr>\n",
       "      <th>0</th>\n",
       "      <td>-122.23</td>\n",
       "      <td>37.88</td>\n",
       "      <td>41.0</td>\n",
       "      <td>880.0</td>\n",
       "      <td>129.0</td>\n",
       "      <td>322.0</td>\n",
       "      <td>126.0</td>\n",
       "      <td>8.3252</td>\n",
       "      <td>452600.0</td>\n",
       "      <td>0</td>\n",
       "      <td>0</td>\n",
       "      <td>0</td>\n",
       "      <td>1</td>\n",
       "      <td>0</td>\n",
       "    </tr>\n",
       "    <tr>\n",
       "      <th>1</th>\n",
       "      <td>-122.22</td>\n",
       "      <td>37.86</td>\n",
       "      <td>21.0</td>\n",
       "      <td>7099.0</td>\n",
       "      <td>1106.0</td>\n",
       "      <td>2401.0</td>\n",
       "      <td>1138.0</td>\n",
       "      <td>8.3014</td>\n",
       "      <td>358500.0</td>\n",
       "      <td>0</td>\n",
       "      <td>0</td>\n",
       "      <td>0</td>\n",
       "      <td>1</td>\n",
       "      <td>0</td>\n",
       "    </tr>\n",
       "    <tr>\n",
       "      <th>2</th>\n",
       "      <td>-122.24</td>\n",
       "      <td>37.85</td>\n",
       "      <td>52.0</td>\n",
       "      <td>1467.0</td>\n",
       "      <td>190.0</td>\n",
       "      <td>496.0</td>\n",
       "      <td>177.0</td>\n",
       "      <td>7.2574</td>\n",
       "      <td>352100.0</td>\n",
       "      <td>0</td>\n",
       "      <td>0</td>\n",
       "      <td>0</td>\n",
       "      <td>1</td>\n",
       "      <td>0</td>\n",
       "    </tr>\n",
       "    <tr>\n",
       "      <th>3</th>\n",
       "      <td>-122.25</td>\n",
       "      <td>37.85</td>\n",
       "      <td>52.0</td>\n",
       "      <td>1274.0</td>\n",
       "      <td>235.0</td>\n",
       "      <td>558.0</td>\n",
       "      <td>219.0</td>\n",
       "      <td>5.6431</td>\n",
       "      <td>341300.0</td>\n",
       "      <td>0</td>\n",
       "      <td>0</td>\n",
       "      <td>0</td>\n",
       "      <td>1</td>\n",
       "      <td>0</td>\n",
       "    </tr>\n",
       "    <tr>\n",
       "      <th>4</th>\n",
       "      <td>-122.25</td>\n",
       "      <td>37.85</td>\n",
       "      <td>52.0</td>\n",
       "      <td>1627.0</td>\n",
       "      <td>280.0</td>\n",
       "      <td>565.0</td>\n",
       "      <td>259.0</td>\n",
       "      <td>3.8462</td>\n",
       "      <td>342200.0</td>\n",
       "      <td>0</td>\n",
       "      <td>0</td>\n",
       "      <td>0</td>\n",
       "      <td>1</td>\n",
       "      <td>0</td>\n",
       "    </tr>\n",
       "  </tbody>\n",
       "</table>\n",
       "</div>"
      ],
      "text/plain": [
       "   longitude  latitude  housing_median_age  total_rooms  total_bedrooms  \\\n",
       "0    -122.23     37.88                41.0        880.0           129.0   \n",
       "1    -122.22     37.86                21.0       7099.0          1106.0   \n",
       "2    -122.24     37.85                52.0       1467.0           190.0   \n",
       "3    -122.25     37.85                52.0       1274.0           235.0   \n",
       "4    -122.25     37.85                52.0       1627.0           280.0   \n",
       "\n",
       "   population  households  median_income  median_house_value  \\\n",
       "0       322.0       126.0         8.3252            452600.0   \n",
       "1      2401.0      1138.0         8.3014            358500.0   \n",
       "2       496.0       177.0         7.2574            352100.0   \n",
       "3       558.0       219.0         5.6431            341300.0   \n",
       "4       565.0       259.0         3.8462            342200.0   \n",
       "\n",
       "   oce_pro_<1H OCEAN  oce_pro_INLAND  oce_pro_ISLAND  oce_pro_NEAR BAY  \\\n",
       "0                  0               0               0                 1   \n",
       "1                  0               0               0                 1   \n",
       "2                  0               0               0                 1   \n",
       "3                  0               0               0                 1   \n",
       "4                  0               0               0                 1   \n",
       "\n",
       "   oce_pro_NEAR OCEAN  \n",
       "0                   0  \n",
       "1                   0  \n",
       "2                   0  \n",
       "3                   0  \n",
       "4                   0  "
      ]
     },
     "execution_count": 30,
     "metadata": {},
     "output_type": "execute_result"
    }
   ],
   "source": [
    "House.head()"
   ]
  },
  {
   "cell_type": "markdown",
   "metadata": {},
   "source": [
    "(b) Perform PCA and plot the scree plot."
   ]
  },
  {
   "cell_type": "code",
   "execution_count": 31,
   "metadata": {},
   "outputs": [],
   "source": [
    "from sklearn.decomposition import PCA\n",
    "#define X and y\n",
    "X3 = House.copy()\n",
    "X3.drop(\"median_house_value\", inplace = True, axis = 1)\n",
    "y3 = House[\"median_house_value\"]"
   ]
  },
  {
   "cell_type": "code",
   "execution_count": 32,
   "metadata": {},
   "outputs": [
    {
     "data": {
      "text/plain": [
       "<matplotlib.colorbar.Colorbar at 0x254f0574518>"
      ]
     },
     "execution_count": 32,
     "metadata": {},
     "output_type": "execute_result"
    },
    {
     "data": {
      "image/png": "[encoded data removed]",
      "text/plain": [
       "<Figure size 432x288 with 2 Axes>"
      ]
     },
     "metadata": {
      "needs_background": "light"
     },
     "output_type": "display_data"
    }
   ],
   "source": [
    "pca = PCA(0.99)\n",
    "X_trans = pca.fit_transform(X3)\n",
    "plt.scatter(X_trans[:, 0], X_trans[:, 1], c=y3, alpha=0.2)\n",
    "plt.colorbar()"
   ]
  },
  {
   "cell_type": "markdown",
   "metadata": {},
   "source": [
    "(c) How many principal components do you need to cover 90% variability?"
   ]
  },
  {
   "cell_type": "code",
   "execution_count": 33,
   "metadata": {},
   "outputs": [],
   "source": [
    "# Fit the PCA\n",
    "X_trainS = StandardScaler().fit_transform(X_train)\n",
    "pca = PCA().fit(X_trainS)"
   ]
  },
  {
   "cell_type": "code",
   "execution_count": 34,
   "metadata": {},
   "outputs": [
    {
     "data": {
      "image/png": "[encoded data removed]",
      "text/plain": [
       "<Figure size 432x288 with 1 Axes>"
      ]
     },
     "metadata": {
      "needs_background": "light"
     },
     "output_type": "display_data"
    }
   ],
   "source": [
    "# Plot the scree plot\n",
    "plt.plot(range(1, 13), np.cumsum(pca.explained_variance_ratio_))\n",
    "plt.xlabel('Number of Components')\n",
    "plt.ylabel('Cumulative Proportion of Variance Explained')\n",
    "plt.show()\n",
    "# Number of components is what you see in the graph +1 ! (we could easily solve this)"
   ]
  },
  {
   "cell_type": "markdown",
   "metadata": {},
   "source": [
    "We need 7 principal components to cover 90% variability."
   ]
  },
  {
   "cell_type": "markdown",
   "metadata": {},
   "source": [
    "## Thank you."
   ]
  }
 ],
 "metadata": {
  "kernelspec": {
   "display_name": "Python 3",
   "language": "python",
   "name": "python3"
  },
  "language_info": {
   "codemirror_mode": {
    "name": "ipython",
    "version": 3
   },
   "file_extension": ".py",
   "mimetype": "text/x-python",
   "name": "python",
   "nbconvert_exporter": "python",
   "pygments_lexer": "ipython3",
   "version": "3.7.3"
  }
 },
 "nbformat": 4,
 "nbformat_minor": 4
}
