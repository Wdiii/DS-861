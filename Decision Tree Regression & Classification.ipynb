{
 "cells": [
  {
   "cell_type": "code",
   "execution_count": 1,
   "metadata": {},
   "outputs": [],
   "source": [
    "# I am importing only pandas and numpy. Import the rest of libraries (only the necessary ones)\n",
    "import pandas as pd\n",
    "import numpy as np\n",
    "#for split the dataset\n",
    "from sklearn.model_selection import train_test_split\n",
    "#for decision tree\n",
    "from sklearn import tree\n",
    "from sklearn.tree import DecisionTreeClassifier #Decision Tree Classifier\n",
    "from sklearn.tree import DecisionTreeRegressor   #Decision Tree Regressor\n",
    "from sklearn.metrics import mean_squared_error\n",
    "from sklearn.metrics import recall_score\n",
    "# Set up pipeline \n",
    "from sklearn.model_selection import GridSearchCV\n"
   ]
  },
  {
   "cell_type": "markdown",
   "metadata": {},
   "source": [
    "some online resources  http://ocw.uc3m.es/ingenieria-informatica/machine-learning-i/decisiontreeshyperparameters.html/skinless_view"
   ]
  },
  {
   "cell_type": "code",
   "execution_count": 2,
   "metadata": {},
   "outputs": [
    {
     "data": {
      "text/html": [
       "<div>\n",
       "<style scoped>\n",
       "    .dataframe tbody tr th:only-of-type {\n",
       "        vertical-align: middle;\n",
       "    }\n",
       "\n",
       "    .dataframe tbody tr th {\n",
       "        vertical-align: top;\n",
       "    }\n",
       "\n",
       "    .dataframe thead th {\n",
       "        text-align: right;\n",
       "    }\n",
       "</style>\n",
       "<table border=\"1\" class=\"dataframe\">\n",
       "  <thead>\n",
       "    <tr style=\"text-align: right;\">\n",
       "      <th></th>\n",
       "      <th>occupation</th>\n",
       "      <th>region</th>\n",
       "      <th>nkids</th>\n",
       "      <th>nkids2</th>\n",
       "      <th>nadults</th>\n",
       "      <th>lnx</th>\n",
       "      <th>stobacco</th>\n",
       "      <th>salcohol</th>\n",
       "      <th>age</th>\n",
       "    </tr>\n",
       "  </thead>\n",
       "  <tbody>\n",
       "    <tr>\n",
       "      <th>0</th>\n",
       "      <td>bluecol</td>\n",
       "      <td>flanders</td>\n",
       "      <td>1</td>\n",
       "      <td>0</td>\n",
       "      <td>2</td>\n",
       "      <td>14.19054</td>\n",
       "      <td>0.0</td>\n",
       "      <td>0.000000</td>\n",
       "      <td>2</td>\n",
       "    </tr>\n",
       "    <tr>\n",
       "      <th>1</th>\n",
       "      <td>inactself</td>\n",
       "      <td>flanders</td>\n",
       "      <td>0</td>\n",
       "      <td>0</td>\n",
       "      <td>3</td>\n",
       "      <td>13.90857</td>\n",
       "      <td>0.0</td>\n",
       "      <td>0.002285</td>\n",
       "      <td>3</td>\n",
       "    </tr>\n",
       "    <tr>\n",
       "      <th>2</th>\n",
       "      <td>whitecol</td>\n",
       "      <td>flanders</td>\n",
       "      <td>0</td>\n",
       "      <td>0</td>\n",
       "      <td>1</td>\n",
       "      <td>13.97461</td>\n",
       "      <td>0.0</td>\n",
       "      <td>0.012875</td>\n",
       "      <td>2</td>\n",
       "    </tr>\n",
       "    <tr>\n",
       "      <th>3</th>\n",
       "      <td>bluecol</td>\n",
       "      <td>flanders</td>\n",
       "      <td>1</td>\n",
       "      <td>0</td>\n",
       "      <td>2</td>\n",
       "      <td>13.76281</td>\n",
       "      <td>0.0</td>\n",
       "      <td>0.005907</td>\n",
       "      <td>2</td>\n",
       "    </tr>\n",
       "    <tr>\n",
       "      <th>4</th>\n",
       "      <td>inactself</td>\n",
       "      <td>flanders</td>\n",
       "      <td>2</td>\n",
       "      <td>0</td>\n",
       "      <td>1</td>\n",
       "      <td>13.80800</td>\n",
       "      <td>0.0</td>\n",
       "      <td>0.021981</td>\n",
       "      <td>2</td>\n",
       "    </tr>\n",
       "  </tbody>\n",
       "</table>\n",
       "</div>"
      ],
      "text/plain": [
       "  occupation    region  nkids  nkids2  nadults       lnx  stobacco  salcohol  \\\n",
       "0    bluecol  flanders      1       0        2  14.19054       0.0  0.000000   \n",
       "1  inactself  flanders      0       0        3  13.90857       0.0  0.002285   \n",
       "2   whitecol  flanders      0       0        1  13.97461       0.0  0.012875   \n",
       "3    bluecol  flanders      1       0        2  13.76281       0.0  0.005907   \n",
       "4  inactself  flanders      2       0        1  13.80800       0.0  0.021981   \n",
       "\n",
       "   age  \n",
       "0    2  \n",
       "1    3  \n",
       "2    2  \n",
       "3    2  \n",
       "4    2  "
      ]
     },
     "execution_count": 2,
     "metadata": {},
     "output_type": "execute_result"
    }
   ],
   "source": [
    "TobaccoData = pd.read_csv(\"Tobacco.csv\")\n",
    "del TobaccoData['Unnamed: 0']\n",
    "TobaccoData.head()"
   ]
  },
  {
   "cell_type": "markdown",
   "metadata": {},
   "source": [
    "For this exercise, you will use different variables to predict the expenditure on tobacco. Here is the data dictionary of this dataset:\n",
    "https://vincentarelbundock.github.io/Rdatasets/doc/Ecdat/Tobacco.html"
   ]
  },
  {
   "cell_type": "code",
   "execution_count": 3,
   "metadata": {},
   "outputs": [
    {
     "data": {
      "text/html": [
       "<div>\n",
       "<style scoped>\n",
       "    .dataframe tbody tr th:only-of-type {\n",
       "        vertical-align: middle;\n",
       "    }\n",
       "\n",
       "    .dataframe tbody tr th {\n",
       "        vertical-align: top;\n",
       "    }\n",
       "\n",
       "    .dataframe thead th {\n",
       "        text-align: right;\n",
       "    }\n",
       "</style>\n",
       "<table border=\"1\" class=\"dataframe\">\n",
       "  <thead>\n",
       "    <tr style=\"text-align: right;\">\n",
       "      <th></th>\n",
       "      <th>nkids</th>\n",
       "      <th>nkids2</th>\n",
       "      <th>nadults</th>\n",
       "      <th>lnx</th>\n",
       "      <th>stobacco</th>\n",
       "      <th>salcohol</th>\n",
       "      <th>occupation_inactself</th>\n",
       "      <th>occupation_whitecol</th>\n",
       "      <th>region_flanders</th>\n",
       "      <th>region_walloon</th>\n",
       "      <th>age_1</th>\n",
       "      <th>age_2</th>\n",
       "      <th>age_3</th>\n",
       "      <th>age_4</th>\n",
       "    </tr>\n",
       "  </thead>\n",
       "  <tbody>\n",
       "    <tr>\n",
       "      <th>0</th>\n",
       "      <td>1</td>\n",
       "      <td>0</td>\n",
       "      <td>2</td>\n",
       "      <td>14.19054</td>\n",
       "      <td>0.0</td>\n",
       "      <td>0.000000</td>\n",
       "      <td>0</td>\n",
       "      <td>0</td>\n",
       "      <td>1</td>\n",
       "      <td>0</td>\n",
       "      <td>0</td>\n",
       "      <td>1</td>\n",
       "      <td>0</td>\n",
       "      <td>0</td>\n",
       "    </tr>\n",
       "    <tr>\n",
       "      <th>1</th>\n",
       "      <td>0</td>\n",
       "      <td>0</td>\n",
       "      <td>3</td>\n",
       "      <td>13.90857</td>\n",
       "      <td>0.0</td>\n",
       "      <td>0.002285</td>\n",
       "      <td>1</td>\n",
       "      <td>0</td>\n",
       "      <td>1</td>\n",
       "      <td>0</td>\n",
       "      <td>0</td>\n",
       "      <td>0</td>\n",
       "      <td>1</td>\n",
       "      <td>0</td>\n",
       "    </tr>\n",
       "    <tr>\n",
       "      <th>2</th>\n",
       "      <td>0</td>\n",
       "      <td>0</td>\n",
       "      <td>1</td>\n",
       "      <td>13.97461</td>\n",
       "      <td>0.0</td>\n",
       "      <td>0.012875</td>\n",
       "      <td>0</td>\n",
       "      <td>1</td>\n",
       "      <td>1</td>\n",
       "      <td>0</td>\n",
       "      <td>0</td>\n",
       "      <td>1</td>\n",
       "      <td>0</td>\n",
       "      <td>0</td>\n",
       "    </tr>\n",
       "    <tr>\n",
       "      <th>3</th>\n",
       "      <td>1</td>\n",
       "      <td>0</td>\n",
       "      <td>2</td>\n",
       "      <td>13.76281</td>\n",
       "      <td>0.0</td>\n",
       "      <td>0.005907</td>\n",
       "      <td>0</td>\n",
       "      <td>0</td>\n",
       "      <td>1</td>\n",
       "      <td>0</td>\n",
       "      <td>0</td>\n",
       "      <td>1</td>\n",
       "      <td>0</td>\n",
       "      <td>0</td>\n",
       "    </tr>\n",
       "    <tr>\n",
       "      <th>4</th>\n",
       "      <td>2</td>\n",
       "      <td>0</td>\n",
       "      <td>1</td>\n",
       "      <td>13.80800</td>\n",
       "      <td>0.0</td>\n",
       "      <td>0.021981</td>\n",
       "      <td>1</td>\n",
       "      <td>0</td>\n",
       "      <td>1</td>\n",
       "      <td>0</td>\n",
       "      <td>0</td>\n",
       "      <td>1</td>\n",
       "      <td>0</td>\n",
       "      <td>0</td>\n",
       "    </tr>\n",
       "  </tbody>\n",
       "</table>\n",
       "</div>"
      ],
      "text/plain": [
       "   nkids  nkids2  nadults       lnx  stobacco  salcohol  occupation_inactself  \\\n",
       "0      1       0        2  14.19054       0.0  0.000000                     0   \n",
       "1      0       0        3  13.90857       0.0  0.002285                     1   \n",
       "2      0       0        1  13.97461       0.0  0.012875                     0   \n",
       "3      1       0        2  13.76281       0.0  0.005907                     0   \n",
       "4      2       0        1  13.80800       0.0  0.021981                     1   \n",
       "\n",
       "   occupation_whitecol  region_flanders  region_walloon  age_1  age_2  age_3  \\\n",
       "0                    0                1               0      0      1      0   \n",
       "1                    0                1               0      0      0      1   \n",
       "2                    1                1               0      0      1      0   \n",
       "3                    0                1               0      0      1      0   \n",
       "4                    0                1               0      0      1      0   \n",
       "\n",
       "   age_4  \n",
       "0      0  \n",
       "1      0  \n",
       "2      0  \n",
       "3      0  \n",
       "4      0  "
      ]
     },
     "execution_count": 3,
     "metadata": {},
     "output_type": "execute_result"
    }
   ],
   "source": [
    "# Create dummy variables for the categorical variables, and remove the unncessary columns\n",
    "# Note: age here is a categorical variable. It represents age group\n",
    "# You should have a total of 17 columns afterwards (including the response)\n",
    "\n",
    "occupation = pd.get_dummies(TobaccoData.occupation, prefix = 'occupation', drop_first = True)\n",
    "region = pd.get_dummies(TobaccoData.region, prefix = 'region', drop_first = True)\n",
    "age = pd.get_dummies(TobaccoData.age, prefix = 'age', drop_first = True)\n",
    "TobaccoData = pd.concat([TobaccoData, occupation, region, age], axis = 1)\n",
    "del TobaccoData['occupation']\n",
    "del TobaccoData['region']\n",
    "del TobaccoData['age']\n",
    "TobaccoData.head()"
   ]
  },
  {
   "cell_type": "code",
   "execution_count": 4,
   "metadata": {},
   "outputs": [
    {
     "data": {
      "text/plain": [
       "(2724, 14)"
      ]
     },
     "execution_count": 4,
     "metadata": {},
     "output_type": "execute_result"
    }
   ],
   "source": [
    "TobaccoData.shape"
   ]
  },
  {
   "cell_type": "markdown",
   "metadata": {},
   "source": [
    "#### We would like to use a Regression Tree model to detect the most important variables affect expenditure on tobacco. Follow necessary steps to develop your Regression Tree, tune it via _Cross-Validation_ and lastly state the most important variable you found with the corresponding MSE of your best model. Your output is stobacco."
   ]
  },
  {
   "cell_type": "code",
   "execution_count": 5,
   "metadata": {},
   "outputs": [],
   "source": [
    "# Separate the X and Y\n",
    "\n",
    "X = TobaccoData.copy() \n",
    "del X['stobacco']\n",
    "y = TobaccoData['stobacco']"
   ]
  },
  {
   "cell_type": "markdown",
   "metadata": {},
   "source": [
    "#### Set up a 5-fold cross validation to tune the max_depth and max_leaf_nodes arguments simultaneously. Set the random state in the decision tree to be 1."
   ]
  },
  {
   "cell_type": "code",
   "execution_count": 6,
   "metadata": {},
   "outputs": [],
   "source": [
    "# Split your data into training and holdout set. Use the random state 1, and 30% hold-out size.\n",
    "X_train, X_test, y_train, y_test = train_test_split(X, y, test_size = 0.3, random_state = 1)"
   ]
  },
  {
   "cell_type": "code",
   "execution_count": 7,
   "metadata": {},
   "outputs": [
    {
     "data": {
      "text/plain": [
       "GridSearchCV(cv=5, error_score=nan,\n",
       "             estimator=DecisionTreeRegressor(ccp_alpha=0.0, criterion='mse',\n",
       "                                             max_depth=None, max_features=None,\n",
       "                                             max_leaf_nodes=None,\n",
       "                                             min_impurity_decrease=0.0,\n",
       "                                             min_impurity_split=None,\n",
       "                                             min_samples_leaf=1,\n",
       "                                             min_samples_split=2,\n",
       "                                             min_weight_fraction_leaf=0.0,\n",
       "                                             presort='deprecated',\n",
       "                                             random_state=1, splitter='best'),\n",
       "             iid='deprecated', n_jobs=-1,\n",
       "             param_grid={'max_depth': range(2, 50),\n",
       "                         'max_leaf_nodes': range(2, 50)},\n",
       "             pre_dispatch='2*n_jobs', refit=True, return_train_score=False,\n",
       "             scoring=None, verbose=0)"
      ]
     },
     "execution_count": 7,
     "metadata": {},
     "output_type": "execute_result"
    }
   ],
   "source": [
    "# Tune your tree \n",
    "decision_tree =  DecisionTreeRegressor(random_state=1) # There is no preprocessing, so we just have one input\n",
    "\n",
    "paras = {'max_depth': range(2,50), \n",
    "        'max_leaf_nodes': range(2,50)} # Discrete uniform distribution between 2 and 50\n",
    "clf = GridSearchCV(decision_tree, paras, n_jobs = -1, cv = 5) \n",
    "clf.fit(X_train, y_train)"
   ]
  },
  {
   "cell_type": "code",
   "execution_count": 8,
   "metadata": {},
   "outputs": [
    {
     "name": "stdout",
     "output_type": "stream",
     "text": [
      "{'max_depth': 2, 'max_leaf_nodes': 4}\n",
      "0.0005496823796275048\n",
      "0.023445306132091875\n"
     ]
    }
   ],
   "source": [
    "# Report the best parameters and MSE on the test set\n",
    "print(clf.best_params_)\n",
    "# This is how we perform prediction\n",
    "print(mean_squared_error(clf.predict(X_test), y_test))\n",
    "print(np.sqrt(mean_squared_error(clf.predict(X_test), y_test))) # Calculate RMSE instead"
   ]
  },
  {
   "cell_type": "markdown",
   "metadata": {},
   "source": [
    "#### Now repeat the procedure, but this time tune the alpha parameter. Feel free to refine your choice to get a better estimate."
   ]
  },
  {
   "cell_type": "code",
   "execution_count": 9,
   "metadata": {},
   "outputs": [
    {
     "data": {
      "text/plain": [
       "GridSearchCV(cv=5, error_score=nan,\n",
       "             estimator=DecisionTreeRegressor(ccp_alpha=0.0, criterion='mse',\n",
       "                                             max_depth=None, max_features=None,\n",
       "                                             max_leaf_nodes=None,\n",
       "                                             min_impurity_decrease=0.0,\n",
       "                                             min_impurity_split=None,\n",
       "                                             min_samples_leaf=1,\n",
       "                                             min_samples_split=2,\n",
       "                                             min_weight_fraction_leaf=0.0,\n",
       "                                             presort='deprecated',\n",
       "                                             random_state=1, splitter='best'),\n",
       "             iid='deprecated', n_jobs=-1,\n",
       "             param_grid={'ccp_alpha': array([0.00000000e+00, 1.11111111e-06, 2.22222222e-06, 3.33333333e-06,\n",
       "       4.44444444e-06, 5.55555556e-06, 6.66666667e-06, 7.77777778e-06,\n",
       "       8.88888889e-06, 1.00000000e-05])},\n",
       "             pre_dispatch='2*n_jobs', refit=True, return_train_score=False,\n",
       "             scoring=None, verbose=0)"
      ]
     },
     "execution_count": 9,
     "metadata": {},
     "output_type": "execute_result"
    }
   ],
   "source": [
    "# Tune your tree. Use values between 0 to 1e-5.\n",
    "decision_tree = DecisionTreeRegressor(random_state=1) # There is no preprocessing, so we just have one input\n",
    "\n",
    "paras = {'ccp_alpha': np.linspace(0, 0.00001, 10)}\n",
    "clf1 = GridSearchCV(decision_tree, paras, n_jobs = -1, cv = 5) \n",
    "clf1.fit(X_train, y_train)"
   ]
  },
  {
   "cell_type": "code",
   "execution_count": 10,
   "metadata": {},
   "outputs": [
    {
     "name": "stdout",
     "output_type": "stream",
     "text": [
      "{'ccp_alpha': 1e-05}\n",
      "0.0005515078450825027\n",
      "0.02348420416114846\n"
     ]
    }
   ],
   "source": [
    "# Report the best parameters and MSE on the test set\n",
    "print(clf1.best_params_)\n",
    "# This is how we perform prediction\n",
    "print(mean_squared_error(clf1.predict(X_test), y_test))\n",
    "print(np.sqrt(mean_squared_error(clf1.predict(X_test), y_test))) # Calculate RMSE instead"
   ]
  },
  {
   "cell_type": "markdown",
   "metadata": {},
   "source": [
    "What do you observe?\n",
    "Answer: The performances are similar. "
   ]
  },
  {
   "cell_type": "markdown",
   "metadata": {},
   "source": [
    "#### Now refit the two models (using the training set) with the best parameters respectively, and report the important features from both models"
   ]
  },
  {
   "cell_type": "code",
   "execution_count": 11,
   "metadata": {},
   "outputs": [
    {
     "data": {
      "text/plain": [
       "DecisionTreeRegressor(ccp_alpha=1e-05, criterion='mse', max_depth=None,\n",
       "                      max_features=None, max_leaf_nodes=None,\n",
       "                      min_impurity_decrease=0.0, min_impurity_split=None,\n",
       "                      min_samples_leaf=1, min_samples_split=2,\n",
       "                      min_weight_fraction_leaf=0.0, presort='deprecated',\n",
       "                      random_state=None, splitter='best')"
      ]
     },
     "execution_count": 11,
     "metadata": {},
     "output_type": "execute_result"
    }
   ],
   "source": [
    "# Refit the two models\n",
    "grid = DecisionTreeRegressor(max_depth = clf.best_params_['max_depth'],\n",
    "                      max_leaf_nodes = clf.best_params_['max_leaf_nodes'])\n",
    "grid1 = DecisionTreeRegressor(ccp_alpha = clf1.best_params_['ccp_alpha'])\n",
    "grid.fit(X_train, y_train)\n",
    "grid1.fit(X_train, y_train)"
   ]
  },
  {
   "cell_type": "code",
   "execution_count": 12,
   "metadata": {},
   "outputs": [
    {
     "data": {
      "text/html": [
       "<div>\n",
       "<style scoped>\n",
       "    .dataframe tbody tr th:only-of-type {\n",
       "        vertical-align: middle;\n",
       "    }\n",
       "\n",
       "    .dataframe tbody tr th {\n",
       "        vertical-align: top;\n",
       "    }\n",
       "\n",
       "    .dataframe thead th {\n",
       "        text-align: right;\n",
       "    }\n",
       "</style>\n",
       "<table border=\"1\" class=\"dataframe\">\n",
       "  <thead>\n",
       "    <tr style=\"text-align: right;\">\n",
       "      <th></th>\n",
       "      <th>feature</th>\n",
       "      <th>Model1</th>\n",
       "      <th>Model2</th>\n",
       "    </tr>\n",
       "  </thead>\n",
       "  <tbody>\n",
       "    <tr>\n",
       "      <th>3</th>\n",
       "      <td>lnx</td>\n",
       "      <td>0.62096</td>\n",
       "      <td>0.580324</td>\n",
       "    </tr>\n",
       "    <tr>\n",
       "      <th>12</th>\n",
       "      <td>age_4</td>\n",
       "      <td>0.37904</td>\n",
       "      <td>0.419676</td>\n",
       "    </tr>\n",
       "    <tr>\n",
       "      <th>0</th>\n",
       "      <td>nkids</td>\n",
       "      <td>0.00000</td>\n",
       "      <td>0.000000</td>\n",
       "    </tr>\n",
       "    <tr>\n",
       "      <th>1</th>\n",
       "      <td>nkids2</td>\n",
       "      <td>0.00000</td>\n",
       "      <td>0.000000</td>\n",
       "    </tr>\n",
       "    <tr>\n",
       "      <th>2</th>\n",
       "      <td>nadults</td>\n",
       "      <td>0.00000</td>\n",
       "      <td>0.000000</td>\n",
       "    </tr>\n",
       "    <tr>\n",
       "      <th>4</th>\n",
       "      <td>salcohol</td>\n",
       "      <td>0.00000</td>\n",
       "      <td>0.000000</td>\n",
       "    </tr>\n",
       "    <tr>\n",
       "      <th>5</th>\n",
       "      <td>occupation_inactself</td>\n",
       "      <td>0.00000</td>\n",
       "      <td>0.000000</td>\n",
       "    </tr>\n",
       "    <tr>\n",
       "      <th>6</th>\n",
       "      <td>occupation_whitecol</td>\n",
       "      <td>0.00000</td>\n",
       "      <td>0.000000</td>\n",
       "    </tr>\n",
       "    <tr>\n",
       "      <th>7</th>\n",
       "      <td>region_flanders</td>\n",
       "      <td>0.00000</td>\n",
       "      <td>0.000000</td>\n",
       "    </tr>\n",
       "    <tr>\n",
       "      <th>8</th>\n",
       "      <td>region_walloon</td>\n",
       "      <td>0.00000</td>\n",
       "      <td>0.000000</td>\n",
       "    </tr>\n",
       "    <tr>\n",
       "      <th>9</th>\n",
       "      <td>age_1</td>\n",
       "      <td>0.00000</td>\n",
       "      <td>0.000000</td>\n",
       "    </tr>\n",
       "    <tr>\n",
       "      <th>10</th>\n",
       "      <td>age_2</td>\n",
       "      <td>0.00000</td>\n",
       "      <td>0.000000</td>\n",
       "    </tr>\n",
       "    <tr>\n",
       "      <th>11</th>\n",
       "      <td>age_3</td>\n",
       "      <td>0.00000</td>\n",
       "      <td>0.000000</td>\n",
       "    </tr>\n",
       "  </tbody>\n",
       "</table>\n",
       "</div>"
      ],
      "text/plain": [
       "                 feature   Model1    Model2\n",
       "3                    lnx  0.62096  0.580324\n",
       "12                 age_4  0.37904  0.419676\n",
       "0                  nkids  0.00000  0.000000\n",
       "1                 nkids2  0.00000  0.000000\n",
       "2                nadults  0.00000  0.000000\n",
       "4               salcohol  0.00000  0.000000\n",
       "5   occupation_inactself  0.00000  0.000000\n",
       "6    occupation_whitecol  0.00000  0.000000\n",
       "7        region_flanders  0.00000  0.000000\n",
       "8         region_walloon  0.00000  0.000000\n",
       "9                  age_1  0.00000  0.000000\n",
       "10                 age_2  0.00000  0.000000\n",
       "11                 age_3  0.00000  0.000000"
      ]
     },
     "execution_count": 12,
     "metadata": {},
     "output_type": "execute_result"
    }
   ],
   "source": [
    "# Report the important features from both models\n",
    "importance = pd.DataFrame({'feature':X_train.columns.values, \n",
    "                           'Model1':grid.feature_importances_,\n",
    "                          'Model2': grid1.feature_importances_})\n",
    "importance.sort_values(by = 'Model1', ascending = False)\n"
   ]
  },
  {
   "cell_type": "markdown",
   "metadata": {},
   "source": [
    "What's your observation?"
   ]
  },
  {
   "cell_type": "markdown",
   "metadata": {},
   "source": [
    "Answer: Both models agree with the top 2 most important features (in the same order). The regularized tree only has two selected predictor, which (might) indicate it's a very small tree, we need to investigate more on that."
   ]
  },
  {
   "cell_type": "markdown",
   "metadata": {},
   "source": [
    "#### Also plot your second tree. It should be small enough to plot."
   ]
  },
  {
   "cell_type": "code",
   "execution_count": 13,
   "metadata": {},
   "outputs": [
    {
     "data": {
      "text/plain": [
       "[Text(167.4, 181.2, 'lnx <= 13.334\\nmse = 0.001\\nsamples = 1906\\nvalue = 0.013'),\n",
       " Text(83.7, 108.72, 'age_4 <= 0.5\\nmse = 0.001\\nsamples = 410\\nvalue = 0.023'),\n",
       " Text(41.85, 36.23999999999998, 'mse = 0.002\\nsamples = 224\\nvalue = 0.031'),\n",
       " Text(125.55000000000001, 36.23999999999998, 'mse = 0.001\\nsamples = 186\\nvalue = 0.012'),\n",
       " Text(251.10000000000002, 108.72, 'lnx <= 14.04\\nmse = 0.0\\nsamples = 1496\\nvalue = 0.01'),\n",
       " Text(209.25, 36.23999999999998, 'mse = 0.001\\nsamples = 979\\nvalue = 0.012'),\n",
       " Text(292.95, 36.23999999999998, 'mse = 0.0\\nsamples = 517\\nvalue = 0.006')]"
      ]
     },
     "execution_count": 13,
     "metadata": {},
     "output_type": "execute_result"
    },
    {
     "data": {
      "image/png": "[encoded data removed]",
      "text/plain": [
       "<Figure size 432x288 with 1 Axes>"
      ]
     },
     "metadata": {
      "needs_background": "light"
     },
     "output_type": "display_data"
    }
   ],
   "source": [
    "# Draw your tree here\n",
    "small_clf = DecisionTreeRegressor(max_depth = 2)\n",
    "small_clf.fit(X_train, y_train)\n",
    "tree.plot_tree(small_clf, feature_names=X_train.columns.values)"
   ]
  },
  {
   "cell_type": "markdown",
   "metadata": {},
   "source": [
    "#### Now, let's treat stobacco as a dummy variable to distinguish between those who smoke and who do not. We then use decision tree classifier to identify the most important features that may affect probability of smoking. "
   ]
  },
  {
   "cell_type": "code",
   "execution_count": 14,
   "metadata": {},
   "outputs": [
    {
     "data": {
      "text/html": [
       "<div>\n",
       "<style scoped>\n",
       "    .dataframe tbody tr th:only-of-type {\n",
       "        vertical-align: middle;\n",
       "    }\n",
       "\n",
       "    .dataframe tbody tr th {\n",
       "        vertical-align: top;\n",
       "    }\n",
       "\n",
       "    .dataframe thead th {\n",
       "        text-align: right;\n",
       "    }\n",
       "</style>\n",
       "<table border=\"1\" class=\"dataframe\">\n",
       "  <thead>\n",
       "    <tr style=\"text-align: right;\">\n",
       "      <th></th>\n",
       "      <th>nkids</th>\n",
       "      <th>nkids2</th>\n",
       "      <th>nadults</th>\n",
       "      <th>lnx</th>\n",
       "      <th>salcohol</th>\n",
       "      <th>occupation_inactself</th>\n",
       "      <th>occupation_whitecol</th>\n",
       "      <th>region_flanders</th>\n",
       "      <th>region_walloon</th>\n",
       "      <th>age_1</th>\n",
       "      <th>age_2</th>\n",
       "      <th>age_3</th>\n",
       "      <th>age_4</th>\n",
       "      <th>smoke</th>\n",
       "    </tr>\n",
       "  </thead>\n",
       "  <tbody>\n",
       "    <tr>\n",
       "      <th>0</th>\n",
       "      <td>1</td>\n",
       "      <td>0</td>\n",
       "      <td>2</td>\n",
       "      <td>14.19054</td>\n",
       "      <td>0.000000</td>\n",
       "      <td>0</td>\n",
       "      <td>0</td>\n",
       "      <td>1</td>\n",
       "      <td>0</td>\n",
       "      <td>0</td>\n",
       "      <td>1</td>\n",
       "      <td>0</td>\n",
       "      <td>0</td>\n",
       "      <td>0</td>\n",
       "    </tr>\n",
       "    <tr>\n",
       "      <th>1</th>\n",
       "      <td>0</td>\n",
       "      <td>0</td>\n",
       "      <td>3</td>\n",
       "      <td>13.90857</td>\n",
       "      <td>0.002285</td>\n",
       "      <td>1</td>\n",
       "      <td>0</td>\n",
       "      <td>1</td>\n",
       "      <td>0</td>\n",
       "      <td>0</td>\n",
       "      <td>0</td>\n",
       "      <td>1</td>\n",
       "      <td>0</td>\n",
       "      <td>0</td>\n",
       "    </tr>\n",
       "    <tr>\n",
       "      <th>2</th>\n",
       "      <td>0</td>\n",
       "      <td>0</td>\n",
       "      <td>1</td>\n",
       "      <td>13.97461</td>\n",
       "      <td>0.012875</td>\n",
       "      <td>0</td>\n",
       "      <td>1</td>\n",
       "      <td>1</td>\n",
       "      <td>0</td>\n",
       "      <td>0</td>\n",
       "      <td>1</td>\n",
       "      <td>0</td>\n",
       "      <td>0</td>\n",
       "      <td>0</td>\n",
       "    </tr>\n",
       "    <tr>\n",
       "      <th>3</th>\n",
       "      <td>1</td>\n",
       "      <td>0</td>\n",
       "      <td>2</td>\n",
       "      <td>13.76281</td>\n",
       "      <td>0.005907</td>\n",
       "      <td>0</td>\n",
       "      <td>0</td>\n",
       "      <td>1</td>\n",
       "      <td>0</td>\n",
       "      <td>0</td>\n",
       "      <td>1</td>\n",
       "      <td>0</td>\n",
       "      <td>0</td>\n",
       "      <td>0</td>\n",
       "    </tr>\n",
       "    <tr>\n",
       "      <th>4</th>\n",
       "      <td>2</td>\n",
       "      <td>0</td>\n",
       "      <td>1</td>\n",
       "      <td>13.80800</td>\n",
       "      <td>0.021981</td>\n",
       "      <td>1</td>\n",
       "      <td>0</td>\n",
       "      <td>1</td>\n",
       "      <td>0</td>\n",
       "      <td>0</td>\n",
       "      <td>1</td>\n",
       "      <td>0</td>\n",
       "      <td>0</td>\n",
       "      <td>0</td>\n",
       "    </tr>\n",
       "    <tr>\n",
       "      <th>5</th>\n",
       "      <td>3</td>\n",
       "      <td>0</td>\n",
       "      <td>2</td>\n",
       "      <td>14.00313</td>\n",
       "      <td>0.016691</td>\n",
       "      <td>0</td>\n",
       "      <td>1</td>\n",
       "      <td>1</td>\n",
       "      <td>0</td>\n",
       "      <td>0</td>\n",
       "      <td>1</td>\n",
       "      <td>0</td>\n",
       "      <td>0</td>\n",
       "      <td>0</td>\n",
       "    </tr>\n",
       "    <tr>\n",
       "      <th>6</th>\n",
       "      <td>0</td>\n",
       "      <td>0</td>\n",
       "      <td>2</td>\n",
       "      <td>13.88680</td>\n",
       "      <td>0.069258</td>\n",
       "      <td>1</td>\n",
       "      <td>0</td>\n",
       "      <td>1</td>\n",
       "      <td>0</td>\n",
       "      <td>0</td>\n",
       "      <td>0</td>\n",
       "      <td>0</td>\n",
       "      <td>1</td>\n",
       "      <td>1</td>\n",
       "    </tr>\n",
       "    <tr>\n",
       "      <th>7</th>\n",
       "      <td>1</td>\n",
       "      <td>0</td>\n",
       "      <td>2</td>\n",
       "      <td>14.00711</td>\n",
       "      <td>0.026909</td>\n",
       "      <td>0</td>\n",
       "      <td>0</td>\n",
       "      <td>1</td>\n",
       "      <td>0</td>\n",
       "      <td>0</td>\n",
       "      <td>0</td>\n",
       "      <td>0</td>\n",
       "      <td>0</td>\n",
       "      <td>0</td>\n",
       "    </tr>\n",
       "    <tr>\n",
       "      <th>8</th>\n",
       "      <td>0</td>\n",
       "      <td>0</td>\n",
       "      <td>2</td>\n",
       "      <td>14.33985</td>\n",
       "      <td>0.000000</td>\n",
       "      <td>0</td>\n",
       "      <td>1</td>\n",
       "      <td>1</td>\n",
       "      <td>0</td>\n",
       "      <td>1</td>\n",
       "      <td>0</td>\n",
       "      <td>0</td>\n",
       "      <td>0</td>\n",
       "      <td>0</td>\n",
       "    </tr>\n",
       "    <tr>\n",
       "      <th>9</th>\n",
       "      <td>0</td>\n",
       "      <td>0</td>\n",
       "      <td>2</td>\n",
       "      <td>13.99883</td>\n",
       "      <td>0.031385</td>\n",
       "      <td>1</td>\n",
       "      <td>0</td>\n",
       "      <td>1</td>\n",
       "      <td>0</td>\n",
       "      <td>0</td>\n",
       "      <td>0</td>\n",
       "      <td>0</td>\n",
       "      <td>1</td>\n",
       "      <td>1</td>\n",
       "    </tr>\n",
       "  </tbody>\n",
       "</table>\n",
       "</div>"
      ],
      "text/plain": [
       "   nkids  nkids2  nadults       lnx  salcohol  occupation_inactself  \\\n",
       "0      1       0        2  14.19054  0.000000                     0   \n",
       "1      0       0        3  13.90857  0.002285                     1   \n",
       "2      0       0        1  13.97461  0.012875                     0   \n",
       "3      1       0        2  13.76281  0.005907                     0   \n",
       "4      2       0        1  13.80800  0.021981                     1   \n",
       "5      3       0        2  14.00313  0.016691                     0   \n",
       "6      0       0        2  13.88680  0.069258                     1   \n",
       "7      1       0        2  14.00711  0.026909                     0   \n",
       "8      0       0        2  14.33985  0.000000                     0   \n",
       "9      0       0        2  13.99883  0.031385                     1   \n",
       "\n",
       "   occupation_whitecol  region_flanders  region_walloon  age_1  age_2  age_3  \\\n",
       "0                    0                1               0      0      1      0   \n",
       "1                    0                1               0      0      0      1   \n",
       "2                    1                1               0      0      1      0   \n",
       "3                    0                1               0      0      1      0   \n",
       "4                    0                1               0      0      1      0   \n",
       "5                    1                1               0      0      1      0   \n",
       "6                    0                1               0      0      0      0   \n",
       "7                    0                1               0      0      0      0   \n",
       "8                    1                1               0      1      0      0   \n",
       "9                    0                1               0      0      0      0   \n",
       "\n",
       "   age_4  smoke  \n",
       "0      0      0  \n",
       "1      0      0  \n",
       "2      0      0  \n",
       "3      0      0  \n",
       "4      0      0  \n",
       "5      0      0  \n",
       "6      1      1  \n",
       "7      0      0  \n",
       "8      0      0  \n",
       "9      1      1  "
      ]
     },
     "execution_count": 14,
     "metadata": {},
     "output_type": "execute_result"
    }
   ],
   "source": [
    "# Create a dummy variable called smoke, that takes the value 0 if stobacco is 0, and 1 otherwise. \n",
    "# Delete your stobacco column afterwards\n",
    "# The smoke variable is now your response\n",
    "\n",
    "TobaccoData['smoke'] = (TobaccoData['stobacco'] > 0).astype(int)\n",
    "del TobaccoData['stobacco']\n",
    "TobaccoData.head(10)"
   ]
  },
  {
   "cell_type": "code",
   "execution_count": 15,
   "metadata": {},
   "outputs": [],
   "source": [
    "# Re-extract predictors and responses\n",
    "\n",
    "X1 = TobaccoData.copy() \n",
    "del X1['smoke']\n",
    "y1 = TobaccoData['smoke']\n",
    "\n",
    "# Split data\n",
    "X1_train, X1_test, y1_train, y1_test = train_test_split(X1, y1, test_size = 0.3, random_state = 1)"
   ]
  },
  {
   "cell_type": "markdown",
   "metadata": {},
   "source": [
    "#### Fit the classification trees, follow the same tunings above. Report the important variables for the two models. Use recall as your evaluation metric. You will need to do some customerization on the scoring part. See https://stackoverflow.com/questions/50933561/how-to-specify-positive-label-when-use-precision-as-scoring-in-gridsearchcv for more information."
   ]
  },
  {
   "cell_type": "code",
   "execution_count": 16,
   "metadata": {},
   "outputs": [
    {
     "data": {
      "text/plain": [
       "GridSearchCV(cv=5, error_score=nan,\n",
       "             estimator=DecisionTreeClassifier(ccp_alpha=0.0, class_weight=None,\n",
       "                                              criterion='gini', max_depth=None,\n",
       "                                              max_features=None,\n",
       "                                              max_leaf_nodes=None,\n",
       "                                              min_impurity_decrease=0.0,\n",
       "                                              min_impurity_split=None,\n",
       "                                              min_samples_leaf=1,\n",
       "                                              min_samples_split=2,\n",
       "                                              min_weight_fraction_leaf=0.0,\n",
       "                                              presort='deprecated',\n",
       "                                              random_state=1, splitter='best'),\n",
       "             iid='deprecated', n_jobs=-1,\n",
       "             param_grid={'criterion': ['gini', 'entropy'],\n",
       "                         'max_depth': range(2, 50),\n",
       "                         'max_leaf_nodes': range(2, 50)},\n",
       "             pre_dispatch='2*n_jobs', refit=True, return_train_score=False,\n",
       "             scoring=None, verbose=0)"
      ]
     },
     "execution_count": 16,
     "metadata": {},
     "output_type": "execute_result"
    }
   ],
   "source": [
    "# Tune your tree with max_depth and max_leaf_nodes\n",
    "decision_tree = DecisionTreeClassifier(random_state=1) \n",
    "\n",
    "paras = {'max_depth': range(2,50), # Discrete uniform distribution between 2 and 50\n",
    "        'max_leaf_nodes': range(2,50),\n",
    "        'criterion': ['gini', 'entropy']} \n",
    "clf2 = GridSearchCV(decision_tree, paras, n_jobs = -1, cv = 5) \n",
    "clf2.fit(X1_train, y1_train)"
   ]
  },
  {
   "cell_type": "code",
   "execution_count": 17,
   "metadata": {},
   "outputs": [
    {
     "name": "stdout",
     "output_type": "stream",
     "text": [
      "{'criterion': 'gini', 'max_depth': 4, 'max_leaf_nodes': 8}\n",
      "0.0891089108910891\n"
     ]
    }
   ],
   "source": [
    "# Report the best parameters and the recall value on the test set\n",
    "# Recall = TruePositives / (TruePositives + FalseNegatives)\n",
    "\n",
    "print(clf2.best_params_)\n",
    "# This is how we perform prediction\n",
    "print(recall_score(y1_test, clf2.predict(X1_test)))\n",
    "#https://scikit-learn.org/stable/modules/generated/sklearn.metrics.recall_score.html"
   ]
  },
  {
   "cell_type": "code",
   "execution_count": 18,
   "metadata": {
    "scrolled": true
   },
   "outputs": [
    {
     "data": {
      "text/plain": [
       "GridSearchCV(cv=5, error_score=nan,\n",
       "             estimator=DecisionTreeClassifier(ccp_alpha=0.0, class_weight=None,\n",
       "                                              criterion='gini', max_depth=None,\n",
       "                                              max_features=None,\n",
       "                                              max_leaf_nodes=None,\n",
       "                                              min_impurity_decrease=0.0,\n",
       "                                              min_impurity_split=None,\n",
       "                                              min_samples_leaf=1,\n",
       "                                              min_samples_split=2,\n",
       "                                              min_weight_fraction_leaf=0.0,\n",
       "                                              presort='deprecated',\n",
       "                                              random_state=1, splitter='best'),\n",
       "             iid='deprecated', n_jobs=-1,\n",
       "             param_grid={'ccp_alpha': array([0.00000000e+00, 1.11111111e-06, 2.22222222e-06, 3.33333333e-06,\n",
       "       4.44444444e-06, 5.55555556e-06, 6.66666667e-06, 7.77777778e-06,\n",
       "       8.88888889e-06, 1.00000000e-05]),\n",
       "                         'criterion': ['gini', 'entropy']},\n",
       "             pre_dispatch='2*n_jobs', refit=True, return_train_score=False,\n",
       "             scoring=None, verbose=0)"
      ]
     },
     "execution_count": 18,
     "metadata": {},
     "output_type": "execute_result"
    }
   ],
   "source": [
    "# Tune your tree with ccp_alpha \n",
    "decision_tree = DecisionTreeClassifier(random_state=1) # There is no preprocessing, so we just have one input\n",
    "\n",
    "paras = {'ccp_alpha': np.linspace(0, 0.00001, 10),\n",
    "        'criterion': ['gini', 'entropy']}\n",
    "clf3 = GridSearchCV(decision_tree, paras, n_jobs = -1, cv = 5) \n",
    "clf3.fit(X1_train, y1_train)"
   ]
  },
  {
   "cell_type": "code",
   "execution_count": 19,
   "metadata": {},
   "outputs": [
    {
     "name": "stdout",
     "output_type": "stream",
     "text": [
      "{'ccp_alpha': 0.0, 'criterion': 'entropy'}\n",
      "0.44884488448844884\n"
     ]
    }
   ],
   "source": [
    "# Report the best parameters and the recall value on the test set\n",
    "\n",
    "print(clf3.best_params_)\n",
    "# This is how we perform prediction\n",
    "print(recall_score(y1_test, clf3.predict(X1_test)))"
   ]
  },
  {
   "cell_type": "markdown",
   "metadata": {},
   "source": [
    "What's your observation? \n",
    "\n",
    "Answer: From the recall value, it is clearly that the first decisiton tree model with 'max_depth'=4 and 'max_leaf_nodes'=8 is not perform well. Even the second model 'ccp_alpha'=0 only has 46.9% of recall value. The result means that among all the actual positive outputs, we only prodict correctly with less than half of them. "
   ]
  },
  {
   "cell_type": "markdown",
   "metadata": {},
   "source": [
    "#### Now refit the two models with the best parameters, and get the important features. "
   ]
  },
  {
   "cell_type": "code",
   "execution_count": 20,
   "metadata": {},
   "outputs": [
    {
     "data": {
      "text/plain": [
       "DecisionTreeClassifier(ccp_alpha=0.0, class_weight=None, criterion='entropy',\n",
       "                       max_depth=None, max_features=None, max_leaf_nodes=None,\n",
       "                       min_impurity_decrease=0.0, min_impurity_split=None,\n",
       "                       min_samples_leaf=1, min_samples_split=2,\n",
       "                       min_weight_fraction_leaf=0.0, presort='deprecated',\n",
       "                       random_state=None, splitter='best')"
      ]
     },
     "execution_count": 20,
     "metadata": {},
     "output_type": "execute_result"
    }
   ],
   "source": [
    "# Refit the two models\n",
    "grid2 = DecisionTreeClassifier(max_depth = clf2.best_params_['max_depth'],\n",
    "                      max_leaf_nodes = clf2.best_params_['max_leaf_nodes'],\n",
    "                             criterion = clf2.best_params_['criterion'])\n",
    "grid3 = DecisionTreeClassifier(ccp_alpha = clf3.best_params_['ccp_alpha'],\n",
    "                              criterion = clf3.best_params_['criterion'])\n",
    "grid2.fit(X1_train, y1_train)\n",
    "grid3.fit(X1_train, y1_train)"
   ]
  },
  {
   "cell_type": "code",
   "execution_count": 21,
   "metadata": {},
   "outputs": [
    {
     "data": {
      "text/html": [
       "<div>\n",
       "<style scoped>\n",
       "    .dataframe tbody tr th:only-of-type {\n",
       "        vertical-align: middle;\n",
       "    }\n",
       "\n",
       "    .dataframe tbody tr th {\n",
       "        vertical-align: top;\n",
       "    }\n",
       "\n",
       "    .dataframe thead th {\n",
       "        text-align: right;\n",
       "    }\n",
       "</style>\n",
       "<table border=\"1\" class=\"dataframe\">\n",
       "  <thead>\n",
       "    <tr style=\"text-align: right;\">\n",
       "      <th></th>\n",
       "      <th>feature</th>\n",
       "      <th>Model3</th>\n",
       "      <th>Model4</th>\n",
       "    </tr>\n",
       "  </thead>\n",
       "  <tbody>\n",
       "    <tr>\n",
       "      <th>12</th>\n",
       "      <td>age_4</td>\n",
       "      <td>0.403999</td>\n",
       "      <td>0.017530</td>\n",
       "    </tr>\n",
       "    <tr>\n",
       "      <th>3</th>\n",
       "      <td>lnx</td>\n",
       "      <td>0.256018</td>\n",
       "      <td>0.422727</td>\n",
       "    </tr>\n",
       "    <tr>\n",
       "      <th>4</th>\n",
       "      <td>salcohol</td>\n",
       "      <td>0.194153</td>\n",
       "      <td>0.327448</td>\n",
       "    </tr>\n",
       "    <tr>\n",
       "      <th>2</th>\n",
       "      <td>nadults</td>\n",
       "      <td>0.145830</td>\n",
       "      <td>0.033886</td>\n",
       "    </tr>\n",
       "    <tr>\n",
       "      <th>0</th>\n",
       "      <td>nkids</td>\n",
       "      <td>0.000000</td>\n",
       "      <td>0.058920</td>\n",
       "    </tr>\n",
       "    <tr>\n",
       "      <th>1</th>\n",
       "      <td>nkids2</td>\n",
       "      <td>0.000000</td>\n",
       "      <td>0.005958</td>\n",
       "    </tr>\n",
       "    <tr>\n",
       "      <th>5</th>\n",
       "      <td>occupation_inactself</td>\n",
       "      <td>0.000000</td>\n",
       "      <td>0.019148</td>\n",
       "    </tr>\n",
       "    <tr>\n",
       "      <th>6</th>\n",
       "      <td>occupation_whitecol</td>\n",
       "      <td>0.000000</td>\n",
       "      <td>0.012439</td>\n",
       "    </tr>\n",
       "    <tr>\n",
       "      <th>7</th>\n",
       "      <td>region_flanders</td>\n",
       "      <td>0.000000</td>\n",
       "      <td>0.023206</td>\n",
       "    </tr>\n",
       "    <tr>\n",
       "      <th>8</th>\n",
       "      <td>region_walloon</td>\n",
       "      <td>0.000000</td>\n",
       "      <td>0.026398</td>\n",
       "    </tr>\n",
       "    <tr>\n",
       "      <th>9</th>\n",
       "      <td>age_1</td>\n",
       "      <td>0.000000</td>\n",
       "      <td>0.011924</td>\n",
       "    </tr>\n",
       "    <tr>\n",
       "      <th>10</th>\n",
       "      <td>age_2</td>\n",
       "      <td>0.000000</td>\n",
       "      <td>0.026784</td>\n",
       "    </tr>\n",
       "    <tr>\n",
       "      <th>11</th>\n",
       "      <td>age_3</td>\n",
       "      <td>0.000000</td>\n",
       "      <td>0.013631</td>\n",
       "    </tr>\n",
       "  </tbody>\n",
       "</table>\n",
       "</div>"
      ],
      "text/plain": [
       "                 feature    Model3    Model4\n",
       "12                 age_4  0.403999  0.017530\n",
       "3                    lnx  0.256018  0.422727\n",
       "4               salcohol  0.194153  0.327448\n",
       "2                nadults  0.145830  0.033886\n",
       "0                  nkids  0.000000  0.058920\n",
       "1                 nkids2  0.000000  0.005958\n",
       "5   occupation_inactself  0.000000  0.019148\n",
       "6    occupation_whitecol  0.000000  0.012439\n",
       "7        region_flanders  0.000000  0.023206\n",
       "8         region_walloon  0.000000  0.026398\n",
       "9                  age_1  0.000000  0.011924\n",
       "10                 age_2  0.000000  0.026784\n",
       "11                 age_3  0.000000  0.013631"
      ]
     },
     "execution_count": 21,
     "metadata": {},
     "output_type": "execute_result"
    }
   ],
   "source": [
    "# Important features\n",
    "importance = pd.DataFrame({'feature':X1_train.columns.values, \n",
    "                           'Model3':grid2.feature_importances_,\n",
    "                          'Model4': grid3.feature_importances_})\n",
    "importance.sort_values(by = 'Model3', ascending = False)"
   ]
  },
  {
   "cell_type": "markdown",
   "metadata": {},
   "source": [
    "What's your observation?\n",
    "\n",
    "Answer: It shows Model 3 is quite simple, with only 4 important features. However, Model 4 shows a different result, even the important features are different. "
   ]
  },
  {
   "cell_type": "code",
   "execution_count": null,
   "metadata": {},
   "outputs": [],
   "source": []
  }
 ],
 "metadata": {
  "kernelspec": {
   "display_name": "Python 3",
   "language": "python",
   "name": "python3"
  },
  "language_info": {
   "codemirror_mode": {
    "name": "ipython",
    "version": 3
   },
   "file_extension": ".py",
   "mimetype": "text/x-python",
   "name": "python",
   "nbconvert_exporter": "python",
   "pygments_lexer": "ipython3",
   "version": "3.7.3"
  }
 },
 "nbformat": 4,
 "nbformat_minor": 1
}
