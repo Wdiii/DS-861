{
 "cells": [
  {
   "cell_type": "code",
   "execution_count": 1,
   "metadata": {},
   "outputs": [],
   "source": [
    "import pandas as pd\n",
    "import numpy as np\n",
    "import matplotlib.pyplot as plt\n",
    "%matplotlib inline\n",
    "\n",
    "import warnings"
   ]
  },
  {
   "cell_type": "code",
   "execution_count": 2,
   "metadata": {},
   "outputs": [],
   "source": [
    "DataWalmart = pd.read_csv(\"train.csv\")"
   ]
  },
  {
   "cell_type": "markdown",
   "metadata": {},
   "source": [
    "Walmart Sales Data\n",
    "\n",
    "For the independent practice, we will analyze the weekly sales data from Walmart over a two year period from 2010 to 2012.\n",
    "\n",
    "The data is again separated by store and by department, but for simplicity we will focus on analyzing one store.\n",
    "\n",
    "The data includes:\n",
    "    \n",
    "    Store - the store number\n",
    "\n",
    "    Dept - the department number\n",
    "\n",
    "    Date - the week\n",
    "\n",
    "    Weekly_Sales - sales for the given department in the given store\n",
    "\n",
    "    IsHoliday - whether the week is a special holiday week"
   ]
  },
  {
   "cell_type": "markdown",
   "metadata": {},
   "source": [
    "#### Load the data and set index to Date\n"
   ]
  },
  {
   "cell_type": "code",
   "execution_count": 3,
   "metadata": {},
   "outputs": [
    {
     "data": {
      "text/html": [
       "<div>\n",
       "<style scoped>\n",
       "    .dataframe tbody tr th:only-of-type {\n",
       "        vertical-align: middle;\n",
       "    }\n",
       "\n",
       "    .dataframe tbody tr th {\n",
       "        vertical-align: top;\n",
       "    }\n",
       "\n",
       "    .dataframe thead th {\n",
       "        text-align: right;\n",
       "    }\n",
       "</style>\n",
       "<table border=\"1\" class=\"dataframe\">\n",
       "  <thead>\n",
       "    <tr style=\"text-align: right;\">\n",
       "      <th></th>\n",
       "      <th>Store</th>\n",
       "      <th>Dept</th>\n",
       "      <th>Date</th>\n",
       "      <th>Weekly_Sales</th>\n",
       "      <th>IsHoliday</th>\n",
       "    </tr>\n",
       "  </thead>\n",
       "  <tbody>\n",
       "    <tr>\n",
       "      <th>0</th>\n",
       "      <td>1</td>\n",
       "      <td>1</td>\n",
       "      <td>2010-02-05</td>\n",
       "      <td>24924.50</td>\n",
       "      <td>False</td>\n",
       "    </tr>\n",
       "    <tr>\n",
       "      <th>1</th>\n",
       "      <td>1</td>\n",
       "      <td>1</td>\n",
       "      <td>2010-02-12</td>\n",
       "      <td>46039.49</td>\n",
       "      <td>True</td>\n",
       "    </tr>\n",
       "  </tbody>\n",
       "</table>\n",
       "</div>"
      ],
      "text/plain": [
       "   Store  Dept        Date  Weekly_Sales  IsHoliday\n",
       "0      1     1  2010-02-05      24924.50      False\n",
       "1      1     1  2010-02-12      46039.49       True"
      ]
     },
     "execution_count": 3,
     "metadata": {},
     "output_type": "execute_result"
    }
   ],
   "source": [
    "DataWalmart.head(2)"
   ]
  },
  {
   "cell_type": "code",
   "execution_count": 4,
   "metadata": {},
   "outputs": [
    {
     "data": {
      "text/html": [
       "<div>\n",
       "<style scoped>\n",
       "    .dataframe tbody tr th:only-of-type {\n",
       "        vertical-align: middle;\n",
       "    }\n",
       "\n",
       "    .dataframe tbody tr th {\n",
       "        vertical-align: top;\n",
       "    }\n",
       "\n",
       "    .dataframe thead th {\n",
       "        text-align: right;\n",
       "    }\n",
       "</style>\n",
       "<table border=\"1\" class=\"dataframe\">\n",
       "  <thead>\n",
       "    <tr style=\"text-align: right;\">\n",
       "      <th></th>\n",
       "      <th>Store</th>\n",
       "      <th>Dept</th>\n",
       "      <th>Weekly_Sales</th>\n",
       "      <th>IsHoliday</th>\n",
       "      <th>Year</th>\n",
       "      <th>Month</th>\n",
       "    </tr>\n",
       "    <tr>\n",
       "      <th>Date</th>\n",
       "      <th></th>\n",
       "      <th></th>\n",
       "      <th></th>\n",
       "      <th></th>\n",
       "      <th></th>\n",
       "      <th></th>\n",
       "    </tr>\n",
       "  </thead>\n",
       "  <tbody>\n",
       "    <tr>\n",
       "      <th>2010-02-05</th>\n",
       "      <td>1</td>\n",
       "      <td>1</td>\n",
       "      <td>24924.50</td>\n",
       "      <td>False</td>\n",
       "      <td>2010</td>\n",
       "      <td>2</td>\n",
       "    </tr>\n",
       "    <tr>\n",
       "      <th>2010-02-12</th>\n",
       "      <td>1</td>\n",
       "      <td>1</td>\n",
       "      <td>46039.49</td>\n",
       "      <td>True</td>\n",
       "      <td>2010</td>\n",
       "      <td>2</td>\n",
       "    </tr>\n",
       "    <tr>\n",
       "      <th>2010-02-19</th>\n",
       "      <td>1</td>\n",
       "      <td>1</td>\n",
       "      <td>41595.55</td>\n",
       "      <td>False</td>\n",
       "      <td>2010</td>\n",
       "      <td>2</td>\n",
       "    </tr>\n",
       "    <tr>\n",
       "      <th>2010-02-26</th>\n",
       "      <td>1</td>\n",
       "      <td>1</td>\n",
       "      <td>19403.54</td>\n",
       "      <td>False</td>\n",
       "      <td>2010</td>\n",
       "      <td>2</td>\n",
       "    </tr>\n",
       "    <tr>\n",
       "      <th>2010-03-05</th>\n",
       "      <td>1</td>\n",
       "      <td>1</td>\n",
       "      <td>21827.90</td>\n",
       "      <td>False</td>\n",
       "      <td>2010</td>\n",
       "      <td>3</td>\n",
       "    </tr>\n",
       "  </tbody>\n",
       "</table>\n",
       "</div>"
      ],
      "text/plain": [
       "            Store  Dept  Weekly_Sales  IsHoliday  Year  Month\n",
       "Date                                                         \n",
       "2010-02-05      1     1      24924.50      False  2010      2\n",
       "2010-02-12      1     1      46039.49       True  2010      2\n",
       "2010-02-19      1     1      41595.55      False  2010      2\n",
       "2010-02-26      1     1      19403.54      False  2010      2\n",
       "2010-03-05      1     1      21827.90      False  2010      3"
      ]
     },
     "execution_count": 4,
     "metadata": {},
     "output_type": "execute_result"
    }
   ],
   "source": [
    "DataWalmart['Date'] = pd.to_datetime(DataWalmart['Date'])\n",
    "DataWalmart.set_index('Date', inplace=True)\n",
    "DataWalmart['Year'] = DataWalmart.index.year  #If you want to acces Year later or Acces Month later\n",
    "DataWalmart['Month'] = DataWalmart.index.month\n",
    "DataWalmart.head()"
   ]
  },
  {
   "cell_type": "markdown",
   "metadata": {},
   "source": [
    "#### Filter the dataframe to Store 1 sales and aggregate over departments to compute the total sales per store. Let's call new dataset store1_sales and its variable \"Weekly_Sales\"\n"
   ]
  },
  {
   "cell_type": "code",
   "execution_count": 5,
   "metadata": {},
   "outputs": [
    {
     "data": {
      "text/html": [
       "<div>\n",
       "<style scoped>\n",
       "    .dataframe tbody tr th:only-of-type {\n",
       "        vertical-align: middle;\n",
       "    }\n",
       "\n",
       "    .dataframe tbody tr th {\n",
       "        vertical-align: top;\n",
       "    }\n",
       "\n",
       "    .dataframe thead th {\n",
       "        text-align: right;\n",
       "    }\n",
       "</style>\n",
       "<table border=\"1\" class=\"dataframe\">\n",
       "  <thead>\n",
       "    <tr style=\"text-align: right;\">\n",
       "      <th></th>\n",
       "      <th>Weekly_Sales</th>\n",
       "    </tr>\n",
       "    <tr>\n",
       "      <th>Date</th>\n",
       "      <th></th>\n",
       "    </tr>\n",
       "  </thead>\n",
       "  <tbody>\n",
       "    <tr>\n",
       "      <th>2010-02-05</th>\n",
       "      <td>1643690.90</td>\n",
       "    </tr>\n",
       "    <tr>\n",
       "      <th>2010-02-12</th>\n",
       "      <td>1641957.44</td>\n",
       "    </tr>\n",
       "    <tr>\n",
       "      <th>2010-02-19</th>\n",
       "      <td>1611968.17</td>\n",
       "    </tr>\n",
       "    <tr>\n",
       "      <th>2010-02-26</th>\n",
       "      <td>1409727.59</td>\n",
       "    </tr>\n",
       "    <tr>\n",
       "      <th>2010-03-05</th>\n",
       "      <td>1554806.68</td>\n",
       "    </tr>\n",
       "  </tbody>\n",
       "</table>\n",
       "</div>"
      ],
      "text/plain": [
       "            Weekly_Sales\n",
       "Date                    \n",
       "2010-02-05    1643690.90\n",
       "2010-02-12    1641957.44\n",
       "2010-02-19    1611968.17\n",
       "2010-02-26    1409727.59\n",
       "2010-03-05    1554806.68"
      ]
     },
     "execution_count": 5,
     "metadata": {},
     "output_type": "execute_result"
    }
   ],
   "source": [
    "DataWalmart.sort_index(axis = 0, ascending = True, inplace = True)\n",
    "store1_data = DataWalmart[DataWalmart.Store == 1] #select store 1\n",
    "store1_sales = store1_data.groupby('Date').sum() #use groupby to get the aggregate over departments\n",
    "store1_sales[['Weekly_Sales']].head()"
   ]
  },
  {
   "cell_type": "markdown",
   "metadata": {},
   "source": [
    "#### Plot the Weekly_Sales. What general trends do you observe?\n"
   ]
  },
  {
   "cell_type": "code",
   "execution_count": 6,
   "metadata": {},
   "outputs": [
    {
     "data": {
      "text/plain": [
       "<matplotlib.axes._subplots.AxesSubplot at 0x14d9d155a20>"
      ]
     },
     "execution_count": 6,
     "metadata": {},
     "output_type": "execute_result"
    },
    {
     "data": {
      "image/png": "[encoded data removed]",
      "text/plain": [
       "<Figure size 432x288 with 1 Axes>"
      ]
     },
     "metadata": {
      "needs_background": "light"
     },
     "output_type": "display_data"
    }
   ],
   "source": [
    "store1_sales[['Weekly_Sales']].plot()"
   ]
  },
  {
   "cell_type": "markdown",
   "metadata": {},
   "source": [
    "Answer: It might be some correlation between sales and time, because we can see the peak appears in December."
   ]
  },
  {
   "cell_type": "markdown",
   "metadata": {},
   "source": [
    "#### Create an autocorrelation plot and explain your findings"
   ]
  },
  {
   "cell_type": "code",
   "execution_count": 7,
   "metadata": {},
   "outputs": [
    {
     "name": "stderr",
     "output_type": "stream",
     "text": [
      "C:\\ProgramData\\Anaconda3\\lib\\site-packages\\ipykernel_launcher.py:2: FutureWarning: the 'freq'' keyword is deprecated, use 'period' instead\n",
      "  \n"
     ]
    },
    {
     "data": {
      "image/png": "[encoded data removed]",
      "text/plain": [
       "<Figure size 432x288 with 4 Axes>"
      ]
     },
     "metadata": {
      "needs_background": "light"
     },
     "output_type": "display_data"
    }
   ],
   "source": [
    "import statsmodels.api as sm\n",
    "decomposed = sm.tsa.seasonal_decompose(store1_sales.Weekly_Sales, freq = 54, model = 'additive') \n",
    "# Using a frequency of 54 representing weekly data\n",
    "figure = decomposed.plot()\n",
    "plt.show()"
   ]
  },
  {
   "cell_type": "code",
   "execution_count": 8,
   "metadata": {},
   "outputs": [
    {
     "data": {
      "image/png": "[encoded data removed]",
      "text/plain": [
       "<Figure size 432x288 with 1 Axes>"
      ]
     },
     "metadata": {
      "needs_background": "light"
     },
     "output_type": "display_data"
    }
   ],
   "source": [
    "from statsmodels.graphics.tsaplots import plot_acf\n",
    "from statsmodels.graphics.tsaplots import plot_pacf\n",
    "\n",
    "# ACF plot\n",
    "plot_acf(decomposed.resid.dropna(), lags = 10)\n",
    "plt.show()"
   ]
  },
  {
   "cell_type": "code",
   "execution_count": 9,
   "metadata": {},
   "outputs": [
    {
     "data": {
      "image/png": "[encoded data removed]",
      "text/plain": [
       "<Figure size 432x288 with 1 Axes>"
      ]
     },
     "metadata": {
      "needs_background": "light"
     },
     "output_type": "display_data"
    }
   ],
   "source": [
    "# PACF plot\n",
    "plot_pacf(decomposed.resid.dropna(), lags =7)\n",
    "plt.show()"
   ]
  },
  {
   "cell_type": "markdown",
   "metadata": {},
   "source": [
    "Based on the result, we can't determine which ARMA model we should use."
   ]
  },
  {
   "cell_type": "code",
   "execution_count": 10,
   "metadata": {},
   "outputs": [
    {
     "data": {
      "image/png": "[encoded data removed]",
      "text/plain": [
       "<Figure size 432x288 with 1 Axes>"
      ]
     },
     "execution_count": 10,
     "metadata": {},
     "output_type": "execute_result"
    },
    {
     "data": {
      "image/png": "[encoded data removed]",
      "text/plain": [
       "<Figure size 432x288 with 1 Axes>"
      ]
     },
     "metadata": {
      "needs_background": "light"
     },
     "output_type": "display_data"
    }
   ],
   "source": [
    "plot_acf(store1_sales.Weekly_Sales, lags=25)"
   ]
  },
  {
   "cell_type": "markdown",
   "metadata": {},
   "source": [
    "Answer: We observe autocorrelation at 25 lag values. The weekly sales data seems stable with in this graph, which is good, but we haven't see a clear trend for it."
   ]
  },
  {
   "cell_type": "markdown",
   "metadata": {},
   "source": [
    "#### Split the weekly sales data in a training and test set - using 80% of the data for training. (In this section we use not-so-great Train/Test split method!"
   ]
  },
  {
   "cell_type": "markdown",
   "metadata": {},
   "source": [
    "We can only do so in a sequential manner"
   ]
  },
  {
   "cell_type": "code",
   "execution_count": 11,
   "metadata": {},
   "outputs": [],
   "source": [
    "n = len(store1_sales.Weekly_Sales)\n",
    "\n",
    "train = store1_sales.Weekly_Sales[:int(.80*n)] #first 80% of data assigned to training set\n",
    "test = store1_sales.Weekly_Sales[int(.20*n):]  #last 20% of data assigned to our test set"
   ]
  },
  {
   "cell_type": "markdown",
   "metadata": {},
   "source": [
    "#### Develope an AR(1) model on the training data and compute the mean absolute error of the predictions."
   ]
  },
  {
   "cell_type": "code",
   "execution_count": 12,
   "metadata": {},
   "outputs": [],
   "source": [
    "#from statsmodels.tsa.ar_model import AR\n",
    "\n",
    "#model1 = AR(train).fit(maxlag=1)\n",
    "#model1.summary()"
   ]
  },
  {
   "cell_type": "code",
   "execution_count": 13,
   "metadata": {},
   "outputs": [
    {
     "name": "stderr",
     "output_type": "stream",
     "text": [
      "C:\\ProgramData\\Anaconda3\\lib\\site-packages\\statsmodels\\tsa\\base\\tsa_model.py:162: ValueWarning: No frequency information was provided, so inferred frequency W-FRI will be used.\n",
      "  % freq, ValueWarning)\n"
     ]
    },
    {
     "data": {
      "text/html": [
       "<table class=\"simpletable\">\n",
       "<caption>ARMA Model Results</caption>\n",
       "<tr>\n",
       "  <th>Dep. Variable:</th>   <td>Weekly_Sales</td>   <th>  No. Observations:  </th>     <td>114</td>   \n",
       "</tr>\n",
       "<tr>\n",
       "  <th>Model:</th>            <td>ARMA(1, 0)</td>    <th>  Log Likelihood     </th>  <td>-1528.189</td>\n",
       "</tr>\n",
       "<tr>\n",
       "  <th>Method:</th>             <td>css-mle</td>     <th>  S.D. of innovations</th> <td>160453.395</td>\n",
       "</tr>\n",
       "<tr>\n",
       "  <th>Date:</th>          <td>Sun, 10 May 2020</td> <th>  AIC                </th>  <td>3062.379</td> \n",
       "</tr>\n",
       "<tr>\n",
       "  <th>Time:</th>              <td>16:46:21</td>     <th>  BIC                </th>  <td>3070.587</td> \n",
       "</tr>\n",
       "<tr>\n",
       "  <th>Sample:</th>           <td>02-05-2010</td>    <th>  HQIC               </th>  <td>3065.710</td> \n",
       "</tr>\n",
       "<tr>\n",
       "  <th></th>                 <td>- 04-06-2012</td>   <th>                     </th>      <td> </td>    \n",
       "</tr>\n",
       "</table>\n",
       "<table class=\"simpletable\">\n",
       "<tr>\n",
       "           <td></td>             <th>coef</th>     <th>std err</th>      <th>z</th>      <th>P>|z|</th>  <th>[0.025</th>    <th>0.975]</th>  \n",
       "</tr>\n",
       "<tr>\n",
       "  <th>const</th>              <td> 1.551e+06</td> <td>  2.2e+04</td> <td>   70.487</td> <td> 0.000</td> <td> 1.51e+06</td> <td> 1.59e+06</td>\n",
       "</tr>\n",
       "<tr>\n",
       "  <th>ar.L1.Weekly_Sales</th> <td>    0.3198</td> <td>    0.090</td> <td>    3.546</td> <td> 0.000</td> <td>    0.143</td> <td>    0.497</td>\n",
       "</tr>\n",
       "</table>\n",
       "<table class=\"simpletable\">\n",
       "<caption>Roots</caption>\n",
       "<tr>\n",
       "    <td></td>   <th>            Real</th>  <th>         Imaginary</th> <th>         Modulus</th>  <th>        Frequency</th>\n",
       "</tr>\n",
       "<tr>\n",
       "  <th>AR.1</th> <td>           3.1271</td> <td>          +0.0000j</td> <td>           3.1271</td> <td>           0.0000</td>\n",
       "</tr>\n",
       "</table>"
      ],
      "text/plain": [
       "<class 'statsmodels.iolib.summary.Summary'>\n",
       "\"\"\"\n",
       "                              ARMA Model Results                              \n",
       "==============================================================================\n",
       "Dep. Variable:           Weekly_Sales   No. Observations:                  114\n",
       "Model:                     ARMA(1, 0)   Log Likelihood               -1528.189\n",
       "Method:                       css-mle   S.D. of innovations         160453.395\n",
       "Date:                Sun, 10 May 2020   AIC                           3062.379\n",
       "Time:                        16:46:21   BIC                           3070.587\n",
       "Sample:                    02-05-2010   HQIC                          3065.710\n",
       "                         - 04-06-2012                                         \n",
       "======================================================================================\n",
       "                         coef    std err          z      P>|z|      [0.025      0.975]\n",
       "--------------------------------------------------------------------------------------\n",
       "const               1.551e+06    2.2e+04     70.487      0.000    1.51e+06    1.59e+06\n",
       "ar.L1.Weekly_Sales     0.3198      0.090      3.546      0.000       0.143       0.497\n",
       "                                    Roots                                    \n",
       "=============================================================================\n",
       "                  Real          Imaginary           Modulus         Frequency\n",
       "-----------------------------------------------------------------------------\n",
       "AR.1            3.1271           +0.0000j            3.1271            0.0000\n",
       "-----------------------------------------------------------------------------\n",
       "\"\"\""
      ]
     },
     "execution_count": 13,
     "metadata": {},
     "output_type": "execute_result"
    }
   ],
   "source": [
    "from statsmodels.tsa.arima_model import ARMA\n",
    "\n",
    "model1 = ARMA(train, (1, 0)).fit()\n",
    "model1.summary()"
   ]
  },
  {
   "cell_type": "code",
   "execution_count": 14,
   "metadata": {},
   "outputs": [
    {
     "name": "stdout",
     "output_type": "stream",
     "text": [
      "2010-08-20 00:00:00\n",
      "2012-10-26 00:00:00\n"
     ]
    }
   ],
   "source": [
    "#get the start and end date of testing data\n",
    "print(test.index[0])\n",
    "print(test.index[len(test)-1])"
   ]
  },
  {
   "cell_type": "code",
   "execution_count": 15,
   "metadata": {},
   "outputs": [
    {
     "name": "stdout",
     "output_type": "stream",
     "text": [
      "109392.95271027973\n"
     ]
    }
   ],
   "source": [
    "predictions1 = model1.predict(start = '2010-08-20', end = '2012-10-26')\n",
    "#compute the mean absolute error\n",
    "from sklearn.metrics import mean_absolute_error\n",
    "MAE = (mean_absolute_error(test, predictions1)) \n",
    "print(MAE)"
   ]
  },
  {
   "cell_type": "markdown",
   "metadata": {},
   "source": [
    "#### Plot the residuals - where are their significant errors."
   ]
  },
  {
   "cell_type": "code",
   "execution_count": 16,
   "metadata": {},
   "outputs": [
    {
     "data": {
      "text/plain": [
       "<matplotlib.axes._subplots.AxesSubplot at 0x14da19f42e8>"
      ]
     },
     "execution_count": 16,
     "metadata": {},
     "output_type": "execute_result"
    },
    {
     "data": {
      "image/png": "[encoded data removed]",
      "text/plain": [
       "<Figure size 432x288 with 1 Axes>"
      ]
     },
     "metadata": {
      "needs_background": "light"
     },
     "output_type": "display_data"
    }
   ],
   "source": [
    "DataFramePredictions = pd.DataFrame(predictions1)\n",
    "DataFramePredictions['Actual'] = test\n",
    "DataFramePredictions.columns = ['predictions','actual']\n",
    "DataFramePredictions.plot()"
   ]
  },
  {
   "cell_type": "markdown",
   "metadata": {},
   "source": [
    "Answer: The significant errors shows between November to February."
   ]
  },
  {
   "cell_type": "markdown",
   "metadata": {},
   "source": [
    "#### Compute and AR(2) model and an ARIMA(3, 1,1) model - does this improve your mean absolute error on the held out set.\n"
   ]
  },
  {
   "cell_type": "code",
   "execution_count": 17,
   "metadata": {},
   "outputs": [
    {
     "name": "stdout",
     "output_type": "stream",
     "text": [
      "109526.2847182811\n"
     ]
    },
    {
     "name": "stderr",
     "output_type": "stream",
     "text": [
      "C:\\ProgramData\\Anaconda3\\lib\\site-packages\\statsmodels\\tsa\\base\\tsa_model.py:162: ValueWarning: No frequency information was provided, so inferred frequency W-FRI will be used.\n",
      "  % freq, ValueWarning)\n"
     ]
    }
   ],
   "source": [
    "#AR(2)\n",
    "model2 = ARMA(train, (2, 0)).fit()\n",
    "model2.summary()\n",
    "\n",
    "predictions2 = model2.predict(start = '2010-08-20', end = '2012-10-26')\n",
    "#compute the mean absolute error\n",
    "MAE = (mean_absolute_error(test, predictions2)) \n",
    "print(MAE)"
   ]
  },
  {
   "cell_type": "code",
   "execution_count": 18,
   "metadata": {},
   "outputs": [
    {
     "name": "stderr",
     "output_type": "stream",
     "text": [
      "C:\\ProgramData\\Anaconda3\\lib\\site-packages\\statsmodels\\tsa\\base\\tsa_model.py:162: ValueWarning: No frequency information was provided, so inferred frequency W-FRI will be used.\n",
      "  % freq, ValueWarning)\n",
      "C:\\ProgramData\\Anaconda3\\lib\\site-packages\\statsmodels\\tsa\\base\\tsa_model.py:162: ValueWarning: No frequency information was provided, so inferred frequency W-FRI will be used.\n",
      "  % freq, ValueWarning)\n"
     ]
    },
    {
     "name": "stdout",
     "output_type": "stream",
     "text": [
      "148292.56473820188\n"
     ]
    }
   ],
   "source": [
    "#ARIMA(3,1,1)\n",
    "from statsmodels.tsa.arima_model import ARIMA\n",
    "\n",
    "model3 = ARIMA(train, (3, 1, 1)).fit()\n",
    "model3.summary()\n",
    "\n",
    "predictions3 = model3.predict(start = '2010-08-20', end = '2012-10-26', dynamic = False, typ ='levels')\n",
    "#compute the mean absolute error\n",
    "MAE = (mean_absolute_error(test, predictions3)) \n",
    "print(MAE)"
   ]
  },
  {
   "cell_type": "markdown",
   "metadata": {},
   "source": [
    "It doesn't improve our mean absolute error on the held out set."
   ]
  },
  {
   "cell_type": "markdown",
   "metadata": {},
   "source": [
    "#### Finally, compute an ARIMA model to improve your prediction error - iterate on the p, q, and parameters comparing the model's performance.\n"
   ]
  },
  {
   "cell_type": "markdown",
   "metadata": {},
   "source": [
    "One way without using iterate, but it waste time"
   ]
  },
  {
   "cell_type": "code",
   "execution_count": 19,
   "metadata": {},
   "outputs": [
    {
     "name": "stdout",
     "output_type": "stream",
     "text": [
      "[(0, 0, 0), (0, 0, 1), (0, 0, 2), (1, 0, 0), (1, 0, 1), (1, 0, 2), (2, 0, 0), (2, 0, 1), (2, 0, 2)]\n",
      "[109259.40324294308, 109135.8886155875, 109392.95271027973, 109592.80062832986, 109423.52012784059, 109526.2847182811, 108221.38240589097, 106518.54832399811]\n"
     ]
    }
   ],
   "source": [
    "warnings.filterwarnings(\"ignore\")\n",
    "# set d = 0\n",
    "p = range(0,3)\n",
    "d = [0]\n",
    "q = range(0,3)\n",
    "\n",
    "import itertools\n",
    "pairs = list(itertools.product(p,d,q)) \n",
    "\n",
    "MAE_list = []\n",
    "for i in range(1,len(pairs)):\n",
    "    model = ARIMA(train, pairs[i]).fit()\n",
    "  \n",
    "    predictions = model.predict(start = '2010-08-20', end = '2012-10-26')\n",
    "    MAE = (mean_absolute_error(test, predictions)) \n",
    "    MAE_list.append(MAE)\n",
    "\n",
    "print(pairs)\n",
    "print(MAE_list)"
   ]
  },
  {
   "cell_type": "code",
   "execution_count": 20,
   "metadata": {},
   "outputs": [
    {
     "name": "stdout",
     "output_type": "stream",
     "text": [
      "(2, 0, 1)\n",
      "106518.54832399811\n"
     ]
    }
   ],
   "source": [
    "best_pair = pairs[np.argmin(MAE_list)]\n",
    "print (best_pair)\n",
    "print (np.min(MAE_list))"
   ]
  },
  {
   "cell_type": "markdown",
   "metadata": {},
   "source": [
    "Another way using intertools and AIC\n",
    "\n",
    "https://www.digitalocean.com/community/tutorials/a-guide-to-time-series-forecasting-with-arima-in-python-3"
   ]
  },
  {
   "cell_type": "code",
   "execution_count": 21,
   "metadata": {
    "scrolled": true
   },
   "outputs": [
    {
     "name": "stdout",
     "output_type": "stream",
     "text": [
      "ARIMA(0, 0, 0) - AIC:3072.280139607279\n",
      "ARIMA(0, 0, 1) - AIC:3064.6469048517947\n",
      "ARIMA(0, 0, 2) - AIC:3064.185841007188\n",
      "ARIMA(0, 0, 3) - AIC:3062.143365353132\n",
      "ARIMA(0, 0, 4) - AIC:3047.3390494439936\n",
      "ARIMA(0, 1, 0) - AIC:3079.4529270536\n",
      "ARIMA(0, 1, 1) - AIC:3044.9274203628706\n",
      "ARIMA(0, 1, 2) - AIC:3039.274441344923\n",
      "ARIMA(0, 1, 3) - AIC:3039.6939267844223\n",
      "ARIMA(0, 1, 4) - AIC:3036.2913862277765\n",
      "ARIMA(0, 2, 0) - AIC:3166.020232698168\n",
      "ARIMA(0, 2, 1) - AIC:3059.8246855255584\n",
      "ARIMA(0, 2, 2) - AIC:3029.7730212460433\n",
      "ARIMA(0, 2, 3) - AIC:3025.2513027777445\n",
      "ARIMA(1, 0, 0) - AIC:3062.3788744695894\n",
      "ARIMA(1, 0, 1) - AIC:3063.824939021155\n",
      "ARIMA(1, 0, 2) - AIC:3065.751372742957\n",
      "ARIMA(1, 1, 0) - AIC:3064.135991227037\n",
      "ARIMA(1, 1, 1) - AIC:3037.985302787628\n",
      "ARIMA(1, 1, 2) - AIC:3039.867630661545\n",
      "ARIMA(1, 1, 3) - AIC:3033.697998354181\n",
      "ARIMA(1, 1, 4) - AIC:3030.524650621484\n",
      "ARIMA(1, 2, 0) - AIC:3114.664231508016\n",
      "ARIMA(1, 2, 1) - AIC:3045.2116980338924\n",
      "ARIMA(1, 2, 4) - AIC:3029.125859695021\n",
      "ARIMA(2, 0, 0) - AIC:3063.951869268625\n",
      "ARIMA(2, 0, 1) - AIC:3063.0715198250437\n",
      "ARIMA(2, 0, 2) - AIC:3049.8192165597993\n",
      "ARIMA(2, 1, 0) - AIC:3059.6307216002515\n",
      "ARIMA(2, 1, 1) - AIC:3039.8680613028123\n",
      "ARIMA(2, 1, 2) - AIC:3038.929315896949\n",
      "ARIMA(2, 1, 3) - AIC:3024.642934141733\n",
      "ARIMA(2, 1, 4) - AIC:3025.0631816847995\n",
      "ARIMA(2, 2, 0) - AIC:3100.7473618308964\n",
      "ARIMA(2, 2, 1) - AIC:3041.1406648558045\n",
      "ARIMA(2, 2, 2) - AIC:3051.523926869385\n",
      "ARIMA(2, 2, 4) - AIC:3009.504590250147\n",
      "ARIMA(3, 0, 0) - AIC:3065.9179270592485\n",
      "ARIMA(3, 0, 1) - AIC:3064.6405052197333\n",
      "ARIMA(3, 0, 2) - AIC:3049.909698156055\n",
      "ARIMA(3, 0, 3) - AIC:3050.5153492700247\n",
      "ARIMA(3, 1, 0) - AIC:3048.225644672024\n",
      "ARIMA(3, 1, 1) - AIC:3045.968384927635\n",
      "ARIMA(3, 1, 2) - AIC:3043.340074563238\n",
      "ARIMA(3, 1, 3) - AIC:3024.963510457794\n",
      "ARIMA(3, 1, 4) - AIC:3026.469546432163\n",
      "ARIMA(3, 2, 0) - AIC:3053.4417580868594\n",
      "ARIMA(3, 2, 1) - AIC:3030.363648143076\n",
      "ARIMA(3, 2, 2) - AIC:3027.9653217305977\n",
      "ARIMA(3, 2, 3) - AIC:3024.9680550098315\n",
      "ARIMA(4, 0, 0) - AIC:3063.6849980942607\n",
      "ARIMA(4, 0, 1) - AIC:3060.090905914639\n",
      "ARIMA(4, 0, 2) - AIC:3051.9825253671206\n",
      "ARIMA(4, 0, 3) - AIC:3053.7639316659206\n",
      "ARIMA(4, 1, 0) - AIC:3046.4947932718123\n",
      "ARIMA(4, 1, 1) - AIC:3047.2854311029896\n",
      "ARIMA(4, 2, 0) - AIC:3054.0918732460796\n",
      "ARIMA(4, 2, 1) - AIC:3028.3026148997856\n",
      "ARIMA(4, 2, 2) - AIC:3029.135077572198\n"
     ]
    }
   ],
   "source": [
    "warnings.filterwarnings(\"ignore\")\n",
    "\n",
    "p =  q = range(0, 5) \n",
    "d = range(0, 3) # Define lag order range\n",
    "pairs2 = list(itertools.product(p, d, q))\n",
    "\n",
    "for param in pairs2:\n",
    "    try: # If there's no error, run this\n",
    "        mod = ARIMA(train,order=param)\n",
    "        results = mod.fit()\n",
    "        print('ARIMA{} - AIC:{}'.format(param, results.aic))\n",
    "    except: # If there's error, run this\n",
    "        continue"
   ]
  },
  {
   "cell_type": "markdown",
   "metadata": {},
   "source": [
    "Answer: ARIMA(2, 2, 4) is my best model's performance."
   ]
  },
  {
   "cell_type": "markdown",
   "metadata": {},
   "source": [
    "# Now, use the correct method and tune your ARIMA model"
   ]
  },
  {
   "cell_type": "code",
   "execution_count": 22,
   "metadata": {},
   "outputs": [
    {
     "name": "stdout",
     "output_type": "stream",
     "text": [
      "124400.41388204819\n"
     ]
    }
   ],
   "source": [
    "#ARIMA(2,2,4)\n",
    "from statsmodels.tsa.arima_model import ARIMA\n",
    "\n",
    "model4 = ARIMA(train, (2, 2, 4)).fit()\n",
    "model4.summary()\n",
    "\n",
    "predictions4 = model4.predict(start = '2010-08-20', end = '2012-10-26', dynamic = False, typ ='levels')\n",
    "#compute the mean absolute error\n",
    "MAE = (mean_absolute_error(test, predictions4)) \n",
    "print(MAE)"
   ]
  },
  {
   "cell_type": "code",
   "execution_count": null,
   "metadata": {},
   "outputs": [],
   "source": []
  }
 ],
 "metadata": {
  "kernelspec": {
   "display_name": "Python 3",
   "language": "python",
   "name": "python3"
  },
  "language_info": {
   "codemirror_mode": {
    "name": "ipython",
    "version": 3
   },
   "file_extension": ".py",
   "mimetype": "text/x-python",
   "name": "python",
   "nbconvert_exporter": "python",
   "pygments_lexer": "ipython3",
   "version": "3.7.3"
  }
 },
 "nbformat": 4,
 "nbformat_minor": 1
}
