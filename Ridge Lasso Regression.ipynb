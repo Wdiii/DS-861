{
 "cells": [
  {
   "cell_type": "markdown",
   "metadata": {},
   "source": [
    "The dataset we are going to use today is **Concrete Compressive Strength Dataset**. "
   ]
  },
  {
   "cell_type": "code",
   "execution_count": 1,
   "metadata": {},
   "outputs": [],
   "source": [
    "import pandas as pd\n",
    "import numpy as np\n",
    "import matplotlib.pyplot as plt\n",
    "%matplotlib inline\n",
    "\n",
    "from sklearn import linear_model\n",
    "from sklearn.linear_model import LinearRegression\n",
    "from sklearn import feature_selection\n",
    "import statsmodels.api as sm\n",
    "from sklearn import metrics\n",
    "from sklearn.model_selection import train_test_split\n",
    "from sklearn.preprocessing import StandardScaler\n",
    "\n",
    "import statsmodels.api as sm"
   ]
  },
  {
   "cell_type": "code",
   "execution_count": 2,
   "metadata": {},
   "outputs": [
    {
     "data": {
      "text/html": [
       "<div>\n",
       "<style scoped>\n",
       "    .dataframe tbody tr th:only-of-type {\n",
       "        vertical-align: middle;\n",
       "    }\n",
       "\n",
       "    .dataframe tbody tr th {\n",
       "        vertical-align: top;\n",
       "    }\n",
       "\n",
       "    .dataframe thead th {\n",
       "        text-align: right;\n",
       "    }\n",
       "</style>\n",
       "<table border=\"1\" class=\"dataframe\">\n",
       "  <thead>\n",
       "    <tr style=\"text-align: right;\">\n",
       "      <th></th>\n",
       "      <th>cement</th>\n",
       "      <th>blast</th>\n",
       "      <th>flyash</th>\n",
       "      <th>water</th>\n",
       "      <th>sp</th>\n",
       "      <th>ca</th>\n",
       "      <th>fa</th>\n",
       "      <th>age</th>\n",
       "      <th>ccs</th>\n",
       "    </tr>\n",
       "  </thead>\n",
       "  <tbody>\n",
       "    <tr>\n",
       "      <th>0</th>\n",
       "      <td>540.0</td>\n",
       "      <td>0.0</td>\n",
       "      <td>0.0</td>\n",
       "      <td>162.0</td>\n",
       "      <td>2.5</td>\n",
       "      <td>1040.0</td>\n",
       "      <td>676.0</td>\n",
       "      <td>28</td>\n",
       "      <td>79.99</td>\n",
       "    </tr>\n",
       "    <tr>\n",
       "      <th>1</th>\n",
       "      <td>540.0</td>\n",
       "      <td>0.0</td>\n",
       "      <td>0.0</td>\n",
       "      <td>162.0</td>\n",
       "      <td>2.5</td>\n",
       "      <td>1055.0</td>\n",
       "      <td>676.0</td>\n",
       "      <td>28</td>\n",
       "      <td>61.89</td>\n",
       "    </tr>\n",
       "    <tr>\n",
       "      <th>2</th>\n",
       "      <td>332.5</td>\n",
       "      <td>142.5</td>\n",
       "      <td>0.0</td>\n",
       "      <td>228.0</td>\n",
       "      <td>0.0</td>\n",
       "      <td>932.0</td>\n",
       "      <td>594.0</td>\n",
       "      <td>270</td>\n",
       "      <td>40.27</td>\n",
       "    </tr>\n",
       "    <tr>\n",
       "      <th>3</th>\n",
       "      <td>332.5</td>\n",
       "      <td>142.5</td>\n",
       "      <td>0.0</td>\n",
       "      <td>228.0</td>\n",
       "      <td>0.0</td>\n",
       "      <td>932.0</td>\n",
       "      <td>594.0</td>\n",
       "      <td>365</td>\n",
       "      <td>41.05</td>\n",
       "    </tr>\n",
       "    <tr>\n",
       "      <th>4</th>\n",
       "      <td>198.6</td>\n",
       "      <td>132.4</td>\n",
       "      <td>0.0</td>\n",
       "      <td>192.0</td>\n",
       "      <td>0.0</td>\n",
       "      <td>978.4</td>\n",
       "      <td>825.5</td>\n",
       "      <td>360</td>\n",
       "      <td>44.30</td>\n",
       "    </tr>\n",
       "  </tbody>\n",
       "</table>\n",
       "</div>"
      ],
      "text/plain": [
       "   cement  blast  flyash  water   sp      ca     fa  age    ccs\n",
       "0   540.0    0.0     0.0  162.0  2.5  1040.0  676.0   28  79.99\n",
       "1   540.0    0.0     0.0  162.0  2.5  1055.0  676.0   28  61.89\n",
       "2   332.5  142.5     0.0  228.0  0.0   932.0  594.0  270  40.27\n",
       "3   332.5  142.5     0.0  228.0  0.0   932.0  594.0  365  41.05\n",
       "4   198.6  132.4     0.0  192.0  0.0   978.4  825.5  360  44.30"
      ]
     },
     "execution_count": 2,
     "metadata": {},
     "output_type": "execute_result"
    }
   ],
   "source": [
    "concrete = pd.read_csv(\"Concrete_Data.csv\")\n",
    "concrete.columns = ['cement', 'blast', 'flyash', 'water', 'sp', 'ca', 'fa', 'age', 'ccs']\n",
    "concrete.head()"
   ]
  },
  {
   "cell_type": "markdown",
   "metadata": {},
   "source": [
    "More details on this dataset can be found at https://archive.ics.uci.edu/ml/datasets/Concrete+Compressive+Strength"
   ]
  },
  {
   "cell_type": "markdown",
   "metadata": {},
   "source": [
    "### Our goal is to predict the concrete compressive strength (ccs) based on other variables in this dataset."
   ]
  },
  {
   "cell_type": "markdown",
   "metadata": {},
   "source": [
    "#### First let's start with scatter-plot of ccs and water. Intuitively, does it look like a pure linear association or it seems like there is some sort of non-linearity?"
   ]
  },
  {
   "cell_type": "code",
   "execution_count": 3,
   "metadata": {},
   "outputs": [
    {
     "data": {
      "image/png": "[encoded data removed]",
      "text/plain": [
       "<Figure size 432x288 with 1 Axes>"
      ]
     },
     "metadata": {
      "needs_background": "light"
     },
     "output_type": "display_data"
    }
   ],
   "source": [
    "# Scatter plot\n",
    "plt.scatter(concrete['water'], concrete['ccs'])\n",
    "plt.xlabel(\"water\")\n",
    "plt.ylabel(\"concrete compressive strength\")\n",
    "plt.show()"
   ]
  },
  {
   "cell_type": "markdown",
   "metadata": {},
   "source": [
    "Answer: Looks like the plots are not random, maybe there is some sort of non-linearity."
   ]
  },
  {
   "cell_type": "markdown",
   "metadata": {},
   "source": [
    "#### Now, let's first define few non-linear terms. Start from a pure linear function and go up to polynomial degree 5. "
   ]
  },
  {
   "cell_type": "code",
   "execution_count": 4,
   "metadata": {},
   "outputs": [],
   "source": [
    "concrete['water_2'] = concrete['water']**2\n",
    "concrete['water_3'] = concrete['water']**3\n",
    "concrete['water_4'] = concrete['water']**4\n",
    "concrete['water_5'] = concrete['water']**5\n",
    "X = concrete[['water','water_2','water_3','water_4','water_5']]\n",
    "y = concrete['ccs']"
   ]
  },
  {
   "cell_type": "markdown",
   "metadata": {},
   "source": [
    "#### Now divide your dataset into 60% training set 20% validation set, and 20% testing set (use random state 10). Use MSE of validation set to decide which degree of polynomial fits the best. Do you think this is a reasonable model to use? Perform prediction on the test set with the selected degree. What's the final MSE?"
   ]
  },
  {
   "cell_type": "code",
   "execution_count": 5,
   "metadata": {},
   "outputs": [
    {
     "data": {
      "image/png": "[encoded data removed]",
      "text/plain": [
       "<Figure size 432x288 with 1 Axes>"
      ]
     },
     "metadata": {
      "needs_background": "light"
     },
     "output_type": "display_data"
    }
   ],
   "source": [
    "# Dividing training/validation and testing set\n",
    "X_train_valid, X_test, y_train_valid, y_test = train_test_split(X, y, \n",
    "                                                    test_size=0.2, random_state = 10) \n",
    "\n",
    "# Further divide your training/validation set into training and validation sets\n",
    "X_train, X_valid, y_train, y_valid = train_test_split(X_train_valid, y_train_valid, \n",
    "                                                      test_size = 0.25, random_state = 10) \n",
    "MSE_train = []\n",
    "MSE_valid = []\n",
    "\n",
    "lm = LinearRegression()\n",
    "for i in range(1,6):\n",
    "    lm.fit(X_train.iloc[:,:i],y_train)\n",
    "    MSE_train.append(metrics.mean_squared_error(lm.predict(X_train.iloc[:,:i]),y_train))\n",
    "    MSE_valid.append(metrics.mean_squared_error(lm.predict(X_valid.iloc[:,:i]),y_valid))\n",
    "\n",
    "# Plot the training and validation error\n",
    "index = np.array(range(5)) + 1\n",
    "plt.plot(index, MSE_train, color = 'b', label = \"Train MSE\")\n",
    "plt.plot(index, MSE_valid, color = 'r', label = \"Valid MSE\")\n",
    "plt.xlabel(\"Model Complexity\")\n",
    "plt.ylabel(\"MSE\")\n",
    "plt.legend()\n",
    "plt.show()\n"
   ]
  },
  {
   "cell_type": "code",
   "execution_count": 6,
   "metadata": {},
   "outputs": [
    {
     "name": "stderr",
     "output_type": "stream",
     "text": [
      "C:\\ProgramData\\Anaconda3\\lib\\site-packages\\numpy\\core\\fromnumeric.py:2389: FutureWarning: Method .ptp is deprecated and will be removed in a future version. Use numpy.ptp instead.\n",
      "  return ptp(axis=axis, out=out, **kwargs)\n"
     ]
    },
    {
     "data": {
      "text/html": [
       "<table class=\"simpletable\">\n",
       "<caption>OLS Regression Results</caption>\n",
       "<tr>\n",
       "  <th>Dep. Variable:</th>           <td>ccs</td>       <th>  R-squared:         </th> <td>   0.195</td>\n",
       "</tr>\n",
       "<tr>\n",
       "  <th>Model:</th>                   <td>OLS</td>       <th>  Adj. R-squared:    </th> <td>   0.192</td>\n",
       "</tr>\n",
       "<tr>\n",
       "  <th>Method:</th>             <td>Least Squares</td>  <th>  F-statistic:       </th> <td>   61.98</td>\n",
       "</tr>\n",
       "<tr>\n",
       "  <th>Date:</th>             <td>Mon, 09 Mar 2020</td> <th>  Prob (F-statistic):</th> <td>6.19e-47</td>\n",
       "</tr>\n",
       "<tr>\n",
       "  <th>Time:</th>                 <td>14:37:39</td>     <th>  Log-Likelihood:    </th> <td> -4249.7</td>\n",
       "</tr>\n",
       "<tr>\n",
       "  <th>No. Observations:</th>      <td>  1030</td>      <th>  AIC:               </th> <td>   8509.</td>\n",
       "</tr>\n",
       "<tr>\n",
       "  <th>Df Residuals:</th>          <td>  1025</td>      <th>  BIC:               </th> <td>   8534.</td>\n",
       "</tr>\n",
       "<tr>\n",
       "  <th>Df Model:</th>              <td>     4</td>      <th>                     </th>     <td> </td>   \n",
       "</tr>\n",
       "<tr>\n",
       "  <th>Covariance Type:</th>      <td>nonrobust</td>    <th>                     </th>     <td> </td>   \n",
       "</tr>\n",
       "</table>\n",
       "<table class=\"simpletable\">\n",
       "<tr>\n",
       "     <td></td>        <th>coef</th>     <th>std err</th>      <th>t</th>      <th>P>|t|</th>  <th>[0.025</th>    <th>0.975]</th>  \n",
       "</tr>\n",
       "<tr>\n",
       "  <th>const</th>   <td>-3608.6392</td> <td>  685.072</td> <td>   -5.268</td> <td> 0.000</td> <td>-4952.943</td> <td>-2264.335</td>\n",
       "</tr>\n",
       "<tr>\n",
       "  <th>water</th>   <td>   81.3111</td> <td>   15.688</td> <td>    5.183</td> <td> 0.000</td> <td>   50.527</td> <td>  112.095</td>\n",
       "</tr>\n",
       "<tr>\n",
       "  <th>water_2</th> <td>   -0.6612</td> <td>    0.133</td> <td>   -4.961</td> <td> 0.000</td> <td>   -0.923</td> <td>   -0.400</td>\n",
       "</tr>\n",
       "<tr>\n",
       "  <th>water_3</th> <td>    0.0023</td> <td>    0.000</td> <td>    4.679</td> <td> 0.000</td> <td>    0.001</td> <td>    0.003</td>\n",
       "</tr>\n",
       "<tr>\n",
       "  <th>water_4</th> <td> -3.01e-06</td> <td>  6.9e-07</td> <td>   -4.361</td> <td> 0.000</td> <td>-4.36e-06</td> <td>-1.66e-06</td>\n",
       "</tr>\n",
       "</table>\n",
       "<table class=\"simpletable\">\n",
       "<tr>\n",
       "  <th>Omnibus:</th>       <td>15.024</td> <th>  Durbin-Watson:     </th> <td>   1.137</td>\n",
       "</tr>\n",
       "<tr>\n",
       "  <th>Prob(Omnibus):</th> <td> 0.001</td> <th>  Jarque-Bera (JB):  </th> <td>  15.469</td>\n",
       "</tr>\n",
       "<tr>\n",
       "  <th>Skew:</th>          <td> 0.293</td> <th>  Prob(JB):          </th> <td>0.000437</td>\n",
       "</tr>\n",
       "<tr>\n",
       "  <th>Kurtosis:</th>      <td> 2.866</td> <th>  Cond. No.          </th> <td>1.91e+12</td>\n",
       "</tr>\n",
       "</table><br/><br/>Warnings:<br/>[1] Standard Errors assume that the covariance matrix of the errors is correctly specified.<br/>[2] The condition number is large, 1.91e+12. This might indicate that there are<br/>strong multicollinearity or other numerical problems."
      ],
      "text/plain": [
       "<class 'statsmodels.iolib.summary.Summary'>\n",
       "\"\"\"\n",
       "                            OLS Regression Results                            \n",
       "==============================================================================\n",
       "Dep. Variable:                    ccs   R-squared:                       0.195\n",
       "Model:                            OLS   Adj. R-squared:                  0.192\n",
       "Method:                 Least Squares   F-statistic:                     61.98\n",
       "Date:                Mon, 09 Mar 2020   Prob (F-statistic):           6.19e-47\n",
       "Time:                        14:37:39   Log-Likelihood:                -4249.7\n",
       "No. Observations:                1030   AIC:                             8509.\n",
       "Df Residuals:                    1025   BIC:                             8534.\n",
       "Df Model:                           4                                         \n",
       "Covariance Type:            nonrobust                                         \n",
       "==============================================================================\n",
       "                 coef    std err          t      P>|t|      [0.025      0.975]\n",
       "------------------------------------------------------------------------------\n",
       "const      -3608.6392    685.072     -5.268      0.000   -4952.943   -2264.335\n",
       "water         81.3111     15.688      5.183      0.000      50.527     112.095\n",
       "water_2       -0.6612      0.133     -4.961      0.000      -0.923      -0.400\n",
       "water_3        0.0023      0.000      4.679      0.000       0.001       0.003\n",
       "water_4     -3.01e-06    6.9e-07     -4.361      0.000   -4.36e-06   -1.66e-06\n",
       "==============================================================================\n",
       "Omnibus:                       15.024   Durbin-Watson:                   1.137\n",
       "Prob(Omnibus):                  0.001   Jarque-Bera (JB):               15.469\n",
       "Skew:                           0.293   Prob(JB):                     0.000437\n",
       "Kurtosis:                       2.866   Cond. No.                     1.91e+12\n",
       "==============================================================================\n",
       "\n",
       "Warnings:\n",
       "[1] Standard Errors assume that the covariance matrix of the errors is correctly specified.\n",
       "[2] The condition number is large, 1.91e+12. This might indicate that there are\n",
       "strong multicollinearity or other numerical problems.\n",
       "\"\"\""
      ]
     },
     "execution_count": 6,
     "metadata": {},
     "output_type": "execute_result"
    }
   ],
   "source": [
    "# Perform regression\n",
    "X4 = concrete[['water','water_2','water_3','water_4']]\n",
    "\n",
    "X_con = sm.add_constant(X4)\n",
    "model = sm.OLS(y, X_con).fit()\n",
    "model.summary()"
   ]
  },
  {
   "cell_type": "code",
   "execution_count": 7,
   "metadata": {},
   "outputs": [
    {
     "data": {
      "text/plain": [
       "228.50640933720055"
      ]
     },
     "execution_count": 7,
     "metadata": {},
     "output_type": "execute_result"
    }
   ],
   "source": [
    "# Prediction on test set\n",
    "lm.fit(X_train_valid.iloc[:,:4], y_train_valid) # We selected polynomial degree 4\n",
    "metrics.mean_squared_error(lm.predict(X_test.iloc[:,:4]), y_test)"
   ]
  },
  {
   "cell_type": "markdown",
   "metadata": {},
   "source": [
    "Answer: I am not sure if it is the correct model to choose. Because the coefficient of water 4 is quite small, maybe water 3 is enough."
   ]
  },
  {
   "cell_type": "markdown",
   "metadata": {},
   "source": [
    "#### Now, try to use different random states. What do you observe?"
   ]
  },
  {
   "cell_type": "code",
   "execution_count": 8,
   "metadata": {},
   "outputs": [
    {
     "data": {
      "image/png": "[encoded data removed]",
      "text/plain": [
       "<Figure size 432x288 with 1 Axes>"
      ]
     },
     "metadata": {
      "needs_background": "light"
     },
     "output_type": "display_data"
    },
    {
     "data": {
      "image/png": "[encoded data removed]",
      "text/plain": [
       "<Figure size 432x288 with 1 Axes>"
      ]
     },
     "metadata": {
      "needs_background": "light"
     },
     "output_type": "display_data"
    },
    {
     "data": {
      "image/png": "[encoded data removed]",
      "text/plain": [
       "<Figure size 432x288 with 1 Axes>"
      ]
     },
     "metadata": {
      "needs_background": "light"
     },
     "output_type": "display_data"
    },
    {
     "data": {
      "image/png": "[encoded data removed]",
      "text/plain": [
       "<Figure size 432x288 with 1 Axes>"
      ]
     },
     "metadata": {
      "needs_background": "light"
     },
     "output_type": "display_data"
    },
    {
     "data": {
      "image/png": "[encoded data removed]",
      "text/plain": [
       "<Figure size 432x288 with 1 Axes>"
      ]
     },
     "metadata": {
      "needs_background": "light"
     },
     "output_type": "display_data"
    },
    {
     "data": {
      "image/png": "[encoded data removed]",
      "text/plain": [
       "<Figure size 432x288 with 1 Axes>"
      ]
     },
     "metadata": {
      "needs_background": "light"
     },
     "output_type": "display_data"
    },
    {
     "data": {
      "image/png": "[encoded data removed]",
      "text/plain": [
       "<Figure size 432x288 with 1 Axes>"
      ]
     },
     "metadata": {
      "needs_background": "light"
     },
     "output_type": "display_data"
    },
    {
     "data": {
      "image/png": "[encoded data removed]",
      "text/plain": [
       "<Figure size 432x288 with 1 Axes>"
      ]
     },
     "metadata": {
      "needs_background": "light"
     },
     "output_type": "display_data"
    },
    {
     "data": {
      "image/png": "[encoded data removed]",
      "text/plain": [
       "<Figure size 432x288 with 1 Axes>"
      ]
     },
     "metadata": {
      "needs_background": "light"
     },
     "output_type": "display_data"
    },
    {
     "data": {
      "image/png": "[encoded data removed]",
      "text/plain": [
       "<Figure size 432x288 with 1 Axes>"
      ]
     },
     "metadata": {
      "needs_background": "light"
     },
     "output_type": "display_data"
    }
   ],
   "source": [
    "# Write a for loop or function to do 10 runs of the above, each with a different random state\n",
    "import random\n",
    "for i in range (0,10):\n",
    "    a=random.randint(0,1000)\n",
    "\n",
    "    # Dividing training/validation and testing set\n",
    "    X_train_valid, X_test, y_train_valid, y_test = train_test_split(X, y, \n",
    "                                                    test_size=0.2, random_state = a) \n",
    "\n",
    "    # Further divide your training/validation set into training and validation sets\n",
    "    X_train, X_valid, y_train, y_valid = train_test_split(X_train_valid, y_train_valid, \n",
    "                                                      test_size = 0.25, random_state = a) \n",
    "    MSE_train = []\n",
    "    MSE_valid = []\n",
    "\n",
    "    lm = LinearRegression()\n",
    "    for i in range(1,6):\n",
    "        lm.fit(X_train.iloc[:,:i],y_train)\n",
    "        MSE_train.append(metrics.mean_squared_error(lm.predict(X_train.iloc[:,:i]),y_train))\n",
    "        MSE_valid.append(metrics.mean_squared_error(lm.predict(X_valid.iloc[:,:i]),y_valid))\n",
    "\n",
    "    # Plot the training and validation error\n",
    "    index = np.array(range(5)) + 1\n",
    "    plt.plot(index, MSE_train, color = 'b', label = \"Train MSE\")\n",
    "    plt.plot(index, MSE_valid, color = 'r', label = \"Valid MSE\")\n",
    "    plt.xlabel(\"Model Complexity\")\n",
    "    plt.ylabel(\"MSE\")\n",
    "    plt.legend()\n",
    "    plt.show()"
   ]
  },
  {
   "cell_type": "markdown",
   "metadata": {},
   "source": [
    "Answer: The results are quite different."
   ]
  },
  {
   "cell_type": "markdown",
   "metadata": {},
   "source": [
    "### Now let's consider more variables."
   ]
  },
  {
   "cell_type": "markdown",
   "metadata": {},
   "source": [
    "#### Let's first focus on correlation Matrix."
   ]
  },
  {
   "cell_type": "code",
   "execution_count": 9,
   "metadata": {},
   "outputs": [],
   "source": [
    "# Let's first get rid of additional variables we added to our dataframe\n",
    "del concrete['water_2']\n",
    "del concrete['water_3']\n",
    "del concrete['water_4']\n",
    "del concrete['water_5']"
   ]
  },
  {
   "cell_type": "code",
   "execution_count": 10,
   "metadata": {},
   "outputs": [
    {
     "data": {
      "text/html": [
       "<div>\n",
       "<style scoped>\n",
       "    .dataframe tbody tr th:only-of-type {\n",
       "        vertical-align: middle;\n",
       "    }\n",
       "\n",
       "    .dataframe tbody tr th {\n",
       "        vertical-align: top;\n",
       "    }\n",
       "\n",
       "    .dataframe thead th {\n",
       "        text-align: right;\n",
       "    }\n",
       "</style>\n",
       "<table border=\"1\" class=\"dataframe\">\n",
       "  <thead>\n",
       "    <tr style=\"text-align: right;\">\n",
       "      <th></th>\n",
       "      <th>cement</th>\n",
       "      <th>blast</th>\n",
       "      <th>flyash</th>\n",
       "      <th>water</th>\n",
       "      <th>sp</th>\n",
       "      <th>ca</th>\n",
       "      <th>fa</th>\n",
       "      <th>age</th>\n",
       "      <th>ccs</th>\n",
       "    </tr>\n",
       "  </thead>\n",
       "  <tbody>\n",
       "    <tr>\n",
       "      <th>cement</th>\n",
       "      <td>1.000000</td>\n",
       "      <td>-0.275216</td>\n",
       "      <td>-0.397467</td>\n",
       "      <td>-0.081587</td>\n",
       "      <td>0.092386</td>\n",
       "      <td>-0.109349</td>\n",
       "      <td>-0.222718</td>\n",
       "      <td>0.081946</td>\n",
       "      <td>0.497832</td>\n",
       "    </tr>\n",
       "    <tr>\n",
       "      <th>blast</th>\n",
       "      <td>-0.275216</td>\n",
       "      <td>1.000000</td>\n",
       "      <td>-0.323580</td>\n",
       "      <td>0.107252</td>\n",
       "      <td>0.043270</td>\n",
       "      <td>-0.283999</td>\n",
       "      <td>-0.281603</td>\n",
       "      <td>-0.044246</td>\n",
       "      <td>0.134829</td>\n",
       "    </tr>\n",
       "    <tr>\n",
       "      <th>flyash</th>\n",
       "      <td>-0.397467</td>\n",
       "      <td>-0.323580</td>\n",
       "      <td>1.000000</td>\n",
       "      <td>-0.256984</td>\n",
       "      <td>0.377503</td>\n",
       "      <td>-0.009961</td>\n",
       "      <td>0.079108</td>\n",
       "      <td>-0.154371</td>\n",
       "      <td>-0.105755</td>\n",
       "    </tr>\n",
       "    <tr>\n",
       "      <th>water</th>\n",
       "      <td>-0.081587</td>\n",
       "      <td>0.107252</td>\n",
       "      <td>-0.256984</td>\n",
       "      <td>1.000000</td>\n",
       "      <td>-0.657533</td>\n",
       "      <td>-0.182294</td>\n",
       "      <td>-0.450661</td>\n",
       "      <td>0.277618</td>\n",
       "      <td>-0.289633</td>\n",
       "    </tr>\n",
       "    <tr>\n",
       "      <th>sp</th>\n",
       "      <td>0.092386</td>\n",
       "      <td>0.043270</td>\n",
       "      <td>0.377503</td>\n",
       "      <td>-0.657533</td>\n",
       "      <td>1.000000</td>\n",
       "      <td>-0.265999</td>\n",
       "      <td>0.222691</td>\n",
       "      <td>-0.192700</td>\n",
       "      <td>0.366079</td>\n",
       "    </tr>\n",
       "    <tr>\n",
       "      <th>ca</th>\n",
       "      <td>-0.109349</td>\n",
       "      <td>-0.283999</td>\n",
       "      <td>-0.009961</td>\n",
       "      <td>-0.182294</td>\n",
       "      <td>-0.265999</td>\n",
       "      <td>1.000000</td>\n",
       "      <td>-0.178481</td>\n",
       "      <td>-0.003016</td>\n",
       "      <td>-0.164935</td>\n",
       "    </tr>\n",
       "    <tr>\n",
       "      <th>fa</th>\n",
       "      <td>-0.222718</td>\n",
       "      <td>-0.281603</td>\n",
       "      <td>0.079108</td>\n",
       "      <td>-0.450661</td>\n",
       "      <td>0.222691</td>\n",
       "      <td>-0.178481</td>\n",
       "      <td>1.000000</td>\n",
       "      <td>-0.156095</td>\n",
       "      <td>-0.167241</td>\n",
       "    </tr>\n",
       "    <tr>\n",
       "      <th>age</th>\n",
       "      <td>0.081946</td>\n",
       "      <td>-0.044246</td>\n",
       "      <td>-0.154371</td>\n",
       "      <td>0.277618</td>\n",
       "      <td>-0.192700</td>\n",
       "      <td>-0.003016</td>\n",
       "      <td>-0.156095</td>\n",
       "      <td>1.000000</td>\n",
       "      <td>0.328873</td>\n",
       "    </tr>\n",
       "    <tr>\n",
       "      <th>ccs</th>\n",
       "      <td>0.497832</td>\n",
       "      <td>0.134829</td>\n",
       "      <td>-0.105755</td>\n",
       "      <td>-0.289633</td>\n",
       "      <td>0.366079</td>\n",
       "      <td>-0.164935</td>\n",
       "      <td>-0.167241</td>\n",
       "      <td>0.328873</td>\n",
       "      <td>1.000000</td>\n",
       "    </tr>\n",
       "  </tbody>\n",
       "</table>\n",
       "</div>"
      ],
      "text/plain": [
       "          cement     blast    flyash     water        sp        ca        fa  \\\n",
       "cement  1.000000 -0.275216 -0.397467 -0.081587  0.092386 -0.109349 -0.222718   \n",
       "blast  -0.275216  1.000000 -0.323580  0.107252  0.043270 -0.283999 -0.281603   \n",
       "flyash -0.397467 -0.323580  1.000000 -0.256984  0.377503 -0.009961  0.079108   \n",
       "water  -0.081587  0.107252 -0.256984  1.000000 -0.657533 -0.182294 -0.450661   \n",
       "sp      0.092386  0.043270  0.377503 -0.657533  1.000000 -0.265999  0.222691   \n",
       "ca     -0.109349 -0.283999 -0.009961 -0.182294 -0.265999  1.000000 -0.178481   \n",
       "fa     -0.222718 -0.281603  0.079108 -0.450661  0.222691 -0.178481  1.000000   \n",
       "age     0.081946 -0.044246 -0.154371  0.277618 -0.192700 -0.003016 -0.156095   \n",
       "ccs     0.497832  0.134829 -0.105755 -0.289633  0.366079 -0.164935 -0.167241   \n",
       "\n",
       "             age       ccs  \n",
       "cement  0.081946  0.497832  \n",
       "blast  -0.044246  0.134829  \n",
       "flyash -0.154371 -0.105755  \n",
       "water   0.277618 -0.289633  \n",
       "sp     -0.192700  0.366079  \n",
       "ca     -0.003016 -0.164935  \n",
       "fa     -0.156095 -0.167241  \n",
       "age     1.000000  0.328873  \n",
       "ccs     0.328873  1.000000  "
      ]
     },
     "execution_count": 10,
     "metadata": {},
     "output_type": "execute_result"
    }
   ],
   "source": [
    "# Correlation matrix (of original data)\n",
    "concrete.corr()"
   ]
  },
  {
   "cell_type": "markdown",
   "metadata": {},
   "source": [
    "#### List 3 variables that have the highest chance to appear in your final model - the model that can predict ccs. Can these variables appear simultaneously in your final model? Assume your goal is interpretation?"
   ]
  },
  {
   "cell_type": "markdown",
   "metadata": {},
   "source": [
    "Answer: cement, sp(Superplasticizer), age. Based on my online research, it makes sence. "
   ]
  },
  {
   "cell_type": "markdown",
   "metadata": {},
   "source": [
    "#水灰比的影响 粗骨料的影响 混凝土硬化时间即龄期的影响 温度、湿度的影响"
   ]
  },
  {
   "cell_type": "markdown",
   "metadata": {},
   "source": [
    "### We will now perform both Lasso and Ridge regression on the full data to see what we get."
   ]
  },
  {
   "cell_type": "markdown",
   "metadata": {},
   "source": [
    "First split your data into training, validation, and testing sets. Set the random_state to 1 for both splits. Again do a 60%-20%-20% split.\n",
    "\n",
    "In terms of scaling your data, I want you to do the following. During our in-class exercise, we fit our StandardScalar using our training+validation set together. However, in practice, we should also treat our validation set a 'test set' (to prevent what we called **data leakage**). Hence I want you to do something a bit different here.\n",
    "\n",
    "When you scale your data, only fit the scale using your TRAINING set, then apply the scale to the validation set. Leave the test set alone for now, we will deal with that later."
   ]
  },
  {
   "cell_type": "code",
   "execution_count": 11,
   "metadata": {},
   "outputs": [
    {
     "name": "stdout",
     "output_type": "stream",
     "text": [
      "cement    1.688689e-16\n",
      "blast    -1.187472e-16\n",
      "flyash   -1.415624e-16\n",
      "water     7.236211e-16\n",
      "sp        1.304243e-16\n",
      "ca        6.817632e-17\n",
      "fa        2.658787e-17\n",
      "age      -9.197964e-17\n",
      "dtype: float64\n",
      "cement    1.00081\n",
      "blast     1.00081\n",
      "flyash    1.00081\n",
      "water     1.00081\n",
      "sp        1.00081\n",
      "ca        1.00081\n",
      "fa        1.00081\n",
      "age       1.00081\n",
      "dtype: float64\n"
     ]
    }
   ],
   "source": [
    "# Create a new X and y for the following tasks\n",
    "X = concrete.copy()\n",
    "del X['ccs']\n",
    "y = concrete['ccs']\n",
    "\n",
    "# Train+Valid / test sets split. Use random_state 1\n",
    "X_train_valid, X_test, y_train_valid, y_test = train_test_split(X, y, \n",
    "                                                    test_size=0.2, random_state = 1) \n",
    "\n",
    "# Train/valid sets split. Use random_state 1\n",
    "X_train, X_valid, y_train, y_valid = train_test_split(X_train_valid, y_train_valid, \n",
    "                                                      test_size = 0.25, random_state = 1) \n",
    "\n",
    "# Scale data (only fit with the training data, and transform both the training and validation data)\n",
    "scaler = StandardScaler() # Instantiate\n",
    "scaler.fit(X_train) # First fit the data, i.e. learn the mean and sd\n",
    "\n",
    "X_train = pd.DataFrame(scaler.transform(X_train)) # Then transform the data. We can also use fit_transform\n",
    "X_valid = pd.DataFrame(scaler.transform(X_valid)) # Transform the validation set\n",
    "\n",
    "X_train.columns = X.columns.values\n",
    "X_valid.columns = X.columns.values\n",
    "print(X_train.mean())\n",
    "print(X_train.std())\n",
    "# Remember, the steps are fit, then transform"
   ]
  },
  {
   "cell_type": "markdown",
   "metadata": {},
   "source": [
    "#### Perform Lasso regression. Use the same grids as the in-class example. Which lambda value gives the smallest prediction error on the validation set?"
   ]
  },
  {
   "cell_type": "code",
   "execution_count": 12,
   "metadata": {},
   "outputs": [
    {
     "name": "stdout",
     "output_type": "stream",
     "text": [
      "[(1e-10, 109.3348592233276), (1e-09, 109.33485920487199), (1e-08, 109.33485902043091), (1e-07, 109.33485717450783), (1e-06, 109.33483872704359), (1e-05, 109.33465435376564), (0.0001, 109.3328103188507), (0.001, 109.3144999610568), (0.01, 109.14310561123438), (0.1, 108.51867779740218), (1.0, 121.36825997374955), (10.0, 282.14187868109883), (100.0, 282.14187868109883), (1000.0, 282.14187868109883), (10000.0, 282.14187868109883), (100000.0, 282.14187868109883), (1000000.0, 282.14187868109883), (10000000.0, 282.14187868109883), (100000000.0, 282.14187868109883), (1000000000.0, 282.14187868109883), (10000000000.0, 282.14187868109883)]\n"
     ]
    },
    {
     "data": {
      "image/png": "[encoded data removed]",
      "text/plain": [
       "<Figure size 432x288 with 1 Axes>"
      ]
     },
     "metadata": {
      "needs_background": "light"
     },
     "output_type": "display_data"
    }
   ],
   "source": [
    "# Lasso regression\n",
    "\n",
    "# Set up lambda/alpha candidate values \n",
    "alphas = np.logspace(-10, 10, 21) # We will use lambda on powers of 10 scale\n",
    "alphas_index = np.linspace(-10, 10, 21) # The lambda values on log scale\n",
    "\n",
    "Validation_Scores = []\n",
    "for a in alphas:\n",
    "    lm = linear_model.Lasso(alpha=a)\n",
    "    lm.fit(X_train, y_train) # Fit model on training set\n",
    "    Validation_Scores.append(metrics.mean_squared_error(lm.predict(X_valid), y_valid)) # Evaluate model on validation set\n",
    "\n",
    "\n",
    "print(list(zip(alphas, Validation_Scores)))\n",
    "\n",
    "plt.plot(alphas_index, Validation_Scores)\n",
    "plt.xlabel(\"Log(Alpha/Lambda)\")\n",
    "plt.ylabel(\"Validation_Error\")\n",
    "plt.title(\"Lasso Regression\")\n",
    "plt.show()"
   ]
  },
  {
   "cell_type": "code",
   "execution_count": 13,
   "metadata": {},
   "outputs": [
    {
     "data": {
      "text/plain": [
       "0.1"
      ]
     },
     "execution_count": 13,
     "metadata": {},
     "output_type": "execute_result"
    }
   ],
   "source": [
    "# Find minimum validation error and the corresponding lambda value\n",
    "min(Validation_Scores)\n",
    "alphas[np.argmin(Validation_Scores)]"
   ]
  },
  {
   "cell_type": "code",
   "execution_count": 14,
   "metadata": {},
   "outputs": [
    {
     "name": "stdout",
     "output_type": "stream",
     "text": [
      "           0       1\n",
      "0  11.408304  cement\n",
      "1   7.607861   blast\n",
      "2   4.388307  flyash\n",
      "3  -3.645041   water\n",
      "4   2.248255      sp\n",
      "5   0.072848      ca\n",
      "6   0.000000      fa\n",
      "7   7.297910     age\n",
      "The prediction error on the validation set is 108.51867779740218\n"
     ]
    }
   ],
   "source": [
    "# Refit Lasso model with selected alpha value\n",
    "lm1 = linear_model.Lasso(alpha = alphas[np.argmin(Validation_Scores)] )\n",
    "lm1.fit(X_train, y_train)\n",
    "print(pd.DataFrame(zip(lm1.coef_,X.columns)))\n",
    "print(\"The prediction error on the validation set is\", metrics.mean_squared_error(lm1.predict(X_valid), y_valid))"
   ]
  },
  {
   "cell_type": "markdown",
   "metadata": {},
   "source": [
    "Answer:\n",
    "\n",
    "Prediction error = 108.51867779740218.\n",
    "\n",
    "lambda = 0.1"
   ]
  },
  {
   "cell_type": "markdown",
   "metadata": {},
   "source": [
    "#### Now use the training+validation set, refit the model using the best lambda from above, and perform prediction on the test set. At this point you should scale using both the training+validation data together. What is the prediction error on the test set with this lambda value?"
   ]
  },
  {
   "cell_type": "code",
   "execution_count": 15,
   "metadata": {},
   "outputs": [
    {
     "name": "stdout",
     "output_type": "stream",
     "text": [
      "           0       1\n",
      "0  11.154474  cement\n",
      "1   7.393496   blast\n",
      "2   4.257816  flyash\n",
      "3  -4.084364   water\n",
      "4   2.017821      sp\n",
      "5   0.000000      ca\n",
      "6  -0.000000      fa\n",
      "7   7.079904     age\n",
      "The prediction error on the testing set is 123.90365131181834\n"
     ]
    }
   ],
   "source": [
    "# Scale data (use the train_valid set to fit, then transform both the train_valid set and test set)\n",
    "scaler = StandardScaler() # Instantiate\n",
    "scaler.fit(X_train_valid) # First fit the data, i.e. learn the mean and sd\n",
    "\n",
    "X_train_valid = pd.DataFrame(scaler.transform(X_train_valid)) # Then transform the data. We can also use fit_transform\n",
    "X_test = pd.DataFrame(scaler.transform(X_test))\n",
    "# Remember, the steps are fit, then transform\n",
    "\n",
    "# Refit Lasso model with selected alpha value (0.1 from the lambda we get before)\n",
    "lm2 = linear_model.Lasso(alpha = 0.1)\n",
    "lm2.fit(X_train_valid, y_train_valid)\n",
    "print(pd.DataFrame(zip(lm2.coef_,X.columns)))\n",
    "print(\"The prediction error on the testing set is\", metrics.mean_squared_error(lm2.predict(X_test), y_test))\n"
   ]
  },
  {
   "cell_type": "markdown",
   "metadata": {},
   "source": [
    "Answer: "
   ]
  },
  {
   "cell_type": "markdown",
   "metadata": {},
   "source": [
    "The prediction error on the test set with this lambda value is 123.90365131181834."
   ]
  },
  {
   "cell_type": "code",
   "execution_count": 17,
   "metadata": {},
   "outputs": [
    {
     "name": "stdout",
     "output_type": "stream",
     "text": [
      "           0       1\n",
      "0  11.023836  cement\n",
      "1   7.435473   blast\n",
      "2   4.237219  flyash\n",
      "3  -4.028812   water\n",
      "4   1.975620      sp\n",
      "5   0.000000      ca\n",
      "6  -0.000000      fa\n",
      "7   7.579947     age\n",
      "The prediction error on the test set is 126.08203968658492\n"
     ]
    }
   ],
   "source": [
    "# Refit model with train + validation set, perform prediction on test set\n",
    "# Scale data (use the train_valid set to fit, then transform both the train_valid set and test set)\n",
    "scaler = StandardScaler() # Instantiate\n",
    "scaler.fit(X_train,X_valid) # First fit the data, i.e. learn the mean and sd\n",
    "\n",
    "X_train = pd.DataFrame(scaler.transform(X_train)) # Then transform the data. We can also use fit_transform\n",
    "X_valid = pd.DataFrame(scaler.transform(X_valid))\n",
    "# Remember, the steps are fit, then transform\n",
    "X3 = pd.concat([X_train, X_valid])\n",
    "Y3 = pd.concat([y_train, y_valid])\n",
    "# Combine X_train and X_valid, and their Ys\n",
    "\n",
    "# Refit Lasso model with selected alpha value (0.1 from the lambda we get before)\n",
    "lm3 = linear_model.Lasso(alpha = 0.1)\n",
    "lm3.fit(X3, Y3)\n",
    "print(pd.DataFrame(zip(lm3.coef_,X.columns)))\n",
    "print(\"The prediction error on the test set is\", metrics.mean_squared_error(lm3.predict(X_test), y_test))\n"
   ]
  },
  {
   "cell_type": "markdown",
   "metadata": {},
   "source": [
    "Answer: "
   ]
  },
  {
   "cell_type": "markdown",
   "metadata": {},
   "source": [
    "The prediction error on the test set with this lambda value is 126.08203968658492."
   ]
  },
  {
   "cell_type": "markdown",
   "metadata": {},
   "source": [
    "#### What do you observe from the coefficients?"
   ]
  },
  {
   "cell_type": "markdown",
   "metadata": {},
   "source": [
    "Answer: "
   ]
  },
  {
   "cell_type": "markdown",
   "metadata": {},
   "source": [
    "The result of train + test, will be better than train_test because the prediction error is lower. "
   ]
  },
  {
   "cell_type": "markdown",
   "metadata": {},
   "source": [
    "#### Now perform the same task with ridge regression. Which lambda value gives the smallest prediction error on the validation set?"
   ]
  },
  {
   "cell_type": "code",
   "execution_count": 18,
   "metadata": {},
   "outputs": [
    {
     "name": "stdout",
     "output_type": "stream",
     "text": [
      "[(1e-10, 109.33485922534639), (1e-09, 109.33485922507496), (1e-08, 109.3348592223603), (1e-07, 109.33485919521344), (1e-06, 109.33485892374522), (1e-05, 109.33485620906636), (0.0001, 109.33482906263274), (0.001, 109.33455763374461), (0.01, 109.33184688686947), (0.1, 109.3050907681439), (1.0, 109.07000601476261), (10.0, 108.44624825507825), (100.0, 115.3730917111119), (1000.0, 175.08903759042846), (10000.0, 261.16464690835284), (100000.0, 279.8344143526139), (1000000.0, 281.9088195656453), (10000000.0, 282.1185494058706), (100000000.0, 282.1395455197), (1000000000.0, 282.14164536261995), (10000000000.0, 282.1418553492276)]\n"
     ]
    },
    {
     "data": {
      "image/png": "[encoded data removed]",
      "text/plain": [
       "<Figure size 432x288 with 1 Axes>"
      ]
     },
     "metadata": {
      "needs_background": "light"
     },
     "output_type": "display_data"
    }
   ],
   "source": [
    "# Ridge regression\n",
    "\n",
    "# Set up lambda/alpha candidate values \n",
    "alphas = np.logspace(-10, 10, 21) # We will use lambda on powers of 10 scale\n",
    "alphas_index = np.linspace(-10, 10, 21) # The lambda values on log scale\n",
    "\n",
    "Validation_Scores = []\n",
    "for a in alphas:\n",
    "    lm = linear_model.Ridge(alpha=a)\n",
    "    lm.fit(X_train, y_train) # Fit model on training set\n",
    "    Validation_Scores.append(metrics.mean_squared_error(lm.predict(X_valid), y_valid)) # Evaluate model on validation set\n",
    "\n",
    "\n",
    "print(list(zip(alphas, Validation_Scores)))\n",
    "\n",
    "plt.plot(alphas_index, Validation_Scores)\n",
    "plt.xlabel(\"Log(Alpha/Lambda)\")\n",
    "plt.ylabel(\"Validation_Error\")\n",
    "plt.title(\"Ridge Regression\")\n",
    "plt.show()\n"
   ]
  },
  {
   "cell_type": "code",
   "execution_count": 19,
   "metadata": {},
   "outputs": [
    {
     "data": {
      "text/plain": [
       "10.0"
      ]
     },
     "execution_count": 19,
     "metadata": {},
     "output_type": "execute_result"
    }
   ],
   "source": [
    "# Find minimum validation error and the corresponding lambda value\n",
    "min(Validation_Scores)\n",
    "alphas[np.argmin(Validation_Scores)]"
   ]
  },
  {
   "cell_type": "code",
   "execution_count": 20,
   "metadata": {},
   "outputs": [
    {
     "name": "stdout",
     "output_type": "stream",
     "text": [
      "           0       1\n",
      "0  11.291365  cement\n",
      "1   7.561269   blast\n",
      "2   4.287497  flyash\n",
      "3  -3.532789   water\n",
      "4   2.467653      sp\n",
      "5   0.231176      ca\n",
      "6   0.033577      fa\n",
      "7   7.288471     age\n",
      "The prediction error on the validation set is 108.44624825507825\n"
     ]
    }
   ],
   "source": [
    "# Refit Lasso model with selected alpha value\n",
    "lm1 = linear_model.Ridge(alpha = alphas[np.argmin(Validation_Scores)] )\n",
    "lm1.fit(X_train, y_train)\n",
    "print(pd.DataFrame(zip(lm1.coef_,X.columns)))\n",
    "print(\"The prediction error on the validation set is\", metrics.mean_squared_error(lm1.predict(X_valid), y_valid))"
   ]
  },
  {
   "cell_type": "markdown",
   "metadata": {},
   "source": [
    "Answer:\n",
    "\n",
    "Prediction error = 108.44624825507826.\n",
    "\n",
    "lambda = 10."
   ]
  },
  {
   "cell_type": "markdown",
   "metadata": {},
   "source": [
    "#### What is the prediction error on the test set with this lambda value?"
   ]
  },
  {
   "cell_type": "code",
   "execution_count": 21,
   "metadata": {},
   "outputs": [
    {
     "name": "stdout",
     "output_type": "stream",
     "text": [
      "           0       1\n",
      "0  11.157827  cement\n",
      "1   7.618309   blast\n",
      "2   4.372371  flyash\n",
      "3  -3.853091   water\n",
      "4   2.125114      sp\n",
      "5   0.245971      ca\n",
      "6   0.158781      fa\n",
      "7   7.610479     age\n",
      "The prediction error on the test set is 126.12736121130854\n"
     ]
    }
   ],
   "source": [
    "# Refit model with train + validation set, perform prediction on test set\n",
    "\n",
    "# Scale data (use the train_valid set to fit, then transform both the train_valid set and test set)\n",
    "scaler = StandardScaler() # Instantiate\n",
    "scaler.fit(X_train,X_valid) # First fit the data, i.e. learn the mean and sd\n",
    "\n",
    "X_train = pd.DataFrame(scaler.transform(X_train)) # Then transform the data. We can also use fit_transform\n",
    "X_valid = pd.DataFrame(scaler.transform(X_valid))\n",
    "# Remember, the steps are fit, then transform\n",
    "X4 = pd.concat([X_train, X_valid])\n",
    "Y4 = pd.concat([y_train, y_valid])\n",
    "# Combine X_train and X_valid, and their Ys\n",
    "\n",
    "# Refit Ridge model with selected alpha value (0.1 from the lambda we get before)\n",
    "lm4 = linear_model.Ridge(alpha = 10)\n",
    "lm4.fit(X4, Y4)\n",
    "print(pd.DataFrame(zip(lm4.coef_,X.columns)))\n",
    "print(\"The prediction error on the test set is\", metrics.mean_squared_error(lm4.predict(X_test), y_test))\n"
   ]
  },
  {
   "cell_type": "markdown",
   "metadata": {},
   "source": [
    "Answer: "
   ]
  },
  {
   "cell_type": "markdown",
   "metadata": {},
   "source": [
    "The prediction error on the test set with this lambda value is 126.12736121130852."
   ]
  },
  {
   "cell_type": "markdown",
   "metadata": {},
   "source": [
    "#### What do you observe from the coefficients?"
   ]
  },
  {
   "cell_type": "markdown",
   "metadata": {},
   "source": [
    "Answer: "
   ]
  },
  {
   "cell_type": "markdown",
   "metadata": {},
   "source": [
    "All the coefficients are not equal to zero."
   ]
  },
  {
   "cell_type": "markdown",
   "metadata": {},
   "source": [
    "#### Now fit the regression model using the statsmodel library (use only the train+valid data set). Perform prediction on the test set. What is the prediction error?"
   ]
  },
  {
   "cell_type": "code",
   "execution_count": 22,
   "metadata": {
    "scrolled": true
   },
   "outputs": [
    {
     "name": "stderr",
     "output_type": "stream",
     "text": [
      "C:\\ProgramData\\Anaconda3\\lib\\site-packages\\numpy\\core\\fromnumeric.py:2389: FutureWarning: Method .ptp is deprecated and will be removed in a future version. Use numpy.ptp instead.\n",
      "  return ptp(axis=axis, out=out, **kwargs)\n"
     ]
    },
    {
     "data": {
      "text/html": [
       "<table class=\"simpletable\">\n",
       "<caption>OLS Regression Results</caption>\n",
       "<tr>\n",
       "  <th>Dep. Variable:</th>           <td>ccs</td>       <th>  R-squared:         </th> <td>   0.634</td> \n",
       "</tr>\n",
       "<tr>\n",
       "  <th>Model:</th>                   <td>OLS</td>       <th>  Adj. R-squared:    </th> <td>   0.630</td> \n",
       "</tr>\n",
       "<tr>\n",
       "  <th>Method:</th>             <td>Least Squares</td>  <th>  F-statistic:       </th> <td>   176.3</td> \n",
       "</tr>\n",
       "<tr>\n",
       "  <th>Date:</th>             <td>Mon, 09 Mar 2020</td> <th>  Prob (F-statistic):</th> <td>5.01e-172</td>\n",
       "</tr>\n",
       "<tr>\n",
       "  <th>Time:</th>                 <td>14:40:25</td>     <th>  Log-Likelihood:    </th> <td> -3080.6</td> \n",
       "</tr>\n",
       "<tr>\n",
       "  <th>No. Observations:</th>      <td>   824</td>      <th>  AIC:               </th> <td>   6179.</td> \n",
       "</tr>\n",
       "<tr>\n",
       "  <th>Df Residuals:</th>          <td>   815</td>      <th>  BIC:               </th> <td>   6222.</td> \n",
       "</tr>\n",
       "<tr>\n",
       "  <th>Df Model:</th>              <td>     8</td>      <th>                     </th>     <td> </td>    \n",
       "</tr>\n",
       "<tr>\n",
       "  <th>Covariance Type:</th>      <td>nonrobust</td>    <th>                     </th>     <td> </td>    \n",
       "</tr>\n",
       "</table>\n",
       "<table class=\"simpletable\">\n",
       "<tr>\n",
       "     <td></td>       <th>coef</th>     <th>std err</th>      <th>t</th>      <th>P>|t|</th>  <th>[0.025</th>    <th>0.975]</th>  \n",
       "</tr>\n",
       "<tr>\n",
       "  <th>const</th>  <td>   35.6694</td> <td>    0.357</td> <td>   99.967</td> <td> 0.000</td> <td>   34.969</td> <td>   36.370</td>\n",
       "</tr>\n",
       "<tr>\n",
       "  <th>cement</th> <td>   12.8213</td> <td>    0.950</td> <td>   13.490</td> <td> 0.000</td> <td>   10.956</td> <td>   14.687</td>\n",
       "</tr>\n",
       "<tr>\n",
       "  <th>blast</th>  <td>    9.2455</td> <td>    0.941</td> <td>    9.825</td> <td> 0.000</td> <td>    7.398</td> <td>   11.093</td>\n",
       "</tr>\n",
       "<tr>\n",
       "  <th>flyash</th> <td>    5.8369</td> <td>    0.875</td> <td>    6.671</td> <td> 0.000</td> <td>    4.120</td> <td>    7.554</td>\n",
       "</tr>\n",
       "<tr>\n",
       "  <th>water</th>  <td>   -2.8532</td> <td>    0.884</td> <td>   -3.226</td> <td> 0.001</td> <td>   -4.589</td> <td>   -1.117</td>\n",
       "</tr>\n",
       "<tr>\n",
       "  <th>sp</th>     <td>    2.0480</td> <td>    0.588</td> <td>    3.483</td> <td> 0.001</td> <td>    0.894</td> <td>    3.202</td>\n",
       "</tr>\n",
       "<tr>\n",
       "  <th>ca</th>     <td>    1.3295</td> <td>    0.784</td> <td>    1.696</td> <td> 0.090</td> <td>   -0.209</td> <td>    2.868</td>\n",
       "</tr>\n",
       "<tr>\n",
       "  <th>fa</th>     <td>    1.5612</td> <td>    0.917</td> <td>    1.703</td> <td> 0.089</td> <td>   -0.238</td> <td>    3.361</td>\n",
       "</tr>\n",
       "<tr>\n",
       "  <th>age</th>    <td>    7.7925</td> <td>    0.398</td> <td>   19.602</td> <td> 0.000</td> <td>    7.012</td> <td>    8.573</td>\n",
       "</tr>\n",
       "</table>\n",
       "<table class=\"simpletable\">\n",
       "<tr>\n",
       "  <th>Omnibus:</th>       <td> 9.843</td> <th>  Durbin-Watson:     </th> <td>   2.089</td>\n",
       "</tr>\n",
       "<tr>\n",
       "  <th>Prob(Omnibus):</th> <td> 0.007</td> <th>  Jarque-Bera (JB):  </th> <td>   9.823</td>\n",
       "</tr>\n",
       "<tr>\n",
       "  <th>Skew:</th>          <td>-0.256</td> <th>  Prob(JB):          </th> <td> 0.00736</td>\n",
       "</tr>\n",
       "<tr>\n",
       "  <th>Kurtosis:</th>      <td> 3.156</td> <th>  Cond. No.          </th> <td>    8.40</td>\n",
       "</tr>\n",
       "</table><br/><br/>Warnings:<br/>[1] Standard Errors assume that the covariance matrix of the errors is correctly specified."
      ],
      "text/plain": [
       "<class 'statsmodels.iolib.summary.Summary'>\n",
       "\"\"\"\n",
       "                            OLS Regression Results                            \n",
       "==============================================================================\n",
       "Dep. Variable:                    ccs   R-squared:                       0.634\n",
       "Model:                            OLS   Adj. R-squared:                  0.630\n",
       "Method:                 Least Squares   F-statistic:                     176.3\n",
       "Date:                Mon, 09 Mar 2020   Prob (F-statistic):          5.01e-172\n",
       "Time:                        14:40:25   Log-Likelihood:                -3080.6\n",
       "No. Observations:                 824   AIC:                             6179.\n",
       "Df Residuals:                     815   BIC:                             6222.\n",
       "Df Model:                           8                                         \n",
       "Covariance Type:            nonrobust                                         \n",
       "==============================================================================\n",
       "                 coef    std err          t      P>|t|      [0.025      0.975]\n",
       "------------------------------------------------------------------------------\n",
       "const         35.6694      0.357     99.967      0.000      34.969      36.370\n",
       "cement        12.8213      0.950     13.490      0.000      10.956      14.687\n",
       "blast          9.2455      0.941      9.825      0.000       7.398      11.093\n",
       "flyash         5.8369      0.875      6.671      0.000       4.120       7.554\n",
       "water         -2.8532      0.884     -3.226      0.001      -4.589      -1.117\n",
       "sp             2.0480      0.588      3.483      0.001       0.894       3.202\n",
       "ca             1.3295      0.784      1.696      0.090      -0.209       2.868\n",
       "fa             1.5612      0.917      1.703      0.089      -0.238       3.361\n",
       "age            7.7925      0.398     19.602      0.000       7.012       8.573\n",
       "==============================================================================\n",
       "Omnibus:                        9.843   Durbin-Watson:                   2.089\n",
       "Prob(Omnibus):                  0.007   Jarque-Bera (JB):                9.823\n",
       "Skew:                          -0.256   Prob(JB):                      0.00736\n",
       "Kurtosis:                       3.156   Cond. No.                         8.40\n",
       "==============================================================================\n",
       "\n",
       "Warnings:\n",
       "[1] Standard Errors assume that the covariance matrix of the errors is correctly specified.\n",
       "\"\"\""
      ]
     },
     "execution_count": 22,
     "metadata": {},
     "output_type": "execute_result"
    }
   ],
   "source": [
    "# Fit model (remember to add the intercept)\n",
    "# Scale data (use the train_valid set to fit, then transform both the train_valid set and test set)\n",
    "scaler = StandardScaler() # Instantiate\n",
    "scaler.fit(X_train,X_valid) # First fit the data, i.e. learn the mean and sd\n",
    "\n",
    "X_train = pd.DataFrame(scaler.transform(X_train)) # Then transform the data. We can also use fit_transform\n",
    "X_valid = pd.DataFrame(scaler.transform(X_valid))\n",
    "# Remember, the steps are fit, then transform\n",
    "X5 = pd.concat([X_train, X_valid])\n",
    "X5.columns = ['cement','blast','flyash','water','sp','ca','fa','age'] \n",
    "X5.index = range(824)\n",
    "Y5 = pd.concat([y_train, y_valid])\n",
    "Y5.index = range(824)\n",
    "# Combine X_train and X_valid, and their Ys\n",
    "\n",
    "# Prediction\n",
    "X_con = sm.add_constant(X5)\n",
    "model = sm.OLS(Y5, X_con).fit()\n",
    "#predictions = model.predict(X_test)\n",
    "model.summary()\n"
   ]
  },
  {
   "cell_type": "code",
   "execution_count": 23,
   "metadata": {},
   "outputs": [],
   "source": [
    "X_test = sm.add_constant(X_test)\n",
    "prediction = model.predict(X_test)"
   ]
  },
  {
   "cell_type": "code",
   "execution_count": 24,
   "metadata": {},
   "outputs": [
    {
     "data": {
      "text/plain": [
       "Text(0, 0.5, 'Prediction')"
      ]
     },
     "execution_count": 24,
     "metadata": {},
     "output_type": "execute_result"
    },
    {
     "data": {
      "image/png": "[encoded data removed]",
      "text/plain": [
       "<Figure size 432x288 with 1 Axes>"
      ]
     },
     "metadata": {
      "needs_background": "light"
     },
     "output_type": "display_data"
    }
   ],
   "source": [
    "plt.scatter(y_test, prediction)\n",
    "plt.xlabel('True Value')\n",
    "plt.ylabel('Prediction')"
   ]
  },
  {
   "cell_type": "code",
   "execution_count": 25,
   "metadata": {},
   "outputs": [
    {
     "name": "stdout",
     "output_type": "stream",
     "text": [
      "The prediction error on the test set is 127.09137011149679\n"
     ]
    }
   ],
   "source": [
    "print(\"The prediction error on the test set is\", metrics.mean_squared_error(model.predict(X_test), y_test))"
   ]
  },
  {
   "cell_type": "markdown",
   "metadata": {},
   "source": [
    "Answer: "
   ]
  },
  {
   "cell_type": "markdown",
   "metadata": {},
   "source": [
    "The prediction error on the test set with this lambda value is 127.091370111497."
   ]
  },
  {
   "cell_type": "markdown",
   "metadata": {},
   "source": [
    "#### Between these three models, which model gives the best prediction result?"
   ]
  },
  {
   "cell_type": "markdown",
   "metadata": {},
   "source": [
    "Answer: "
   ]
  },
  {
   "cell_type": "markdown",
   "metadata": {},
   "source": [
    " Lasso regression"
   ]
  },
  {
   "cell_type": "code",
   "execution_count": null,
   "metadata": {},
   "outputs": [],
   "source": []
  }
 ],
 "metadata": {
  "kernelspec": {
   "display_name": "Python 3",
   "language": "python",
   "name": "python3"
  },
  "language_info": {
   "codemirror_mode": {
    "name": "ipython",
    "version": 3
   },
   "file_extension": ".py",
   "mimetype": "text/x-python",
   "name": "python",
   "nbconvert_exporter": "python",
   "pygments_lexer": "ipython3",
   "version": "3.7.3"
  }
 },
 "nbformat": 4,
 "nbformat_minor": 1
}
