{
 "cells": [
  {
   "cell_type": "markdown",
   "metadata": {},
   "source": [
    "# Random Forest and Boosting Algorithm\n",
    "## Decision Tree Model"
   ]
  },
  {
   "cell_type": "code",
   "execution_count": 1,
   "metadata": {},
   "outputs": [],
   "source": [
    "import pandas as pd\n",
    "import numpy as np"
   ]
  },
  {
   "cell_type": "code",
   "execution_count": 2,
   "metadata": {},
   "outputs": [
    {
     "data": {
      "text/plain": [
       "4601"
      ]
     },
     "execution_count": 2,
     "metadata": {},
     "output_type": "execute_result"
    }
   ],
   "source": [
    "SpamData = pd.read_csv(\"spambase.csv\")\n",
    "SpamData.head()\n",
    "len(SpamData)"
   ]
  },
  {
   "cell_type": "code",
   "execution_count": 3,
   "metadata": {},
   "outputs": [],
   "source": [
    "ListOfAllVariables = SpamData.columns.values\n",
    "X = SpamData[ListOfAllVariables]\n",
    "del X['is_spam']\n",
    "y = SpamData['is_spam']"
   ]
  },
  {
   "cell_type": "markdown",
   "metadata": {},
   "source": [
    "### Earlier in this course, we used logistic regression model and could achieve 8.2% misclassification error. Now, you know few top of the line algorithms like Random Forest and boosting. Go ahead and beat the Logistic regression algorithm. The champion, the person who beats CV-error of 8.2% and makes the least amount of error will receive a ONE DOLLAR bill award! \n",
    "### Just beat it, beat it, beat it, beat it\n",
    "### No one wants to be defeated\n",
    "### Showin' how funky strong is your fight \n",
    "### It doesn't matter who's wrong or right \n",
    "### just boost it, bag it, boost it, beat it"
   ]
  },
  {
   "cell_type": "markdown",
   "metadata": {},
   "source": [
    "If you are using **Boosting** then set **min_samples_leaf = 10** and **random_state = 24**\n",
    "Also, in order to be consitent use the following way to cross-validate your errors:\n",
    "\n",
    "kf = cross_validation.KFold(len(BostonData), n_folds = 10, shuffle = True) \n",
    "\n",
    "scores = []\n",
    "\n",
    "for train_index, test_index in kf:\n",
    "\n",
    "                                  ...\n",
    "                                  "
   ]
  },
  {
   "cell_type": "markdown",
   "metadata": {},
   "source": [
    "If you are working with **Random Forest** then set **random_state = 24** and **min_samples_leaf = 10**. "
   ]
  },
  {
   "cell_type": "markdown",
   "metadata": {},
   "source": [
    "### Random Forest"
   ]
  },
  {
   "cell_type": "code",
   "execution_count": 4,
   "metadata": {},
   "outputs": [],
   "source": [
    "#import the library that will be used in this code\n",
    "\n",
    "from sklearn.ensemble import RandomForestClassifier\n",
    "from sklearn.model_selection import cross_val_score\n",
    "import matplotlib.pyplot as plt\n",
    "%matplotlib inline\n",
    "from sklearn.ensemble import GradientBoostingClassifier\n",
    "from sklearn.model_selection import KFold "
   ]
  },
  {
   "cell_type": "markdown",
   "metadata": {},
   "source": [
    "#### Training my RF model"
   ]
  },
  {
   "cell_type": "code",
   "execution_count": 5,
   "metadata": {},
   "outputs": [
    {
     "data": {
      "image/png": "[encoded data removed]",
      "text/plain": [
       "<Figure size 432x288 with 1 Axes>"
      ]
     },
     "metadata": {
      "needs_background": "light"
     },
     "output_type": "display_data"
    }
   ],
   "source": [
    "Features = range(1,14)\n",
    "oob_score_RF = []\n",
    "for i in Features:\n",
    "        RFClass = RandomForestClassifier(n_estimators = 1000, #Number of trees - the more the better!\n",
    "                           max_features = i,     #How many features to randomly choose in each node \n",
    "                           min_samples_leaf = 10, #Minimum number of observations at each terminal node\n",
    "                           oob_score = True,\n",
    "                           random_state = 24,\n",
    "                           n_jobs = -1)\n",
    "        RFClass.fit(X,y)  \n",
    "        oob_score_RF.append(RFClass.oob_score_)\n",
    "\n",
    "plt.plot(Features, oob_score_RF)\n",
    "plt.xlabel(\"Number of Features\")\n",
    "plt.ylabel(\"Out of Bag Accuracy\")\n",
    "plt.show()             \n",
    "        \n",
    "# it sounds like choosing max_features as 11 is our best bet"
   ]
  },
  {
   "cell_type": "code",
   "execution_count": 6,
   "metadata": {},
   "outputs": [
    {
     "name": "stdout",
     "output_type": "stream",
     "text": [
      "The optimal level of features is 11 which leads to maximum out of bag accuracy of 0.939796\n"
     ]
    }
   ],
   "source": [
    "index_Optimal_Features = np.argmax(oob_score_RF)\n",
    "Optimal_Feature = Features[index_Optimal_Features]\n",
    "print(\"The optimal level of features is %i which leads to maximum out of bag accuracy of %f\" \n",
    "      %(Optimal_Feature, np.max(oob_score_RF)))"
   ]
  },
  {
   "cell_type": "code",
   "execution_count": 7,
   "metadata": {},
   "outputs": [
    {
     "name": "stdout",
     "output_type": "stream",
     "text": [
      "0.060857776101103454\n"
     ]
    }
   ],
   "source": [
    "kf = KFold(n_splits = 10, shuffle = True) #10 fold CV\n",
    "#Put our best training model into practice\n",
    "RFClass = RandomForestClassifier(n_estimators = 1000, \n",
    "                                 max_features = Optimal_Feature,\n",
    "                                 min_samples_leaf = 10,\n",
    "                                 oob_score = True,\n",
    "                                 random_state = 24,\n",
    "                                 n_jobs = -1)\n",
    "\n",
    "scores = []\n",
    "\n",
    "for train_index, test_index in kf.split(X):        \n",
    "        RFClass.fit(X.iloc[train_index], y.iloc[train_index])\n",
    "        y_hat_test = RFClass.predict(X.iloc[test_index]) \n",
    "        scores.append(float(sum(y_hat_test != y.iloc[test_index]))/len(y_hat_test))\n",
    "\n",
    "MisClass_RF_CV = np.mean(scores)    \n",
    "\n",
    "print(MisClass_RF_CV) "
   ]
  },
  {
   "cell_type": "markdown",
   "metadata": {
    "collapsed": true
   },
   "source": [
    "### Boosting Algorithm"
   ]
  },
  {
   "cell_type": "markdown",
   "metadata": {
    "collapsed": true
   },
   "source": [
    "#### Training my BA model"
   ]
  },
  {
   "cell_type": "code",
   "execution_count": 8,
   "metadata": {},
   "outputs": [
    {
     "data": {
      "image/png": "[encoded data removed]",
      "text/plain": [
       "<Figure size 432x288 with 1 Axes>"
      ]
     },
     "metadata": {
      "needs_background": "light"
     },
     "output_type": "display_data"
    }
   ],
   "source": [
    "Depth = range(1,5)\n",
    "Score = []\n",
    "for i in Depth:\n",
    "                GBR_Tree = GradientBoostingClassifier(learning_rate = 0.01, # This is lambda, a tuning parameter, usually between 0.01 and 0.1\n",
    "                                             n_estimators = 100, #This is B, a tuning parameter, using large B can cause overfitting, default=100\n",
    "                                             max_depth = i, #This is d, another tuning parameter, usually max_depth < 5\n",
    "                                             min_samples_leaf = 10,\n",
    "                                             random_state = 24)\n",
    "        \n",
    "                Score.append(-cross_val_score(GBR_Tree, X, y, cv=5, scoring='neg_mean_squared_error', n_jobs = -1).mean())\n",
    "\n",
    "plt.plot(Depth, Score)\n",
    "plt.xlabel(\"Depth\")\n",
    "plt.ylabel(\"CV - MSE\")\n",
    "plt.show()  \n",
    "\n",
    "# it seems like Max_Depth = 5 gives us the lowest CV-Error"
   ]
  },
  {
   "cell_type": "code",
   "execution_count": 9,
   "metadata": {},
   "outputs": [
    {
     "name": "stdout",
     "output_type": "stream",
     "text": [
      "The optimal level of depth is 4 which leads to minimum mean squared error of 0.101068\n"
     ]
    }
   ],
   "source": [
    "index_Optimal_Depth = np.argmin(Score)\n",
    "Optimal_Depth = Depth[index_Optimal_Depth]\n",
    "print(\"The optimal level of depth is %i which leads to minimum mean squared error of %f\" \n",
    "      %(Optimal_Depth, np.min(Score)))"
   ]
  },
  {
   "cell_type": "code",
   "execution_count": 10,
   "metadata": {},
   "outputs": [
    {
     "data": {
      "image/png": "[encoded data removed]",
      "text/plain": [
       "<Figure size 432x288 with 1 Axes>"
      ]
     },
     "metadata": {
      "needs_background": "light"
     },
     "output_type": "display_data"
    }
   ],
   "source": [
    "Score = []\n",
    "NumberOfTrees = [100,1000,2000,5000]\n",
    "for i in NumberOfTrees:\n",
    "                GBR_Tree = GradientBoostingClassifier(learning_rate = 0.01, # This is lambda, a tuning parameter, usually between 0.01 and 0.1\n",
    "                                             n_estimators = i, #This is B, a tuning parameter, using large B can cause overfitting\n",
    "                                             max_depth = 4, #default=3, we use the depth we get from previous part\n",
    "                                             min_samples_leaf = 10,\n",
    "                                             random_state = 24)\n",
    "        \n",
    "                Score.append(-cross_val_score(GBR_Tree, X, y, cv = 5, scoring = 'neg_mean_squared_error', n_jobs = -1).mean())\n",
    "\n",
    "plt.plot(NumberOfTrees, Score)\n",
    "plt.xlabel(\"Number of Trees\")\n",
    "plt.ylabel(\"CV - MSE\")\n",
    "plt.show()                  \n",
    "                          \n",
    "# it seems like at Tree_Size = 2000\n",
    "# Remember Learning Rate and Number of trees should be tuned with one another. Lower leawrning rates require more trees"
   ]
  },
  {
   "cell_type": "code",
   "execution_count": 11,
   "metadata": {},
   "outputs": [
    {
     "name": "stdout",
     "output_type": "stream",
     "text": [
      "Optimal tree = 2000 which leads to minimum error of 0.066729\n"
     ]
    }
   ],
   "source": [
    "Index_Min = np.argmin(Score)\n",
    "Optimal_tree = NumberOfTrees[Index_Min]\n",
    "print(\"Optimal tree = %i which leads to minimum error of %f\" %(Optimal_tree, np.min(Score)))"
   ]
  },
  {
   "cell_type": "code",
   "execution_count": 12,
   "metadata": {},
   "outputs": [
    {
     "name": "stdout",
     "output_type": "stream",
     "text": [
      "0.0473814014901443\n"
     ]
    }
   ],
   "source": [
    "kf = KFold(n_splits = 10, shuffle = True) #10 fold CV\n",
    "#Put our best training model into practice\n",
    "\n",
    "GBC_Tree = GradientBoostingClassifier(learning_rate = 0.01,\n",
    "                                      n_estimators = Optimal_tree,\n",
    "                                      max_depth = Optimal_Depth,\n",
    "                                      min_samples_leaf = 10,\n",
    "                                      random_state = 24)\n",
    "\n",
    "scores = []\n",
    "\n",
    "for train_index, test_index in kf.split(X):        \n",
    "        GBC_Tree.fit(X.iloc[train_index], y.iloc[train_index])\n",
    "        y_hat_test = GBC_Tree.predict(X.iloc[test_index]) \n",
    "        scores.append(float(sum(y_hat_test != y.iloc[test_index]))/len(y_hat_test))\n",
    "\n",
    "MisClass_BA_CV = np.mean(scores)    \n",
    "\n",
    "print(MisClass_BA_CV) \n"
   ]
  },
  {
   "cell_type": "code",
   "execution_count": null,
   "metadata": {},
   "outputs": [],
   "source": []
  }
 ],
 "metadata": {
  "kernelspec": {
   "display_name": "Python 3",
   "language": "python",
   "name": "python3"
  },
  "language_info": {
   "codemirror_mode": {
    "name": "ipython",
    "version": 3
   },
   "file_extension": ".py",
   "mimetype": "text/x-python",
   "name": "python",
   "nbconvert_exporter": "python",
   "pygments_lexer": "ipython3",
   "version": "3.7.3"
  }
 },
 "nbformat": 4,
 "nbformat_minor": 1
}
