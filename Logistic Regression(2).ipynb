{
 "cells": [
  {
   "cell_type": "code",
   "execution_count": 1,
   "metadata": {},
   "outputs": [],
   "source": [
    "import pandas as pd\n",
    "import numpy as np\n",
    "from sklearn.linear_model import LogisticRegression\n",
    "from sklearn.model_selection import cross_val_score\n",
    "# no this module: from sklearn.cross_validation import cross_val_score\n",
    "from sklearn.metrics import confusion_matrix\n",
    "import matplotlib.pyplot as plt\n",
    "%matplotlib inline"
   ]
  },
  {
   "cell_type": "code",
   "execution_count": 2,
   "metadata": {},
   "outputs": [],
   "source": [
    "MyopiaData = pd.read_csv(\"myopia.csv\")"
   ]
  },
  {
   "cell_type": "code",
   "execution_count": 3,
   "metadata": {},
   "outputs": [
    {
     "data": {
      "text/html": [
       "<div>\n",
       "<style scoped>\n",
       "    .dataframe tbody tr th:only-of-type {\n",
       "        vertical-align: middle;\n",
       "    }\n",
       "\n",
       "    .dataframe tbody tr th {\n",
       "        vertical-align: top;\n",
       "    }\n",
       "\n",
       "    .dataframe thead th {\n",
       "        text-align: right;\n",
       "    }\n",
       "</style>\n",
       "<table border=\"1\" class=\"dataframe\">\n",
       "  <thead>\n",
       "    <tr style=\"text-align: right;\">\n",
       "      <th></th>\n",
       "      <th>ID</th>\n",
       "      <th>STUDYYEAR</th>\n",
       "      <th>MYOPIC</th>\n",
       "      <th>AGE</th>\n",
       "      <th>GENDER</th>\n",
       "      <th>SPHEQ</th>\n",
       "      <th>AL</th>\n",
       "      <th>ACD</th>\n",
       "      <th>LT</th>\n",
       "      <th>VCD</th>\n",
       "      <th>SPORTHR</th>\n",
       "      <th>READHR</th>\n",
       "      <th>COMPHR</th>\n",
       "      <th>STUDYHR</th>\n",
       "      <th>TVHR</th>\n",
       "      <th>DIOPTERHR</th>\n",
       "      <th>MOMMY</th>\n",
       "      <th>DADMY</th>\n",
       "    </tr>\n",
       "  </thead>\n",
       "  <tbody>\n",
       "    <tr>\n",
       "      <th>0</th>\n",
       "      <td>1</td>\n",
       "      <td>1992</td>\n",
       "      <td>1</td>\n",
       "      <td>6</td>\n",
       "      <td>1</td>\n",
       "      <td>-0.052</td>\n",
       "      <td>21.89</td>\n",
       "      <td>3.690</td>\n",
       "      <td>3.498</td>\n",
       "      <td>14.70</td>\n",
       "      <td>45</td>\n",
       "      <td>8</td>\n",
       "      <td>0</td>\n",
       "      <td>0</td>\n",
       "      <td>10</td>\n",
       "      <td>34</td>\n",
       "      <td>1</td>\n",
       "      <td>1</td>\n",
       "    </tr>\n",
       "    <tr>\n",
       "      <th>1</th>\n",
       "      <td>2</td>\n",
       "      <td>1995</td>\n",
       "      <td>0</td>\n",
       "      <td>6</td>\n",
       "      <td>1</td>\n",
       "      <td>0.608</td>\n",
       "      <td>22.38</td>\n",
       "      <td>3.702</td>\n",
       "      <td>3.392</td>\n",
       "      <td>15.29</td>\n",
       "      <td>4</td>\n",
       "      <td>0</td>\n",
       "      <td>1</td>\n",
       "      <td>1</td>\n",
       "      <td>7</td>\n",
       "      <td>12</td>\n",
       "      <td>1</td>\n",
       "      <td>1</td>\n",
       "    </tr>\n",
       "    <tr>\n",
       "      <th>2</th>\n",
       "      <td>3</td>\n",
       "      <td>1991</td>\n",
       "      <td>0</td>\n",
       "      <td>6</td>\n",
       "      <td>1</td>\n",
       "      <td>1.179</td>\n",
       "      <td>22.49</td>\n",
       "      <td>3.462</td>\n",
       "      <td>3.514</td>\n",
       "      <td>15.52</td>\n",
       "      <td>14</td>\n",
       "      <td>0</td>\n",
       "      <td>2</td>\n",
       "      <td>0</td>\n",
       "      <td>10</td>\n",
       "      <td>14</td>\n",
       "      <td>0</td>\n",
       "      <td>0</td>\n",
       "    </tr>\n",
       "    <tr>\n",
       "      <th>3</th>\n",
       "      <td>4</td>\n",
       "      <td>1990</td>\n",
       "      <td>1</td>\n",
       "      <td>6</td>\n",
       "      <td>1</td>\n",
       "      <td>0.525</td>\n",
       "      <td>22.20</td>\n",
       "      <td>3.862</td>\n",
       "      <td>3.612</td>\n",
       "      <td>14.73</td>\n",
       "      <td>18</td>\n",
       "      <td>11</td>\n",
       "      <td>0</td>\n",
       "      <td>0</td>\n",
       "      <td>4</td>\n",
       "      <td>37</td>\n",
       "      <td>0</td>\n",
       "      <td>1</td>\n",
       "    </tr>\n",
       "    <tr>\n",
       "      <th>4</th>\n",
       "      <td>5</td>\n",
       "      <td>1995</td>\n",
       "      <td>0</td>\n",
       "      <td>5</td>\n",
       "      <td>0</td>\n",
       "      <td>0.697</td>\n",
       "      <td>23.29</td>\n",
       "      <td>3.676</td>\n",
       "      <td>3.454</td>\n",
       "      <td>16.16</td>\n",
       "      <td>14</td>\n",
       "      <td>0</td>\n",
       "      <td>0</td>\n",
       "      <td>0</td>\n",
       "      <td>4</td>\n",
       "      <td>4</td>\n",
       "      <td>1</td>\n",
       "      <td>0</td>\n",
       "    </tr>\n",
       "  </tbody>\n",
       "</table>\n",
       "</div>"
      ],
      "text/plain": [
       "   ID  STUDYYEAR  MYOPIC  AGE  GENDER  SPHEQ     AL    ACD     LT    VCD  \\\n",
       "0   1       1992       1    6       1 -0.052  21.89  3.690  3.498  14.70   \n",
       "1   2       1995       0    6       1  0.608  22.38  3.702  3.392  15.29   \n",
       "2   3       1991       0    6       1  1.179  22.49  3.462  3.514  15.52   \n",
       "3   4       1990       1    6       1  0.525  22.20  3.862  3.612  14.73   \n",
       "4   5       1995       0    5       0  0.697  23.29  3.676  3.454  16.16   \n",
       "\n",
       "   SPORTHR  READHR  COMPHR  STUDYHR  TVHR  DIOPTERHR  MOMMY  DADMY  \n",
       "0       45       8       0        0    10         34      1      1  \n",
       "1        4       0       1        1     7         12      1      1  \n",
       "2       14       0       2        0    10         14      0      0  \n",
       "3       18      11       0        0     4         37      0      1  \n",
       "4       14       0       0        0     4          4      1      0  "
      ]
     },
     "execution_count": 3,
     "metadata": {},
     "output_type": "execute_result"
    }
   ],
   "source": [
    "MyopiaData.head()"
   ]
  },
  {
   "cell_type": "markdown",
   "metadata": {},
   "source": [
    "Here is our dataset dictionary: https://www.umass.edu/statdata/statdata/data/myopia.pdf"
   ]
  },
  {
   "cell_type": "markdown",
   "metadata": {},
   "source": [
    "#### We are interested in finding out what contributes to Myopia the most. My grandmother always told me not to watch TV or play with computer. Her hypothesis was that they will cause Myopia. (She was strangely fine with studying!). It sounds like Drs share the same point of view with my grandmother \" http://www.allaboutvision.com/conditions/myopia.htm \"\n",
    "\n",
    "#### We are DataScientist and don't trust our grandmothers or DRs unless we find the same result! Now, let's go and explore Myopia!\n",
    "\n",
    "\n"
   ]
  },
  {
   "cell_type": "code",
   "execution_count": 4,
   "metadata": {},
   "outputs": [],
   "source": [
    "# Year of study and id should not affect anything so we disregard them in this study. \n",
    "# we consider two types of inputs - first all general inputs - i.e. physical and external inputs\n",
    "# second only external inputs\n",
    "X1 = MyopiaData[['SPHEQ','AL','ACD','LT','VCD','AGE','GENDER','SPORTHR','READHR','COMPHR','STUDYHR','TVHR','DIOPTERHR','MOMMY','DADMY']]\n",
    "X2 = MyopiaData[['AGE','GENDER','SPORTHR','READHR','COMPHR','STUDYHR','TVHR','DIOPTERHR','MOMMY','DADMY']]\n",
    "y = MyopiaData['MYOPIC']\n"
   ]
  },
  {
   "cell_type": "markdown",
   "metadata": {},
   "source": [
    "Run your regression line on X1 and interpret your MOMMY AND DADMY coefficients. Assume variables are significant. Use sklearn "
   ]
  },
  {
   "cell_type": "code",
   "execution_count": 5,
   "metadata": {},
   "outputs": [
    {
     "data": {
      "text/plain": [
       "[(array(['SPHEQ', 'AL', 'ACD', 'LT', 'VCD', 'AGE', 'GENDER', 'SPORTHR',\n",
       "         'READHR', 'COMPHR', 'STUDYHR', 'TVHR', 'DIOPTERHR', 'MOMMY',\n",
       "         'DADMY'], dtype=object),\n",
       "  array([-3.4114842 ,  0.01506597,  0.76417271, -0.44270495, -0.2886341 ,\n",
       "         -0.00691405,  0.5038171 , -0.04742357,  0.09741004,  0.04902041,\n",
       "         -0.13122663, -0.00426283, -0.00767177,  0.63964875,  0.71626816]))]"
      ]
     },
     "execution_count": 5,
     "metadata": {},
     "output_type": "execute_result"
    }
   ],
   "source": [
    "lm = LogisticRegression(solver = 'newton-cg', max_iter = 100000)\n",
    "lm.fit(X1, y)\n",
    "\n",
    "#get the column names\n",
    "NameOfVariables = X1.columns.values\n",
    "list(zip([NameOfVariables], lm.coef_))\n",
    "#print(lm.intercept_)"
   ]
  },
  {
   "cell_type": "markdown",
   "metadata": {},
   "source": [
    "Answer: The result shows that if a child's mother or farther is Myopia, the probability of this child is Myopia will increase by 63.96% and 71.63%."
   ]
  },
  {
   "cell_type": "markdown",
   "metadata": {},
   "source": [
    "#### Use confusion matrix and estimate False negative rate and False positive rate"
   ]
  },
  {
   "cell_type": "code",
   "execution_count": 6,
   "metadata": {},
   "outputs": [
    {
     "data": {
      "text/plain": [
       "array([[524,  13],\n",
       "       [ 53,  28]], dtype=int64)"
      ]
     },
     "execution_count": 6,
     "metadata": {},
     "output_type": "execute_result"
    }
   ],
   "source": [
    "y_hat = lm.predict(X1)\n",
    "confusion_matrix(y, y_hat)"
   ]
  },
  {
   "cell_type": "code",
   "execution_count": 7,
   "metadata": {},
   "outputs": [],
   "source": [
    "confmat = confusion_matrix(y, y_hat)\n",
    "TN = confmat[0,0] #True Negative\n",
    "FN = confmat[1,0] #False Negative\n",
    "FP = confmat[0,1] #False Positive\n",
    "TP = confmat[1,1] #True Positive"
   ]
  },
  {
   "cell_type": "code",
   "execution_count": 8,
   "metadata": {},
   "outputs": [
    {
     "name": "stdout",
     "output_type": "stream",
     "text": [
      "False Positive Rate = 0.024209\n",
      "False Negative Rate = 0.654321\n",
      "True Positive Rate = 0.345679\n",
      "True Negative Rate = 0.975791\n",
      "Misclassification Error = 0.106796\n",
      "Accuracy = 0.893204\n"
     ]
    }
   ],
   "source": [
    "Err = float(FP + FN)/(FP + FN + TP + TN) #Prediction Error\n",
    "Acc = float(TP + TN)/(FP + FN + TP + TN) #Prediction Accuracy\n",
    "FPR = float(FP)/(FP + TN)  #False Positive Rate\n",
    "TNR = float(TN)/(FP + TN)  #True Negative Rate\n",
    "TPR = float(TP)/(FN + TP)  #True Positive Rate\n",
    "FNR = float(FN)/(FN + TP)  #False Negative Rate\n",
    "print(\"False Positive Rate = %f\" %FPR)\n",
    "print(\"False Negative Rate = %f\" %FNR)\n",
    "print(\"True Positive Rate = %f\" %TPR)\n",
    "print(\"True Negative Rate = %f\" %TNR)\n",
    "print(\"Misclassification Error = %f\" %Err)\n",
    "print(\"Accuracy = %f\" %Acc)"
   ]
  },
  {
   "cell_type": "markdown",
   "metadata": {},
   "source": [
    "False Negative Rate is 0.654321, \n",
    "False Positive Rate is 0.024209. "
   ]
  },
  {
   "cell_type": "markdown",
   "metadata": {},
   "source": [
    "#### Use 10-fold cross-validation to measure accuracy of your predictions"
   ]
  },
  {
   "cell_type": "code",
   "execution_count": 9,
   "metadata": {},
   "outputs": [
    {
     "name": "stdout",
     "output_type": "stream",
     "text": [
      "0.883521358481697\n"
     ]
    }
   ],
   "source": [
    "print(cross_val_score(lm, X1, y,cv=10).mean()) \n"
   ]
  },
  {
   "cell_type": "markdown",
   "metadata": {},
   "source": [
    "#### In your dataset, what percentage of cases are myopic?"
   ]
  },
  {
   "cell_type": "code",
   "execution_count": 10,
   "metadata": {},
   "outputs": [
    {
     "data": {
      "text/plain": [
       "0.13106796116504854"
      ]
     },
     "execution_count": 10,
     "metadata": {},
     "output_type": "execute_result"
    }
   ],
   "source": [
    "MyopiaData['MYOPIC'].mean() #13.1 of cases are myopic"
   ]
  },
  {
   "cell_type": "markdown",
   "metadata": {},
   "source": [
    "#### Based on the result you found above, is your prediction precision good or bad?"
   ]
  },
  {
   "cell_type": "markdown",
   "metadata": {},
   "source": [
    "Answer: I think our prediction precision is good since the measure accuracy rate is around 88%."
   ]
  },
  {
   "cell_type": "markdown",
   "metadata": {},
   "source": [
    "#### Imagine you would like to decrease your False Positive Rate. Change threshhold and show how FPR, FNR, and total error change by changing Threshhold."
   ]
  },
  {
   "cell_type": "code",
   "execution_count": 11,
   "metadata": {},
   "outputs": [],
   "source": [
    "def PredictThreshhold(Predictprob, Threshhold): \n",
    "        y_predict = 0\n",
    "        if (Predictprob >= Threshhold):\n",
    "            y_predict = 1\n",
    "        return y_predict\n",
    "   "
   ]
  },
  {
   "cell_type": "code",
   "execution_count": 12,
   "metadata": {},
   "outputs": [
    {
     "name": "stdout",
     "output_type": "stream",
     "text": [
      "[[470  67]\n",
      " [ 21  60]]\n"
     ]
    }
   ],
   "source": [
    "y_hat_probability = lm.predict_proba(X1).T[1]\n",
    "# Set Thresshold = 0.2\n",
    "y_hat_predict_threshhold= []\n",
    "for i in range(0,len(y_hat_probability)):\n",
    "        y_hat_predict_threshhold.append(PredictThreshhold(y_hat_probability[i], .2))\n",
    "print(confusion_matrix(y, y_hat_predict_threshhold))"
   ]
  },
  {
   "cell_type": "code",
   "execution_count": 13,
   "metadata": {},
   "outputs": [
    {
     "name": "stdout",
     "output_type": "stream",
     "text": [
      "[[524  13]\n",
      " [ 53  28]]\n"
     ]
    }
   ],
   "source": [
    "# Set Thresshold = 0.5\n",
    "y_hat_predict_threshhold= []\n",
    "for i in range(0,len(y_hat_probability)):\n",
    "        y_hat_predict_threshhold.append(PredictThreshhold(y_hat_probability[i], .5))\n",
    "print(confusion_matrix(y, y_hat_predict_threshhold))"
   ]
  },
  {
   "cell_type": "code",
   "execution_count": 14,
   "metadata": {},
   "outputs": [
    {
     "name": "stdout",
     "output_type": "stream",
     "text": [
      "[[537   0]\n",
      " [ 71  10]]\n"
     ]
    }
   ],
   "source": [
    "# Set Thresshold = 0.75\n",
    "y_hat_predict_threshhold= []\n",
    "for i in range(0,len(y_hat_probability)):\n",
    "        y_hat_predict_threshhold.append(PredictThreshhold(y_hat_probability[i], .75))\n",
    "print(confusion_matrix(y, y_hat_predict_threshhold))"
   ]
  },
  {
   "cell_type": "markdown",
   "metadata": {},
   "source": [
    "Answer: As the Thresshold increase, the False Positive Rate will decrease. Also, the False Negative Rate will increase, but the total Error won't change a lot. "
   ]
  },
  {
   "cell_type": "markdown",
   "metadata": {},
   "source": [
    "#### Now let's run a logistic regression line on X2 and see if we can confirm our Grandmothers' claims! Use StatsModels api."
   ]
  },
  {
   "cell_type": "code",
   "execution_count": 15,
   "metadata": {},
   "outputs": [
    {
     "name": "stdout",
     "output_type": "stream",
     "text": [
      "Optimization terminated successfully.\n",
      "         Current function value: 0.354054\n",
      "         Iterations 19\n"
     ]
    },
    {
     "name": "stderr",
     "output_type": "stream",
     "text": [
      "C:\\ProgramData\\Anaconda3\\lib\\site-packages\\statsmodels\\base\\model.py:1286: RuntimeWarning: invalid value encountered in sqrt\n",
      "  bse_ = np.sqrt(np.diag(self.cov_params()))\n",
      "C:\\ProgramData\\Anaconda3\\lib\\site-packages\\scipy\\stats\\_distn_infrastructure.py:877: RuntimeWarning: invalid value encountered in greater\n",
      "  return (self.a < x) & (x < self.b)\n",
      "C:\\ProgramData\\Anaconda3\\lib\\site-packages\\scipy\\stats\\_distn_infrastructure.py:877: RuntimeWarning: invalid value encountered in less\n",
      "  return (self.a < x) & (x < self.b)\n",
      "C:\\ProgramData\\Anaconda3\\lib\\site-packages\\scipy\\stats\\_distn_infrastructure.py:1831: RuntimeWarning: invalid value encountered in less_equal\n",
      "  cond2 = cond0 & (x <= self.a)\n"
     ]
    },
    {
     "data": {
      "text/html": [
       "<table class=\"simpletable\">\n",
       "<caption>Logit Regression Results</caption>\n",
       "<tr>\n",
       "  <th>Dep. Variable:</th>        <td>MYOPIC</td>      <th>  No. Observations:  </th>  <td>   618</td>  \n",
       "</tr>\n",
       "<tr>\n",
       "  <th>Model:</th>                 <td>Logit</td>      <th>  Df Residuals:      </th>  <td>   608</td>  \n",
       "</tr>\n",
       "<tr>\n",
       "  <th>Method:</th>                 <td>MLE</td>       <th>  Df Model:          </th>  <td>     9</td>  \n",
       "</tr>\n",
       "<tr>\n",
       "  <th>Date:</th>            <td>Sat, 11 Apr 2020</td> <th>  Pseudo R-squ.:     </th>  <td>0.08846</td> \n",
       "</tr>\n",
       "<tr>\n",
       "  <th>Time:</th>                <td>17:14:06</td>     <th>  Log-Likelihood:    </th> <td> -218.81</td> \n",
       "</tr>\n",
       "<tr>\n",
       "  <th>converged:</th>             <td>True</td>       <th>  LL-Null:           </th> <td> -240.04</td> \n",
       "</tr>\n",
       "<tr>\n",
       "  <th>Covariance Type:</th>     <td>nonrobust</td>    <th>  LLR p-value:       </th> <td>2.700e-06</td>\n",
       "</tr>\n",
       "</table>\n",
       "<table class=\"simpletable\">\n",
       "<tr>\n",
       "      <td></td>         <th>coef</th>     <th>std err</th>      <th>z</th>      <th>P>|z|</th>  <th>[0.025</th>    <th>0.975]</th>  \n",
       "</tr>\n",
       "<tr>\n",
       "  <th>AGE</th>       <td>    0.2744</td> <td>    0.193</td> <td>    1.423</td> <td> 0.155</td> <td>   -0.104</td> <td>    0.652</td>\n",
       "</tr>\n",
       "<tr>\n",
       "  <th>GENDER</th>    <td>    0.4241</td> <td>    0.265</td> <td>    1.599</td> <td> 0.110</td> <td>   -0.096</td> <td>    0.944</td>\n",
       "</tr>\n",
       "<tr>\n",
       "  <th>SPORTHR</th>   <td>   -0.0425</td> <td>    0.018</td> <td>   -2.329</td> <td> 0.020</td> <td>   -0.078</td> <td>   -0.007</td>\n",
       "</tr>\n",
       "<tr>\n",
       "  <th>READHR</th>    <td>    0.0896</td> <td>      nan</td> <td>      nan</td> <td>   nan</td> <td>      nan</td> <td>      nan</td>\n",
       "</tr>\n",
       "<tr>\n",
       "  <th>COMPHR</th>    <td>    0.0295</td> <td>      nan</td> <td>      nan</td> <td>   nan</td> <td>      nan</td> <td>      nan</td>\n",
       "</tr>\n",
       "<tr>\n",
       "  <th>STUDYHR</th>   <td>   -0.1104</td> <td>      nan</td> <td>      nan</td> <td>   nan</td> <td>      nan</td> <td>      nan</td>\n",
       "</tr>\n",
       "<tr>\n",
       "  <th>TVHR</th>      <td>    0.0048</td> <td>      nan</td> <td>      nan</td> <td>   nan</td> <td>      nan</td> <td>      nan</td>\n",
       "</tr>\n",
       "<tr>\n",
       "  <th>DIOPTERHR</th> <td>    0.0015</td> <td>      nan</td> <td>      nan</td> <td>   nan</td> <td>      nan</td> <td>      nan</td>\n",
       "</tr>\n",
       "<tr>\n",
       "  <th>MOMMY</th>     <td>    0.8701</td> <td>    0.262</td> <td>    3.317</td> <td> 0.001</td> <td>    0.356</td> <td>    1.384</td>\n",
       "</tr>\n",
       "<tr>\n",
       "  <th>DADMY</th>     <td>    1.0250</td> <td>    0.265</td> <td>    3.864</td> <td> 0.000</td> <td>    0.505</td> <td>    1.545</td>\n",
       "</tr>\n",
       "<tr>\n",
       "  <th>Intercept</th> <td>   -4.7493</td> <td>    1.287</td> <td>   -3.689</td> <td> 0.000</td> <td>   -7.273</td> <td>   -2.226</td>\n",
       "</tr>\n",
       "</table>"
      ],
      "text/plain": [
       "<class 'statsmodels.iolib.summary.Summary'>\n",
       "\"\"\"\n",
       "                           Logit Regression Results                           \n",
       "==============================================================================\n",
       "Dep. Variable:                 MYOPIC   No. Observations:                  618\n",
       "Model:                          Logit   Df Residuals:                      608\n",
       "Method:                           MLE   Df Model:                            9\n",
       "Date:                Sat, 11 Apr 2020   Pseudo R-squ.:                 0.08846\n",
       "Time:                        17:14:06   Log-Likelihood:                -218.81\n",
       "converged:                       True   LL-Null:                       -240.04\n",
       "Covariance Type:            nonrobust   LLR p-value:                 2.700e-06\n",
       "==============================================================================\n",
       "                 coef    std err          z      P>|z|      [0.025      0.975]\n",
       "------------------------------------------------------------------------------\n",
       "AGE            0.2744      0.193      1.423      0.155      -0.104       0.652\n",
       "GENDER         0.4241      0.265      1.599      0.110      -0.096       0.944\n",
       "SPORTHR       -0.0425      0.018     -2.329      0.020      -0.078      -0.007\n",
       "READHR         0.0896        nan        nan        nan         nan         nan\n",
       "COMPHR         0.0295        nan        nan        nan         nan         nan\n",
       "STUDYHR       -0.1104        nan        nan        nan         nan         nan\n",
       "TVHR           0.0048        nan        nan        nan         nan         nan\n",
       "DIOPTERHR      0.0015        nan        nan        nan         nan         nan\n",
       "MOMMY          0.8701      0.262      3.317      0.001       0.356       1.384\n",
       "DADMY          1.0250      0.265      3.864      0.000       0.505       1.545\n",
       "Intercept     -4.7493      1.287     -3.689      0.000      -7.273      -2.226\n",
       "==============================================================================\n",
       "\"\"\""
      ]
     },
     "execution_count": 15,
     "metadata": {},
     "output_type": "execute_result"
    }
   ],
   "source": [
    "import statsmodels.api as sm\n",
    "MyopiaData['Intercept'] = 1\n",
    "X2 = MyopiaData[['AGE','GENDER','SPORTHR','READHR','COMPHR','STUDYHR','TVHR','DIOPTERHR','MOMMY','DADMY', 'Intercept']]\n",
    "y = MyopiaData['MYOPIC']\n",
    "\n",
    "logit = sm.Logit(y, X2)\n",
    "result = logit.fit()\n",
    "result.summary()"
   ]
  },
  {
   "cell_type": "markdown",
   "metadata": {},
   "source": [
    "#### Interpret your results specifically on StudyHr, TVH, and COMPHR: "
   ]
  },
  {
   "cell_type": "markdown",
   "metadata": {},
   "source": [
    "Answer: Before the standarlization, I think although TV and Computer hour has positive influence on the probability of get Myopic and Study hour has negative influence of the probability, the impact is not significant camparing to Age and Gender. "
   ]
  },
  {
   "cell_type": "markdown",
   "metadata": {},
   "source": [
    "#### Now it's time for regularization and choosing the best predictors:"
   ]
  },
  {
   "cell_type": "code",
   "execution_count": 16,
   "metadata": {},
   "outputs": [],
   "source": [
    "#Let's Standardize our outputs first\n",
    "def Standardize(X):\n",
    "    X_Max = X.max()\n",
    "    X_Min = X.min()\n",
    "    X_Standardized = (X-X_Min)/(X_Max - X_Min)\n",
    "    return X_Standardized\n",
    "\n",
    "MyopiaData['AGE_STD'] = Standardize(MyopiaData.AGE)\n",
    "MyopiaData['SPORTHR_STD'] = Standardize(MyopiaData.SPORTHR)\n",
    "MyopiaData['READHR_STD'] = Standardize(MyopiaData.READHR)\n",
    "MyopiaData['COMPHR_STD'] = Standardize(MyopiaData.COMPHR)\n",
    "MyopiaData['STUDYHR_STD'] = Standardize(MyopiaData.STUDYHR)\n",
    "MyopiaData['TVHR_STD'] = Standardize(MyopiaData.TVHR)\n",
    "MyopiaData['DIOPTERHR_STD'] = Standardize(MyopiaData.DIOPTERHR)\n",
    "\n",
    "y = MyopiaData['MYOPIC']\n",
    "X3 = MyopiaData[['AGE_STD','GENDER','SPORTHR_STD','READHR_STD','COMPHR_STD','STUDYHR_STD',\n",
    "                 'TVHR_STD','DIOPTERHR_STD','MOMMY','DADMY']]\n"
   ]
  },
  {
   "cell_type": "code",
   "execution_count": 17,
   "metadata": {},
   "outputs": [
    {
     "data": {
      "image/png": "[encoded data removed]",
      "text/plain": [
       "<Figure size 432x288 with 1 Axes>"
      ]
     },
     "metadata": {
      "needs_background": "light"
     },
     "output_type": "display_data"
    },
    {
     "name": "stdout",
     "output_type": "stream",
     "text": [
      "Our optimal C is 0.000000\n",
      "Our accuracy at optimal C is 0.868945\n"
     ]
    }
   ],
   "source": [
    "# Try testing and plot\n",
    "c_list = np.logspace(-10,10,21) \n",
    "c_index = np.linspace(-10,10,21)\n",
    "#C is just the inverse of Lambda - the smaller the C - the stronger the\n",
    "#regulatization. The smaller C's choose less variables\n",
    "cv_scores = []\n",
    "for c_score in c_list:\n",
    "    lm = LogisticRegression(C = c_score,  solver = 'liblinear', max_iter  = 10000, penalty = 'l1')\n",
    "    cv_scores.append(cross_val_score(lm, X3, y,cv = 5, scoring = 'accuracy').mean())\n",
    "\n",
    "plt.plot(c_index, cv_scores)\n",
    "plt.show()\n",
    "\n",
    "print(\"Our optimal C is %f\" %c_list[np.argmax(cv_scores)])   \n",
    "print(\"Our accuracy at optimal C is %f\" %np.max(cv_scores))\n"
   ]
  },
  {
   "cell_type": "code",
   "execution_count": 18,
   "metadata": {},
   "outputs": [
    {
     "data": {
      "image/png": "[encoded data removed]",
      "text/plain": [
       "<Figure size 432x288 with 1 Axes>"
      ]
     },
     "metadata": {
      "needs_background": "light"
     },
     "output_type": "display_data"
    },
    {
     "name": "stdout",
     "output_type": "stream",
     "text": [
      "Our optimal C is 0.316228\n",
      "Our accuracy at optimal C is 0.868945\n"
     ]
    }
   ],
   "source": [
    "### You can localize your search once you have an idea of where to search for the optimal solution\n",
    "\n",
    "c_list = np.logspace(-0.5,2.5,200) \n",
    "c_index = np.linspace(-0.5,2.5,200)\n",
    "cv_scores = []\n",
    "for c_score in c_list:\n",
    "    lm = LogisticRegression(C = c_score,  solver = 'liblinear', max_iter  = 10000, penalty = 'l1')\n",
    "    cv_scores.append(cross_val_score(lm, X3, y,cv = 5, scoring = 'accuracy').mean())\n",
    "\n",
    "plt.plot(c_index, cv_scores)\n",
    "plt.show()\n",
    "\n",
    "print(\"Our optimal C is %f\" %c_list[np.argmax(cv_scores)])   \n",
    "print(\"Our accuracy at optimal C is %f\" %np.max(cv_scores))"
   ]
  },
  {
   "cell_type": "code",
   "execution_count": 19,
   "metadata": {},
   "outputs": [
    {
     "name": "stdout",
     "output_type": "stream",
     "text": [
      "[[ 0.          0.09262312 -0.47605371  0.          0.          0.\n",
      "   0.          0.          0.51483392  0.61951277]]\n"
     ]
    }
   ],
   "source": [
    "lm = LogisticRegression(C = 0.316228,  solver = 'liblinear', max_iter  = 10000, penalty = 'l1')\n",
    "lm.fit(X3,y)\n",
    "print(lm.coef_)"
   ]
  },
  {
   "cell_type": "code",
   "execution_count": 20,
   "metadata": {},
   "outputs": [
    {
     "data": {
      "text/plain": [
       "[(-0.4760537100456939, 'SPORTHR_STD'),\n",
       " (0.0, 'AGE_STD'),\n",
       " (0.0, 'COMPHR_STD'),\n",
       " (0.0, 'DIOPTERHR_STD'),\n",
       " (0.0, 'READHR_STD'),\n",
       " (0.0, 'STUDYHR_STD'),\n",
       " (0.0, 'TVHR_STD'),\n",
       " (0.09262312078047596, 'GENDER'),\n",
       " (0.5148339184339927, 'MOMMY'),\n",
       " (0.6195127668797303, 'DADMY')]"
      ]
     },
     "execution_count": 20,
     "metadata": {},
     "output_type": "execute_result"
    }
   ],
   "source": [
    "#get the column names\n",
    "NameOfVariables = X3.columns.values\n",
    "#sort the variables\n",
    "Var_coef = zip(lm.coef_[0,:],NameOfVariables)\n",
    "sorted(Var_coef)"
   ]
  },
  {
   "cell_type": "markdown",
   "metadata": {},
   "source": [
    "#### What is your conclusions about your Grandmothers' and some other Drs' claims?"
   ]
  },
  {
   "cell_type": "markdown",
   "metadata": {},
   "source": [
    "Answer: Based on the conclusion, the Grandmothers' view is unsupport by our model. Sport hour, Gender, Daddy and Mommy are the most important variables for Myopia."
   ]
  },
  {
   "cell_type": "markdown",
   "metadata": {},
   "source": [
    "#### Draw ROC curve for your best tuned model. "
   ]
  },
  {
   "cell_type": "code",
   "execution_count": 21,
   "metadata": {},
   "outputs": [
    {
     "data": {
      "text/plain": [
       "array([[537,   0],\n",
       "       [ 81,   0]], dtype=int64)"
      ]
     },
     "execution_count": 21,
     "metadata": {},
     "output_type": "execute_result"
    }
   ],
   "source": [
    "y_hat = lm.predict(X3)\n",
    "confusion_matrix(y, y_hat)"
   ]
  },
  {
   "cell_type": "code",
   "execution_count": 22,
   "metadata": {},
   "outputs": [
    {
     "name": "stdout",
     "output_type": "stream",
     "text": [
      "0.6884612731912545\n"
     ]
    },
    {
     "data": {
      "image/png": "[encoded data removed]",
      "text/plain": [
       "<Figure size 432x288 with 1 Axes>"
      ]
     },
     "metadata": {
      "needs_background": "light"
     },
     "output_type": "display_data"
    }
   ],
   "source": [
    "from sklearn.metrics import roc_curve, auc,roc_auc_score\n",
    "y_hat_probability = lm.predict_proba(X3).T[1]  #T[1] returns probability of belonging to class\n",
    "print(roc_auc_score(y, y_hat_probability))\n",
    "vals = roc_curve(y, y_hat_probability)\n",
    "\n",
    "plt.plot(vals[0], vals[1])\n",
    "plt.xlabel('False Positive Rate')\n",
    "plt.ylabel('True Positive Rate')\n",
    "plt.show()"
   ]
  },
  {
   "cell_type": "code",
   "execution_count": null,
   "metadata": {},
   "outputs": [],
   "source": []
  }
 ],
 "metadata": {
  "kernelspec": {
   "display_name": "Python 3",
   "language": "python",
   "name": "python3"
  },
  "language_info": {
   "codemirror_mode": {
    "name": "ipython",
    "version": 3
   },
   "file_extension": ".py",
   "mimetype": "text/x-python",
   "name": "python",
   "nbconvert_exporter": "python",
   "pygments_lexer": "ipython3",
   "version": "3.7.3"
  }
 },
 "nbformat": 4,
 "nbformat_minor": 1
}
